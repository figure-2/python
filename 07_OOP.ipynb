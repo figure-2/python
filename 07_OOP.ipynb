{
 "cells": [
  {
   "cell_type": "markdown",
   "id": "353d892f-fa9f-4120-a474-6765bb4a6d00",
   "metadata": {},
   "source": [
    "# 객체지향 프로그래밍(OOP)\n",
    "\n",
    "- 클래스(class) : 같은 종류의 집단에 속하는 속성 (attribute)과 행위(method)를 **정의**한것\n",
    "- 인스턴트(instance) : 클래스를 실제로 메모리상에 할당한 것\n",
    "- 속성 (attribute) : 클래스/인스턴스가 가지고 있는 **데이터**/값\n",
    "- 행위 (method) : 클래스/인스턴스가 가지고 있는 함수/기능 , "
   ]
  },
  {
   "cell_type": "code",
   "execution_count": 1,
   "id": "c1973f6b-aa0c-42a8-9148-8930c013f57b",
   "metadata": {},
   "outputs": [
    {
     "name": "stdout",
     "output_type": "stream",
     "text": [
      "(1+2j)\n"
     ]
    }
   ],
   "source": [
    "number = 1 + 2j\n",
    "print(number)"
   ]
  },
  {
   "cell_type": "code",
   "execution_count": 3,
   "id": "55642dc5-7a62-4e31-9ae2-b7dfd69bbb59",
   "metadata": {},
   "outputs": [
    {
     "name": "stdout",
     "output_type": "stream",
     "text": [
      "1.0\n",
      "2.0\n"
     ]
    }
   ],
   "source": [
    "print(number.real)\n",
    "print(number.imag)"
   ]
  },
  {
   "cell_type": "code",
   "execution_count": 4,
   "id": "f3361681-4610-4dc8-9198-adc201d9a4e2",
   "metadata": {},
   "outputs": [
    {
     "name": "stdout",
     "output_type": "stream",
     "text": [
      "<class 'complex'>\n"
     ]
    }
   ],
   "source": [
    "print(type(number))"
   ]
  },
  {
   "cell_type": "code",
   "execution_count": 6,
   "id": "0e9a339e-0bfc-41ae-8090-e451435d1859",
   "metadata": {},
   "outputs": [
    {
     "name": "stdout",
     "output_type": "stream",
     "text": [
      "<class 'list'>\n"
     ]
    }
   ],
   "source": [
    "my_list = [1, 2, 3, 4, 5]\n",
    "print(type(my_list))\n",
    "my_list.sort()"
   ]
  },
  {
   "cell_type": "markdown",
   "id": "c4a2c78b-f677-4474-a82d-2e4ebed4db34",
   "metadata": {},
   "source": [
    "2/37"
   ]
  },
  {
   "cell_type": "code",
   "execution_count": 7,
   "id": "84043e4b-52c1-4b45-ae43-4dbe0b1077f4",
   "metadata": {},
   "outputs": [],
   "source": [
    "power = False\n",
    "number = '010-1234-5678'\n",
    "book = {\n",
    "    '홍길동' : '010-1111-1111',\n",
    "    '이순신' : '010-2222-2222',\n",
    "}\n",
    "model = 'iphone13'"
   ]
  },
  {
   "cell_type": "code",
   "execution_count": 8,
   "id": "0c08c158-adb3-4bce-aff6-21851f114ab8",
   "metadata": {},
   "outputs": [],
   "source": [
    "def on():\n",
    "    global power\n",
    "    if power == False:\n",
    "        power = True\n",
    "        print('핸드폰이 커졌습니다.')"
   ]
  },
  {
   "cell_type": "code",
   "execution_count": 9,
   "id": "f7c01709-9fa9-4840-a45e-c7340d9e6843",
   "metadata": {},
   "outputs": [
    {
     "name": "stdout",
     "output_type": "stream",
     "text": [
      "핸드폰이 커졌습니다.\n"
     ]
    }
   ],
   "source": [
    "on()"
   ]
  },
  {
   "cell_type": "markdown",
   "id": "4fae8f88-9096-4fe3-877e-5304fc6c62a5",
   "metadata": {},
   "source": [
    "## Class\n",
    "\n",
    "- 클래스 선언\n",
    "```python\n",
    "class ClassName:\n",
    "    attribute = value\n",
    "\n",
    "    def method_name(self):\n",
    "        code\n",
    "```\n",
    "\n",
    "- 인스턴스화\n",
    "```python\n",
    "ClassName()\n",
    "```"
   ]
  },
  {
   "cell_type": "code",
   "execution_count": 13,
   "id": "db6878e2-f44f-4632-807d-5376ecbbf16f",
   "metadata": {},
   "outputs": [],
   "source": [
    "# 선언\n",
    "class MyClass:\n",
    "    name = 'kim'\n",
    "\n",
    "    def hello(self):\n",
    "        return 'hello'"
   ]
  },
  {
   "cell_type": "code",
   "execution_count": 15,
   "id": "49c41f0f-6e34-4dee-803c-d8a979c37e42",
   "metadata": {},
   "outputs": [
    {
     "name": "stdout",
     "output_type": "stream",
     "text": [
      "kim\n",
      "hello\n",
      "kim\n",
      "hello\n"
     ]
    }
   ],
   "source": [
    "# 인스턴스화\n",
    "a = MyClass()\n",
    "\n",
    "print(a.name)\n",
    "print(a.hello())\n",
    "\n",
    "b = MyClass()\n",
    "\n",
    "print(b.name)\n",
    "print(b.hello())"
   ]
  },
  {
   "cell_type": "code",
   "execution_count": 45,
   "id": "45df4f41-4bf2-4c80-9df6-fb9377d0f6f6",
   "metadata": {},
   "outputs": [],
   "source": [
    "class Phone:\n",
    "    power = False\n",
    "    number = '010-0000-0000'\n",
    "    book = {}\n",
    "    model = ''\n",
    "\n",
    "    def on (self):\n",
    "        if self.power == False:\n",
    "            self.power = True\n",
    "\n",
    "    def off(self):\n",
    "        if self.power == True:\n",
    "            self.power = False\n",
    "\n",
    "    def call(self, target):\n",
    "        if self.power == True:\n",
    "            print(f'내 번호는 (self.number)입니다.')\n",
    "            print(f'{target} 번호로 전화거는중')\n",
    "        else:\n",
    "            print('핸드폰을 켜주세요.')"
   ]
  },
  {
   "cell_type": "code",
   "execution_count": 46,
   "id": "940b46fa-5b6f-4855-b89b-4a529cdb09a2",
   "metadata": {},
   "outputs": [],
   "source": [
    "my_phone = Phone()\n",
    "your_phone = Phone()"
   ]
  },
  {
   "cell_type": "code",
   "execution_count": 53,
   "id": "acf59364-b27a-4e4e-94fd-a15829e678be",
   "metadata": {},
   "outputs": [
    {
     "name": "stdout",
     "output_type": "stream",
     "text": [
      "010-1234-1234\n"
     ]
    }
   ],
   "source": [
    "my_phone.number = '010-1234-1234'\n",
    "print(my_phone.number)"
   ]
  },
  {
   "cell_type": "code",
   "execution_count": 54,
   "id": "aa4a4082-78de-47b4-aa41-c52ccd4e36d3",
   "metadata": {},
   "outputs": [
    {
     "data": {
      "text/plain": [
       "'010-0000-0000'"
      ]
     },
     "execution_count": 54,
     "metadata": {},
     "output_type": "execute_result"
    }
   ],
   "source": [
    "your_phone.number"
   ]
  },
  {
   "cell_type": "code",
   "execution_count": 55,
   "id": "b25c83e8-484c-48a5-aaac-c5d41af92827",
   "metadata": {},
   "outputs": [
    {
     "data": {
      "text/plain": [
       "True"
      ]
     },
     "execution_count": 55,
     "metadata": {},
     "output_type": "execute_result"
    }
   ],
   "source": [
    "my_phone.power"
   ]
  },
  {
   "cell_type": "code",
   "execution_count": 56,
   "id": "bbdffaee-3067-42fb-b456-de2f1901a431",
   "metadata": {},
   "outputs": [],
   "source": [
    "my_phone.on()"
   ]
  },
  {
   "cell_type": "code",
   "execution_count": 57,
   "id": "1575591b-a848-4980-993b-efb1af3b36c6",
   "metadata": {},
   "outputs": [
    {
     "data": {
      "text/plain": [
       "True"
      ]
     },
     "execution_count": 57,
     "metadata": {},
     "output_type": "execute_result"
    }
   ],
   "source": [
    "my_phone.power"
   ]
  },
  {
   "cell_type": "code",
   "execution_count": 58,
   "id": "b503bc37-929b-4fd0-8037-1a582d1bb77e",
   "metadata": {},
   "outputs": [
    {
     "name": "stdout",
     "output_type": "stream",
     "text": [
      "내 번호는 (self.number)입니다.\n",
      "114 번호로 전화거는중\n"
     ]
    }
   ],
   "source": [
    "my_phone.call('114')"
   ]
  },
  {
   "cell_type": "code",
   "execution_count": 81,
   "id": "37ae3fe4-ea59-4814-971a-e713cb9cf6d2",
   "metadata": {},
   "outputs": [],
   "source": [
    "# 연습\n",
    "\n",
    "class MyList:\n",
    "    data = []\n",
    "\n",
    "    def append(self, item):\n",
    "        self.data = self.data + [item] #item이라는 원소를 추가\n",
    "\n",
    "    def pop(self): #pop은 data의 제일 마지막 요소를 삭제하고, 삭제된 요소를 리턴\n",
    "        num = self.date[-1]\n",
    "        self.date = self.data[:-1]\n",
    "        return num\n",
    "        "
   ]
  },
  {
   "cell_type": "code",
   "execution_count": 82,
   "id": "b6948375-5e7b-47dc-8200-25a5f444fe57",
   "metadata": {},
   "outputs": [
    {
     "name": "stdout",
     "output_type": "stream",
     "text": [
      "[]\n",
      "[5, 1, 10]\n",
      "[5, 1, 10]\n"
     ]
    }
   ],
   "source": [
    "list_a = MyList() #  MyList라는 인스턴트를 새로 만듬\n",
    "print(list_a.data)\n",
    "\n",
    "list_a.append(5)\n",
    "list_a.append(1)\n",
    "list_a.append(10)\n",
    "print(list_a.data)\n",
    "\n",
    "#print(list_a.pop())\n",
    "print(list_a.data)"
   ]
  },
  {
   "cell_type": "code",
   "execution_count": 83,
   "id": "d0b050ec-8946-414a-aa9c-c6a5dea217fb",
   "metadata": {},
   "outputs": [
    {
     "name": "stdout",
     "output_type": "stream",
     "text": [
      "[]\n",
      "[2, 4, 6]\n",
      "[2, 4, 6]\n"
     ]
    }
   ],
   "source": [
    "list_b = MyList()\n",
    "print(list_b.data)\n",
    "\n",
    "list_b.append(2)\n",
    "list_b.append(4)\n",
    "list_b.append(6)\n",
    "print(list_b.data)\n",
    "\n",
    "#print(list_b.pop())\n",
    "print(list_b.data)"
   ]
  },
  {
   "cell_type": "code",
   "execution_count": null,
   "id": "52e39779-4bab-4a18-8d7f-b59f7d22a9c0",
   "metadata": {},
   "outputs": [],
   "source": []
  },
  {
   "cell_type": "code",
   "execution_count": 84,
   "id": "7ca0312a-1d0f-4e98-9fc3-200885df909d",
   "metadata": {},
   "outputs": [
    {
     "data": {
      "text/plain": [
       "'kim'"
      ]
     },
     "execution_count": 84,
     "metadata": {},
     "output_type": "execute_result"
    }
   ],
   "source": [
    "# 정리\n",
    "class Person : # => 클래스 정의 (선언) : 클래스 객체 생성\n",
    "    name = 'kim' # => 속성 (attribute) : 변수/값/데이터\n",
    "\n",
    "    def hello(self): # => 행동(method) : 함수/기능\n",
    "        return self.name\n",
    "\n",
    "p = Person() # => 인스턴스화 / 인스턴스 객체를 생성\n",
    "p.name # => 속성을 호출\n",
    "p.hello() # => 메소드를 실행"
   ]
  },
  {
   "cell_type": "code",
   "execution_count": null,
   "id": "011de6af-ed78-4bc2-9d47-702b9c38f7a6",
   "metadata": {},
   "outputs": [],
   "source": [
    "#선풍기 만들기\n",
    "class Fan:\n",
    "    power = False\n",
    "    turnLR = False\n",
    "    turnUD = False\n",
    "    endres = False\n",
    "\n",
    "    def on (self):\n",
    "        if self.power == False:\n",
    "            self.power = True:\n",
    "\n",
    "    def off (self):\n",
    "        if self.power == True:\n",
    "            self.power = False\n",
    "\n",
    "    def signal1 (self, target):\n",
    "        if self.turn LR == True:\n",
    "            print(f'좌우 회전 중입니다.')\n",
    "        else:\n",
    "            print(f'선풍기를 켜주세요.')\n",
    "    \n",
    "    \n",
    "\n",
    "f = Fan()"
   ]
  },
  {
   "cell_type": "code",
   "execution_count": 99,
   "id": "51247e45-b2a1-4237-bf12-3b24cfd0332d",
   "metadata": {},
   "outputs": [
    {
     "name": "stdout",
     "output_type": "stream",
     "text": [
      "현재 상태는 약풍입니다.\n",
      "현재 상태는 중풍입니다.\n",
      "현재 상태는  중풍에 회전 정지입니다.\n",
      "현재 상태는  중풍에 회전 중입니다.\n"
     ]
    }
   ],
   "source": [
    "class Fan:\n",
    "    power = ['꺼짐', '약풍', '중풍', '강풍']\n",
    "    status = 0\n",
    "    turn = ['회전 중', '회전 정지']\n",
    "    status1 = 0\n",
    "    \n",
    "\n",
    "    def button(self):\n",
    "        #self.status += 1\n",
    "        self.status = (self.status + 1) % 4\n",
    "        print(f'현재 상태는 {self.power[self.status]}입니다.')\n",
    "\n",
    "    def button2(self):\n",
    "        self.status1 = (self.status1 + 1) % 2\n",
    "        print(f'현재 상태는  {self.power[self.status]}에 {self.turn[self.status1]}입니다.')\n",
    "\n",
    "f = Fan()\n",
    "\n",
    "f.button()\n",
    "f.button()\n",
    "f.button2()\n",
    "f.button2()"
   ]
  },
  {
   "cell_type": "code",
   "execution_count": null,
   "id": "448fd77e-366d-4f9a-85d8-bab6861f7c9d",
   "metadata": {},
   "outputs": [],
   "source": []
  }
 ],
 "metadata": {
  "kernelspec": {
   "display_name": "Python 3 (ipykernel)",
   "language": "python",
   "name": "python3"
  },
  "language_info": {
   "codemirror_mode": {
    "name": "ipython",
    "version": 3
   },
   "file_extension": ".py",
   "mimetype": "text/x-python",
   "name": "python",
   "nbconvert_exporter": "python",
   "pygments_lexer": "ipython3",
   "version": "3.11.4"
  }
 },
 "nbformat": 4,
 "nbformat_minor": 5
}
