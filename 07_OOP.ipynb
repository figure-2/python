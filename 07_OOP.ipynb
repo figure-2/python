{
 "cells": [
  {
   "cell_type": "markdown",
   "id": "353d892f-fa9f-4120-a474-6765bb4a6d00",
   "metadata": {},
   "source": [
    "# 객체지향 프로그래밍(OOP)\n",
    "\n",
    "- 클래스(class) : 같은 종류의 집단에 속하는 속성 (attribute)과 행위(method)를 **정의**한것\n",
    "- 인스턴트(instance) : 클래스를 실제로 메모리상에 할당한 것\n",
    "- 속성 (attribute) : 클래스/인스턴스가 가지고 있는 **데이터**/값\n",
    "- 행위 (method) : 클래스/인스턴스가 가지고 있는 함수/기능 , "
   ]
  },
  {
   "cell_type": "code",
   "execution_count": 1,
   "id": "c1973f6b-aa0c-42a8-9148-8930c013f57b",
   "metadata": {},
   "outputs": [
    {
     "name": "stdout",
     "output_type": "stream",
     "text": [
      "(1+2j)\n"
     ]
    }
   ],
   "source": [
    "number = 1 + 2j\n",
    "print(number)"
   ]
  },
  {
   "cell_type": "code",
   "execution_count": 3,
   "id": "55642dc5-7a62-4e31-9ae2-b7dfd69bbb59",
   "metadata": {},
   "outputs": [
    {
     "name": "stdout",
     "output_type": "stream",
     "text": [
      "1.0\n",
      "2.0\n"
     ]
    }
   ],
   "source": [
    "print(number.real)\n",
    "print(number.imag)"
   ]
  },
  {
   "cell_type": "code",
   "execution_count": 4,
   "id": "f3361681-4610-4dc8-9198-adc201d9a4e2",
   "metadata": {},
   "outputs": [
    {
     "name": "stdout",
     "output_type": "stream",
     "text": [
      "<class 'complex'>\n"
     ]
    }
   ],
   "source": [
    "print(type(number))"
   ]
  },
  {
   "cell_type": "code",
   "execution_count": 6,
   "id": "0e9a339e-0bfc-41ae-8090-e451435d1859",
   "metadata": {},
   "outputs": [
    {
     "name": "stdout",
     "output_type": "stream",
     "text": [
      "<class 'list'>\n"
     ]
    }
   ],
   "source": [
    "my_list = [1, 2, 3, 4, 5]\n",
    "print(type(my_list))\n",
    "my_list.sort()"
   ]
  },
  {
   "cell_type": "markdown",
   "id": "c4a2c78b-f677-4474-a82d-2e4ebed4db34",
   "metadata": {},
   "source": [
    "2/37"
   ]
  },
  {
   "cell_type": "code",
   "execution_count": 7,
   "id": "84043e4b-52c1-4b45-ae43-4dbe0b1077f4",
   "metadata": {},
   "outputs": [],
   "source": [
    "power = False\n",
    "number = '010-1234-5678'\n",
    "book = {\n",
    "    '홍길동' : '010-1111-1111',\n",
    "    '이순신' : '010-2222-2222',\n",
    "}\n",
    "model = 'iphone13'"
   ]
  },
  {
   "cell_type": "code",
   "execution_count": 8,
   "id": "0c08c158-adb3-4bce-aff6-21851f114ab8",
   "metadata": {},
   "outputs": [],
   "source": [
    "def on():\n",
    "    global power\n",
    "    if power == False:\n",
    "        power = True\n",
    "        print('핸드폰이 커졌습니다.')"
   ]
  },
  {
   "cell_type": "code",
   "execution_count": 9,
   "id": "f7c01709-9fa9-4840-a45e-c7340d9e6843",
   "metadata": {},
   "outputs": [
    {
     "name": "stdout",
     "output_type": "stream",
     "text": [
      "핸드폰이 커졌습니다.\n"
     ]
    }
   ],
   "source": [
    "on()"
   ]
  },
  {
   "cell_type": "markdown",
   "id": "4fae8f88-9096-4fe3-877e-5304fc6c62a5",
   "metadata": {},
   "source": [
    "## Class\n",
    "\n",
    "- 클래스 선언\n",
    "```python\n",
    "class ClassName:\n",
    "    attribute = value\n",
    "\n",
    "    def method_name(self):\n",
    "        code\n",
    "```\n",
    "\n",
    "- 인스턴스화\n",
    "```python\n",
    "ClassName()\n",
    "```"
   ]
  },
  {
   "cell_type": "code",
   "execution_count": 13,
   "id": "db6878e2-f44f-4632-807d-5376ecbbf16f",
   "metadata": {},
   "outputs": [],
   "source": [
    "# 선언\n",
    "class MyClass:\n",
    "    name = 'kim'\n",
    "\n",
    "    def hello(self):\n",
    "        return 'hello'"
   ]
  },
  {
   "cell_type": "code",
   "execution_count": 15,
   "id": "49c41f0f-6e34-4dee-803c-d8a979c37e42",
   "metadata": {},
   "outputs": [
    {
     "name": "stdout",
     "output_type": "stream",
     "text": [
      "kim\n",
      "hello\n",
      "kim\n",
      "hello\n"
     ]
    }
   ],
   "source": [
    "# 인스턴스화\n",
    "a = MyClass()\n",
    "\n",
    "print(a.name)\n",
    "print(a.hello())\n",
    "\n",
    "b = MyClass()\n",
    "\n",
    "print(b.name)\n",
    "print(b.hello())"
   ]
  },
  {
   "cell_type": "code",
   "execution_count": 45,
   "id": "45df4f41-4bf2-4c80-9df6-fb9377d0f6f6",
   "metadata": {},
   "outputs": [],
   "source": [
    "class Phone:\n",
    "    power = False\n",
    "    number = '010-0000-0000'\n",
    "    book = {}\n",
    "    model = ''\n",
    "\n",
    "    def on (self):\n",
    "        if self.power == False:\n",
    "            self.power = True\n",
    "\n",
    "    def off(self):\n",
    "        if self.power == True:\n",
    "            self.power = False\n",
    "\n",
    "    def call(self, target):\n",
    "        if self.power == True:\n",
    "            print(f'내 번호는 (self.number)입니다.')\n",
    "            print(f'{target} 번호로 전화거는중')\n",
    "        else:\n",
    "            print('핸드폰을 켜주세요.')"
   ]
  },
  {
   "cell_type": "code",
   "execution_count": 46,
   "id": "940b46fa-5b6f-4855-b89b-4a529cdb09a2",
   "metadata": {},
   "outputs": [],
   "source": [
    "my_phone = Phone()\n",
    "your_phone = Phone()"
   ]
  },
  {
   "cell_type": "code",
   "execution_count": 53,
   "id": "acf59364-b27a-4e4e-94fd-a15829e678be",
   "metadata": {},
   "outputs": [
    {
     "name": "stdout",
     "output_type": "stream",
     "text": [
      "010-1234-1234\n"
     ]
    }
   ],
   "source": [
    "my_phone.number = '010-1234-1234'\n",
    "print(my_phone.number)"
   ]
  },
  {
   "cell_type": "code",
   "execution_count": 54,
   "id": "aa4a4082-78de-47b4-aa41-c52ccd4e36d3",
   "metadata": {},
   "outputs": [
    {
     "data": {
      "text/plain": [
       "'010-0000-0000'"
      ]
     },
     "execution_count": 54,
     "metadata": {},
     "output_type": "execute_result"
    }
   ],
   "source": [
    "your_phone.number"
   ]
  },
  {
   "cell_type": "code",
   "execution_count": 55,
   "id": "b25c83e8-484c-48a5-aaac-c5d41af92827",
   "metadata": {},
   "outputs": [
    {
     "data": {
      "text/plain": [
       "True"
      ]
     },
     "execution_count": 55,
     "metadata": {},
     "output_type": "execute_result"
    }
   ],
   "source": [
    "my_phone.power"
   ]
  },
  {
   "cell_type": "code",
   "execution_count": 56,
   "id": "bbdffaee-3067-42fb-b456-de2f1901a431",
   "metadata": {},
   "outputs": [],
   "source": [
    "my_phone.on()"
   ]
  },
  {
   "cell_type": "code",
   "execution_count": 57,
   "id": "1575591b-a848-4980-993b-efb1af3b36c6",
   "metadata": {},
   "outputs": [
    {
     "data": {
      "text/plain": [
       "True"
      ]
     },
     "execution_count": 57,
     "metadata": {},
     "output_type": "execute_result"
    }
   ],
   "source": [
    "my_phone.power"
   ]
  },
  {
   "cell_type": "code",
   "execution_count": 58,
   "id": "b503bc37-929b-4fd0-8037-1a582d1bb77e",
   "metadata": {},
   "outputs": [
    {
     "name": "stdout",
     "output_type": "stream",
     "text": [
      "내 번호는 (self.number)입니다.\n",
      "114 번호로 전화거는중\n"
     ]
    }
   ],
   "source": [
    "my_phone.call('114')"
   ]
  },
  {
   "cell_type": "code",
   "execution_count": 81,
   "id": "37ae3fe4-ea59-4814-971a-e713cb9cf6d2",
   "metadata": {},
   "outputs": [],
   "source": [
    "# 연습\n",
    "\n",
    "class MyList:\n",
    "    data = []\n",
    "\n",
    "    def append(self, item):\n",
    "        self.data = self.data + [item] #item이라는 원소를 추가\n",
    "\n",
    "    def pop(self): #pop은 data의 제일 마지막 요소를 삭제하고, 삭제된 요소를 리턴\n",
    "        num = self.date[-1]\n",
    "        self.date = self.data[:-1]\n",
    "        return num\n",
    "        "
   ]
  },
  {
   "cell_type": "code",
   "execution_count": 82,
   "id": "b6948375-5e7b-47dc-8200-25a5f444fe57",
   "metadata": {},
   "outputs": [
    {
     "name": "stdout",
     "output_type": "stream",
     "text": [
      "[]\n",
      "[5, 1, 10]\n",
      "[5, 1, 10]\n"
     ]
    }
   ],
   "source": [
    "list_a = MyList() #  MyList라는 인스턴트를 새로 만듬\n",
    "print(list_a.data)\n",
    "\n",
    "list_a.append(5)\n",
    "list_a.append(1)\n",
    "list_a.append(10)\n",
    "print(list_a.data)\n",
    "\n",
    "#print(list_a.pop())\n",
    "print(list_a.data)"
   ]
  },
  {
   "cell_type": "code",
   "execution_count": 83,
   "id": "d0b050ec-8946-414a-aa9c-c6a5dea217fb",
   "metadata": {},
   "outputs": [
    {
     "name": "stdout",
     "output_type": "stream",
     "text": [
      "[]\n",
      "[2, 4, 6]\n",
      "[2, 4, 6]\n"
     ]
    }
   ],
   "source": [
    "list_b = MyList()\n",
    "print(list_b.data)\n",
    "\n",
    "list_b.append(2)\n",
    "list_b.append(4)\n",
    "list_b.append(6)\n",
    "print(list_b.data)\n",
    "\n",
    "#print(list_b.pop())\n",
    "print(list_b.data)"
   ]
  },
  {
   "cell_type": "code",
   "execution_count": null,
   "id": "52e39779-4bab-4a18-8d7f-b59f7d22a9c0",
   "metadata": {},
   "outputs": [],
   "source": []
  },
  {
   "cell_type": "code",
   "execution_count": 84,
   "id": "7ca0312a-1d0f-4e98-9fc3-200885df909d",
   "metadata": {},
   "outputs": [
    {
     "data": {
      "text/plain": [
       "'kim'"
      ]
     },
     "execution_count": 84,
     "metadata": {},
     "output_type": "execute_result"
    }
   ],
   "source": [
    "# 정리\n",
    "class Person : # => 클래스 정의 (선언) : 클래스 객체 생성\n",
    "    name = 'kim' # => 속성 (attribute) : 변수/값/데이터\n",
    "\n",
    "    def hello(self): # => 행동(method) : 함수/기능\n",
    "        return self.name\n",
    "\n",
    "p = Person() # => 인스턴스화 / 인스턴스 객체를 생성\n",
    "p.name # => 속성을 호출\n",
    "p.hello() # => 메소드를 실행"
   ]
  },
  {
   "cell_type": "code",
   "execution_count": null,
   "id": "011de6af-ed78-4bc2-9d47-702b9c38f7a6",
   "metadata": {},
   "outputs": [],
   "source": [
    "#선풍기 만들기\n",
    "class Fan:\n",
    "    power = False\n",
    "    turnLR = False\n",
    "    turnUD = False\n",
    "    endres = False\n",
    "\n",
    "    def on (self):\n",
    "        if self.power == False:\n",
    "            self.power = True:\n",
    "\n",
    "    def off (self):\n",
    "        if self.power == True:\n",
    "            self.power = False\n",
    "\n",
    "    def signal1 (self, target):\n",
    "        if self.turn LR == True:\n",
    "            print(f'좌우 회전 중입니다.')\n",
    "        else:\n",
    "            print(f'선풍기를 켜주세요.')\n",
    "    \n",
    "    \n",
    "\n",
    "f = Fan()"
   ]
  },
  {
   "cell_type": "code",
   "execution_count": 99,
   "id": "51247e45-b2a1-4237-bf12-3b24cfd0332d",
   "metadata": {},
   "outputs": [
    {
     "name": "stdout",
     "output_type": "stream",
     "text": [
      "현재 상태는 약풍입니다.\n",
      "현재 상태는 중풍입니다.\n",
      "현재 상태는  중풍에 회전 정지입니다.\n",
      "현재 상태는  중풍에 회전 중입니다.\n"
     ]
    }
   ],
   "source": [
    "class Fan:\n",
    "    power = ['꺼짐', '약풍', '중풍', '강풍']\n",
    "    status = 0\n",
    "    turn = ['회전 중', '회전 정지']\n",
    "    status1 = 0\n",
    "    \n",
    "\n",
    "    def button(self):\n",
    "        #self.status += 1\n",
    "        self.status = (self.status + 1) % 4\n",
    "        print(f'현재 상태는 {self.power[self.status]}입니다.')\n",
    "\n",
    "    def button2(self):\n",
    "        self.status1 = (self.status1 + 1) % 2\n",
    "        print(f'현재 상태는  {self.power[self.status]}에 {self.turn[self.status1]}입니다.')\n",
    "\n",
    "f = Fan()\n",
    "\n",
    "f.button()\n",
    "f.button()\n",
    "f.button2()\n",
    "f.button2()"
   ]
  },
  {
   "cell_type": "code",
   "execution_count": 8,
   "id": "448fd77e-366d-4f9a-85d8-bab6861f7c9d",
   "metadata": {},
   "outputs": [],
   "source": [
    "class Person(): # ()는 생략이 가능하며, 상속이라는 것을 받을때는 ()가 필요함\n",
    "    name = ''\n",
    "\n",
    "    def hello(self):\n",
    "        print(f'나의 이름은 {self.name} 입니다.')"
   ]
  },
  {
   "cell_type": "code",
   "execution_count": 2,
   "id": "ba8c8e0b-ed16-4c9f-a1de-018387d0eed6",
   "metadata": {},
   "outputs": [
    {
     "name": "stdout",
     "output_type": "stream",
     "text": [
      "\n",
      "나의 이름은  입니다.\n",
      "나의 이름은 kim 입니다.\n"
     ]
    }
   ],
   "source": [
    "p = Person()\n",
    "print(p.name)\n",
    "p.hello()\n",
    "p.name = 'kim'\n",
    "p.hello()"
   ]
  },
  {
   "cell_type": "code",
   "execution_count": 6,
   "id": "20b051f0-9e57-4d8c-8669-02ff12951449",
   "metadata": {},
   "outputs": [],
   "source": [
    "# self : 인스턴스 객체 자기자신 (다른언어에서는 this)\n",
    "# - 특별한 상황을 제외하고 무조건 메소드의 첫번째 인자로 설정한다.\n",
    "# - 인스턴스 메소드를 실행 할때 자동으로 첫번째 인자에 인스턴스를 할당한다"
   ]
  },
  {
   "cell_type": "code",
   "execution_count": 4,
   "id": "a15bdee3-4f71-437b-8cbd-628cea2f74d7",
   "metadata": {},
   "outputs": [
    {
     "name": "stdout",
     "output_type": "stream",
     "text": [
      "나의 이름은  입니다.\n",
      "나의 이름은  입니다.\n"
     ]
    }
   ],
   "source": [
    "p1 = Person()\n",
    "# self 매개변수 자리에 p1이라고 하는 인스턴스 객체가 인자로 전달\n",
    "Person.hello(p1)\n",
    "# p1 인스턴스 객체에서부터 메소드가 실행되기 때문에 self \n",
    "p1.hello()\n",
    "# p1이 hello 뒤에 있는 () 안에 들어간다."
   ]
  },
  {
   "cell_type": "markdown",
   "id": "8198919a-631f-41d7-bcbd-aaa404909d25",
   "metadata": {},
   "source": [
    "## 생성자, 소멸자\n",
    "\n",
    "```python\n",
    "\n",
    "    class MyClass:\n",
    "        def __init__(self):\n",
    "            pass\n",
    "        def __del__(self):\n",
    "            pass\n",
    "        \n",
    "```"
   ]
  },
  {
   "cell_type": "code",
   "execution_count": 23,
   "id": "1ad5c5ff-4152-477c-ae93-b7cf114ec2c2",
   "metadata": {},
   "outputs": [],
   "source": [
    "class Person:\n",
    "    name = 'noname'\n",
    "\n",
    "    def __init__(self, name='익명'):\n",
    "        self.name = name\n",
    "        print('생성됨')\n",
    "\n",
    "    def __del__(self):\n",
    "        print('소멸됨')"
   ]
  },
  {
   "cell_type": "code",
   "execution_count": 24,
   "id": "514dfa12-de3a-4b9b-b960-10a43db4c318",
   "metadata": {},
   "outputs": [
    {
     "name": "stdout",
     "output_type": "stream",
     "text": [
      "생성됨\n",
      "소멸됨\n",
      "kim\n"
     ]
    }
   ],
   "source": [
    "p1 = Person()  # Person.__init__(p1, )\n",
    "p1.name = 'kim' # 사람을 만들고 \n",
    "print(p1.name)  # 이름을 가져옴\n",
    "\n",
    "#del p1\n",
    "#print(p1.name)"
   ]
  },
  {
   "cell_type": "code",
   "execution_count": 25,
   "id": "ae01c9e1-cc1d-4a56-b2d7-75445890e750",
   "metadata": {},
   "outputs": [
    {
     "name": "stdout",
     "output_type": "stream",
     "text": [
      "생성됨\n",
      "소멸됨\n",
      "kim\n"
     ]
    }
   ],
   "source": [
    "p2 = Person('kim') # Person.__init__(p2, 'kim' )\n",
    "print(p2.name)"
   ]
  },
  {
   "cell_type": "code",
   "execution_count": 38,
   "id": "8a4f3bd4-a4b5-48cf-8fbd-f29f964ae0d5",
   "metadata": {},
   "outputs": [],
   "source": [
    "# Cicle 클래스\n",
    "\n",
    "class Circle:\n",
    "    pi = 3.14\n",
    "\n",
    "    def __init__(self, r, x_point=0, y_point=0):\n",
    "        self.r = r\n",
    "        self.x = x_point\n",
    "        self.y = y_point\n",
    "\n",
    "    def area(self):\n",
    "        return self.pi * self.r ** 2\n",
    "\n",
    "    def move(self, x, y): # 원의 중심을 이동\n",
    "        self.x = x\n",
    "        self.y = y\n",
    "        print(f'원의 중심이 {x},{y}로 이동했습니다.')\n",
    "\n",
    "    def center(self):\n",
    "        # 원의 중심을 (x, y)로 반환\n",
    "        return(self.x, self.y)"
   ]
  },
  {
   "cell_type": "code",
   "execution_count": 39,
   "id": "50ebb91a-257e-41af-92a0-c02ea7fa8df1",
   "metadata": {},
   "outputs": [
    {
     "name": "stdout",
     "output_type": "stream",
     "text": [
      "5\n",
      "3\n",
      "28.26\n",
      "원의 중심이 -3,-3로 이동했습니다.\n",
      "(-3, -3)\n",
      "0\n",
      "10\n",
      "314.0\n",
      "원의 중심이 10,10로 이동했습니다.\n",
      "(10, 10)\n"
     ]
    }
   ],
   "source": [
    "c1 = Circle(3, 5, 5)\n",
    "print(c1.x)\n",
    "print(c1.r)\n",
    "print(c1.area())\n",
    "c1.move(-3, -3)\n",
    "print(c1.center())\n",
    "\n",
    "c2 = Circle(10)\n",
    "print(c2.x)\n",
    "print(c2.r)\n",
    "print(c2.area())\n",
    "c2.move(10, 10)\n",
    "print(c2.center())"
   ]
  },
  {
   "cell_type": "markdown",
   "id": "e3d65479-488f-463e-8875-cbfb4f34d759",
   "metadata": {},
   "source": [
    "### 클래스변수\n",
    "- 클래스 선언 블록 최상단에 위치\n",
    "\n",
    "### 인스턴스변수\n",
    "- 인스턴스 내부에서 생성한 변수 (self.variable = )\n",
    "\n",
    "\n",
    "```python\n",
    "class TestClass:\n",
    "    class_variable = '클래스변수'\n",
    "\n",
    "    def __init__(self, arg):\n",
    "        self.instance_variable = '인스턴스변수'\n",
    "\n",
    "    def status(self):\n",
    "        return self.instance_variable\n",
    "\n",
    "```"
   ]
  },
  {
   "cell_type": "code",
   "execution_count": 44,
   "id": "e10f43b2-2c49-4801-b699-22d6d9290a98",
   "metadata": {},
   "outputs": [],
   "source": [
    "class Person:\n",
    "    name = '홍길동'\n",
    "    phone = '010-1234-5678'\n",
    "\n",
    "    def __init__(self, name):\n",
    "        self.name = name"
   ]
  },
  {
   "cell_type": "code",
   "execution_count": 46,
   "id": "7d07dd71-7ee0-4ff5-b280-2bfe83f90204",
   "metadata": {},
   "outputs": [
    {
     "name": "stdout",
     "output_type": "stream",
     "text": [
      "오창희\n",
      "홍길동\n",
      "010-1234-5678\n"
     ]
    }
   ],
   "source": [
    "p = Person('오창희')\n",
    "print(p.name) # 인스턴스 변수 호출\n",
    "print(Person.name) # 클레스 변수 호출\n",
    "\n",
    "print(p.phone)\n",
    "#print(p.location)"
   ]
  },
  {
   "cell_type": "markdown",
   "id": "2aa27436-33e5-41df-88e4-68ba4f84fab1",
   "metadata": {},
   "source": [
    "### 클래스메소드, 인스턴스메소스, 스태틱메소드\n",
    "\n",
    "```python\n",
    "class MyClass:\n",
    "    def instance_method(self):\n",
    "        pass\n",
    "\n",
    "    @classmethod\n",
    "    def class_method(cls):\n",
    "        pass\n",
    "\n",
    "    @staticmethod\n",
    "    def static_method():\n",
    "        pass\n",
    "\n",
    "```"
   ]
  },
  {
   "cell_type": "code",
   "execution_count": 47,
   "id": "22655c67-c8bd-443a-bd9e-8071b594c555",
   "metadata": {},
   "outputs": [],
   "source": [
    "class MyClass:\n",
    "    def instance_method(self):\n",
    "        return self\n",
    "\n",
    "    @classmethod\n",
    "    def class_method(cls):\n",
    "        return cls\n",
    "\n",
    "    @staticmethod\n",
    "    def static_method():\n",
    "        return 'hello'"
   ]
  },
  {
   "cell_type": "code",
   "execution_count": 50,
   "id": "3785c94f-6929-4ea6-944b-69b3e3f0f544",
   "metadata": {},
   "outputs": [
    {
     "name": "stdout",
     "output_type": "stream",
     "text": [
      "<__main__.MyClass object at 0x000002B3D0DA2790>\n",
      "<class '__main__.MyClass'>\n",
      "<class '__main__.MyClass'>\n",
      "hello\n"
     ]
    }
   ],
   "source": [
    "c1 = MyClass()\n",
    "\n",
    "print(c1.instance_method())\n",
    "print(MyClass.class_method())\n",
    "print(c1.class_method())\n",
    "print(c1.static_method())"
   ]
  },
  {
   "cell_type": "code",
   "execution_count": 68,
   "id": "3001f901-edca-4448-9e7e-1f13a44cf639",
   "metadata": {},
   "outputs": [],
   "source": [
    "class Puppy:\n",
    "    num_of_puppy = 0\n",
    "\n",
    "    def __init__(self, name):\n",
    "        self.name = name\n",
    "        Puppy.num_of_puppy += 1\n",
    "\n",
    "    @classmethod\n",
    "    def get_status(cls):\n",
    "        return f'현재 강아지는 {cls.num_of_puppy}마리 입니다.'\n",
    "\n",
    "    @staticmethod\n",
    "    def bark(string='멍멍'):\n",
    "        return string"
   ]
  },
  {
   "cell_type": "code",
   "execution_count": 82,
   "id": "a70e8711-6185-4bcc-b89b-7ed0c30fcaba",
   "metadata": {},
   "outputs": [
    {
     "name": "stdout",
     "output_type": "stream",
     "text": [
      "6\n",
      "6\n",
      "현재 강아지는 6마리 입니다.\n",
      "멍멍\n",
      "그르릉\n"
     ]
    }
   ],
   "source": [
    "p1 = Puppy('또또')\n",
    "p2 = Puppy('몽이')\n",
    "p3 = Puppy('흰둥이')\n",
    "\n",
    "print(p1.num_of_puppy)\n",
    "#print(p2.num_of_puppy)\n",
    "print(Puppy.num_of_puppy)\n",
    "\n",
    "print(Puppy.get_status())\n",
    "\n",
    "print(p1.bark())\n",
    "print(p2.bark('그르릉'))"
   ]
  },
  {
   "cell_type": "markdown",
   "id": "d579d92f-7aef-4539-83b1-b907e655ac7a",
   "metadata": {},
   "source": [
    "## 정리\n",
    "\n",
    "```\n",
    "class\n",
    "    - attribute (veriable, data)\n",
    "        - instance_variable\n",
    "        - class_variable\n",
    "    - method\n",
    "        - instance_method\n",
    "        - class_method\n",
    "        - static_method\n",
    "```"
   ]
  },
  {
   "cell_type": "code",
   "execution_count": 87,
   "id": "610e1561-f391-4686-8b9f-3c6ae2bce134",
   "metadata": {},
   "outputs": [],
   "source": [
    "class Person:\n",
    "\n",
    "    def __init__(self, name):\n",
    "        self.name = name\n",
    "\n",
    "    def greeting(self):\n",
    "        print(f'안녕하세요 {self.name}입니다')"
   ]
  },
  {
   "cell_type": "code",
   "execution_count": 88,
   "id": "e3565345-c608-4916-b7ce-6ced098df7fe",
   "metadata": {},
   "outputs": [
    {
     "name": "stdout",
     "output_type": "stream",
     "text": [
      "안녕하세요 홍길동입니다\n"
     ]
    }
   ],
   "source": [
    "p1 = Person('홍길동')\n",
    "p2 = Person('이순신')\n",
    "\n",
    "p1.greeting()"
   ]
  },
  {
   "cell_type": "code",
   "execution_count": 89,
   "id": "38c91e46-0577-4f00-8dcb-879ad3ef0ce3",
   "metadata": {},
   "outputs": [],
   "source": [
    "class Student(Person):\n",
    "    pass"
   ]
  },
  {
   "cell_type": "code",
   "execution_count": 90,
   "id": "2b75499d-7601-46a1-a3b7-2791adf9ce73",
   "metadata": {},
   "outputs": [
    {
     "name": "stdout",
     "output_type": "stream",
     "text": [
      "안녕하세요 kim입니다\n"
     ]
    }
   ],
   "source": [
    "s1 = Student('kim')\n",
    "s2 = Student('park')\n",
    "\n",
    "s1.greeting()"
   ]
  },
  {
   "cell_type": "code",
   "execution_count": 101,
   "id": "3d2b1532-d5fa-4e64-a0c6-5c3090f7d22c",
   "metadata": {},
   "outputs": [],
   "source": [
    "class Student(Person):\n",
    "\n",
    "    # def __init__(self, name):\n",
    "    #     self.name = name\n",
    "\n",
    "    # def greeting(self):\n",
    "    #     print(f'안녕하세요 {self.name}입니다')\n",
    "    \n",
    "    def __init__(self, name, student_id):\n",
    "        self.name = name\n",
    "        self.student_id = student_id\n"
   ]
  },
  {
   "cell_type": "code",
   "execution_count": 119,
   "id": "1497e9ed-e052-41cc-9413-6bdad522b1c9",
   "metadata": {},
   "outputs": [
    {
     "ename": "TypeError",
     "evalue": "Student.__init__() missing 3 required positional arguments: 'location', 'namen', and 'studemt_id'",
     "output_type": "error",
     "traceback": [
      "\u001b[1;31m---------------------------------------------------------------------------\u001b[0m",
      "\u001b[1;31mTypeError\u001b[0m                                 Traceback (most recent call last)",
      "Cell \u001b[1;32mIn[119], line 1\u001b[0m\n\u001b[1;32m----> 1\u001b[0m s1 \u001b[38;5;241m=\u001b[39m \u001b[43mStudent\u001b[49m\u001b[43m(\u001b[49m\u001b[38;5;124;43m'\u001b[39;49m\u001b[38;5;124;43mkim\u001b[39;49m\u001b[38;5;124;43m'\u001b[39;49m\u001b[43m,\u001b[49m\u001b[43m \u001b[49m\u001b[38;5;241;43m12345\u001b[39;49m\u001b[43m)\u001b[49m\n\u001b[0;32m      2\u001b[0m s2 \u001b[38;5;241m=\u001b[39m Student(\u001b[38;5;124m'\u001b[39m\u001b[38;5;124mpark\u001b[39m\u001b[38;5;124m'\u001b[39m, \u001b[38;5;241m98765\u001b[39m)\n\u001b[0;32m      4\u001b[0m s1\u001b[38;5;241m.\u001b[39mgreeting()\n",
      "\u001b[1;31mTypeError\u001b[0m: Student.__init__() missing 3 required positional arguments: 'location', 'namen', and 'studemt_id'"
     ]
    }
   ],
   "source": [
    "s1 = Student('kim', 12345)\n",
    "s2 = Student('park', 98765)\n",
    "\n",
    "s1.greeting()\n",
    "print(s1.student_id)"
   ]
  },
  {
   "cell_type": "code",
   "execution_count": 105,
   "id": "eecb0e45-2f4e-406a-9a2c-3b11a03dc112",
   "metadata": {},
   "outputs": [],
   "source": [
    "class Soldier(Person):\n",
    "\n",
    "    def greeting(self):\n",
    "        return f' 충성[seld.name]입니다.'"
   ]
  },
  {
   "cell_type": "code",
   "execution_count": 106,
   "id": "b0b1efb6-9363-4f2a-b940-9f5a9ef26c89",
   "metadata": {},
   "outputs": [
    {
     "ename": "TypeError",
     "evalue": "Person.__init__() missing 1 required positional argument: 'student_id'",
     "output_type": "error",
     "traceback": [
      "\u001b[1;31m---------------------------------------------------------------------------\u001b[0m",
      "\u001b[1;31mTypeError\u001b[0m                                 Traceback (most recent call last)",
      "Cell \u001b[1;32mIn[106], line 1\u001b[0m\n\u001b[1;32m----> 1\u001b[0m s1 \u001b[38;5;241m=\u001b[39m \u001b[43mSoldier\u001b[49m\u001b[43m(\u001b[49m\u001b[38;5;124;43m'\u001b[39;49m\u001b[38;5;124;43m국방이\u001b[39;49m\u001b[38;5;124;43m'\u001b[39;49m\u001b[43m)\u001b[49m\n\u001b[0;32m      2\u001b[0m s1\u001b[38;5;241m.\u001b[39mgreeting()\n",
      "\u001b[1;31mTypeError\u001b[0m: Person.__init__() missing 1 required positional argument: 'student_id'"
     ]
    }
   ],
   "source": [
    "s1 = Soldier('국방이')\n",
    "s1.greeting()"
   ]
  },
  {
   "cell_type": "code",
   "execution_count": null,
   "id": "d1c6d453-6906-4da5-8a11-8848a8694690",
   "metadata": {},
   "outputs": [],
   "source": []
  },
  {
   "cell_type": "code",
   "execution_count": 108,
   "id": "2f2cd99e-fc7d-4101-b253-ac8ea925a265",
   "metadata": {},
   "outputs": [],
   "source": [
    "class Person:\n",
    "    def __init__(self, email, phone, location, name):\n",
    "        self.email = email\n",
    "        self.phone = phone\n",
    "        self.location = location\n",
    "        self.name = name\n",
    "\n",
    "class Student(Person):\n",
    "    def __init__(self, email, phone, location, namen, studemt_id):\n",
    "        self.email = email\n",
    "        self.phone = phone\n",
    "        self.location = location\n",
    "        self.name = name\n",
    "        self.student_id = student_id\n",
    "\n",
    "class Soldier(Person):\n",
    "    def __init__(self, email, phone, location, name):\n",
    "        # super() => 부모클래스 (Person)\n",
    "        super().__init__(email, phone, location, name) # 위에 있는 부모 인자의 코드 4줄이 들어옴\n",
    "        self.soldier_id = soldier_id\n",
    "    "
   ]
  },
  {
   "cell_type": "code",
   "execution_count": 110,
   "id": "20c58339-4275-425e-a704-fd2272e5601e",
   "metadata": {},
   "outputs": [
    {
     "ename": "TypeError",
     "evalue": "Soldier.__init__() takes 5 positional arguments but 6 were given",
     "output_type": "error",
     "traceback": [
      "\u001b[1;31m---------------------------------------------------------------------------\u001b[0m",
      "\u001b[1;31mTypeError\u001b[0m                                 Traceback (most recent call last)",
      "Cell \u001b[1;32mIn[110], line 1\u001b[0m\n\u001b[1;32m----> 1\u001b[0m s1 \u001b[38;5;241m=\u001b[39m \u001b[43mSoldier\u001b[49m\u001b[43m(\u001b[49m\u001b[38;5;124;43m'\u001b[39;49m\u001b[38;5;124;43memail@email.com\u001b[39;49m\u001b[38;5;124;43m'\u001b[39;49m\u001b[43m,\u001b[49m\u001b[43m \u001b[49m\u001b[38;5;124;43m'\u001b[39;49m\u001b[38;5;124;43m010-1234\u001b[39;49m\u001b[38;5;124;43m'\u001b[39;49m\u001b[43m,\u001b[49m\u001b[43m \u001b[49m\u001b[38;5;124;43m'\u001b[39;49m\u001b[38;5;124;43mseoul\u001b[39;49m\u001b[38;5;124;43m'\u001b[39;49m\u001b[43m,\u001b[49m\u001b[43m \u001b[49m\u001b[38;5;124;43m'\u001b[39;49m\u001b[38;5;124;43mkim\u001b[39;49m\u001b[38;5;124;43m'\u001b[39;49m\u001b[43m,\u001b[49m\u001b[43m \u001b[49m\u001b[38;5;124;43m'\u001b[39;49m\u001b[38;5;124;43m12345\u001b[39;49m\u001b[38;5;124;43m'\u001b[39;49m\u001b[43m)\u001b[49m\n\u001b[0;32m      2\u001b[0m \u001b[38;5;28mprint\u001b[39m(s1\u001b[38;5;241m.\u001b[39mname)\n\u001b[0;32m      3\u001b[0m pritn(s1\u001b[38;5;241m.\u001b[39msoldier_id)\n",
      "\u001b[1;31mTypeError\u001b[0m: Soldier.__init__() takes 5 positional arguments but 6 were given"
     ]
    }
   ],
   "source": [
    "s1 = Soldier('email@email.com', '010-1234', 'seoul', 'kim', '12345')\n",
    "print(s1.name)\n",
    "pritn(s1.soldier_id)"
   ]
  },
  {
   "cell_type": "code",
   "execution_count": 111,
   "id": "3c95b67f-ee52-4cf9-a31b-86f1a31784ba",
   "metadata": {},
   "outputs": [],
   "source": [
    "class Person:\n",
    "    def __init__(self, name):\n",
    "        self.name\n",
    "\n",
    "    def breath(self):\n",
    "        print('후하')"
   ]
  },
  {
   "cell_type": "code",
   "execution_count": 112,
   "id": "39ccef3c-73df-4dbc-8da0-8d2bab9cb5c9",
   "metadata": {},
   "outputs": [],
   "source": [
    "class Mon(Person):\n",
    "    gene = 'xx'\n",
    "\n",
    "    def swim(self):\n",
    "        print('어푸어푸')"
   ]
  },
  {
   "cell_type": "code",
   "execution_count": 113,
   "id": "7a811d6c-09f7-43b6-8272-8ff5638ea1e8",
   "metadata": {},
   "outputs": [],
   "source": [
    "class Dad(Person):\n",
    "    gene = 'xy'\n",
    "\n",
    "    def run(self):\n",
    "        print('다다다')"
   ]
  },
  {
   "cell_type": "code",
   "execution_count": 114,
   "id": "19403303-d75e-441b-be34-5e04c7209af7",
   "metadata": {},
   "outputs": [],
   "source": [
    "class Baby(Mon, Dad):\n",
    "    pass"
   ]
  },
  {
   "cell_type": "code",
   "execution_count": 117,
   "id": "76176a1e-e0f5-41bf-a5c7-e0443b330b6c",
   "metadata": {},
   "outputs": [
    {
     "ename": "AttributeError",
     "evalue": "'Baby' object has no attribute 'name'",
     "output_type": "error",
     "traceback": [
      "\u001b[1;31m---------------------------------------------------------------------------\u001b[0m",
      "\u001b[1;31mAttributeError\u001b[0m                            Traceback (most recent call last)",
      "Cell \u001b[1;32mIn[117], line 1\u001b[0m\n\u001b[1;32m----> 1\u001b[0m b \u001b[38;5;241m=\u001b[39m \u001b[43mBaby\u001b[49m\u001b[43m(\u001b[49m\u001b[38;5;124;43m'\u001b[39;49m\u001b[38;5;124;43m금쪽이\u001b[39;49m\u001b[38;5;124;43m'\u001b[39;49m\u001b[43m)\u001b[49m\n\u001b[0;32m      2\u001b[0m b\u001b[38;5;241m.\u001b[39mbreath()\n\u001b[0;32m      3\u001b[0m b\u001b[38;5;241m.\u001b[39mswim()\n",
      "Cell \u001b[1;32mIn[111], line 3\u001b[0m, in \u001b[0;36mPerson.__init__\u001b[1;34m(self, name)\u001b[0m\n\u001b[0;32m      2\u001b[0m \u001b[38;5;28;01mdef\u001b[39;00m \u001b[38;5;21m__init__\u001b[39m(\u001b[38;5;28mself\u001b[39m, name):\n\u001b[1;32m----> 3\u001b[0m     \u001b[38;5;28;43mself\u001b[39;49m\u001b[38;5;241;43m.\u001b[39;49m\u001b[43mname\u001b[49m\n",
      "\u001b[1;31mAttributeError\u001b[0m: 'Baby' object has no attribute 'name'"
     ]
    }
   ],
   "source": [
    "b = Baby('금쪽이')\n",
    "b.breath()\n",
    "b.swim()\n",
    "b.run()\n",
    "\n",
    "#다중상속을 한 경우 먼저 상속 받은 데이터/메소드가 우선\n",
    "print(b.gene)"
   ]
  },
  {
   "cell_type": "code",
   "execution_count": 121,
   "id": "b2fe9cee-34e2-47d8-82e5-de9b76e3c34b",
   "metadata": {},
   "outputs": [],
   "source": [
    "class Pocketmon:\n",
    "\n",
    "    def __init__(self):\n",
    "        self.name = ''\n",
    "        self.lv = 1\n",
    "        self.hp = 100\n",
    "        self.mp =  50\n",
    "        self.property = ''\n",
    "        self.intimacy = 10\n",
    "\n",
    "    def workout(self):\n",
    "        print(self.name,  가 훈련을 한다.')\n",
    "        \n",
    "    def eat(self):\n",
    "        print(self.name,  가 밥을 먹는다.')\n",
    "\n",
    "    def sleep(self):\n",
    "        print(self.name,  가 잠을 잔다.')\n",
    "        \n",
    "    def play(self):\n",
    "        print(self.name,  가 놀이를 한다.')\n",
    "\n",
    "    def status(self):\n",
    "        print(self.name,  의 상태.')\n",
    "\n",
    "    def info(self):\n",
    "        print(self.name, '캐릭 정보')\n",
    "        print('LV:', self.lv)\n",
    "        print('HP:', self.hp)\n",
    "        print('MP:', self.mp)\n",
    "\n",
    "class p(PockerMon):\n",
    "\n",
    "    def __init__(self):\n",
    "        super().__init__()\n",
    "        self.name ='피카츄'\n",
    "        self.property = E\n",
    "    \n",
    "    def workout(self):\n",
    "        super().workout()\n",
    "        self.lv += 10\n",
    "\n",
    "    def eat(self):\n",
    "        super().eat()\n",
    "        self.hp += 10\n",
    "\n",
    "    def sleep(self):\n",
    "        super().sleep()\n",
    "        self.mp += 10\n",
    "\n",
    "    def play(self):\n",
    "        super().play()\n",
    "        self.intimacy += 10"
   ]
  },
  {
   "cell_type": "code",
   "execution_count": 122,
   "id": "095fd2a4-c465-4801-9751-db9321633186",
   "metadata": {},
   "outputs": [
    {
     "name": "stdout",
     "output_type": "stream",
     "text": [
      "피카츄\n"
     ]
    }
   ],
   "source": [
    "p1 = Pocketmon()\n",
    "p1.name = '피카츄'\n",
    "print(p1.name)"
   ]
  },
  {
   "cell_type": "code",
   "execution_count": 123,
   "id": "f49e3cd6-7c70-481e-abc5-2197ab60a243",
   "metadata": {},
   "outputs": [],
   "source": [
    "class Pocketmon:\n",
    "\n",
    "    def __init__(self):\n",
    "        self.info = 'name', 'lv', 'property', 'hp', 'mp'\n",
    "    \n",
    "    pass"
   ]
  },
  {
   "cell_type": "code",
   "execution_count": 136,
   "id": "a797a755-89b1-49f3-ad94-3373dfa1634b",
   "metadata": {},
   "outputs": [
    {
     "name": "stdout",
     "output_type": "stream",
     "text": [
      "('피카츄', '1', 'E', '100', '80')\n"
     ]
    }
   ],
   "source": [
    "p1 = Pocketmon()\n",
    "p1.info = '피카츄', '1', 'E', '100', '80'\n",
    "\n",
    "print(p1.info)"
   ]
  },
  {
   "cell_type": "code",
   "execution_count": null,
   "id": "f8abce36-4443-45b6-9b6c-85992f1588f4",
   "metadata": {},
   "outputs": [],
   "source": []
  }
 ],
 "metadata": {
  "kernelspec": {
   "display_name": "Python 3 (ipykernel)",
   "language": "python",
   "name": "python3"
  },
  "language_info": {
   "codemirror_mode": {
    "name": "ipython",
    "version": 3
   },
   "file_extension": ".py",
   "mimetype": "text/x-python",
   "name": "python",
   "nbconvert_exporter": "python",
   "pygments_lexer": "ipython3",
   "version": "3.11.4"
  }
 },
 "nbformat": 4,
 "nbformat_minor": 5
}
