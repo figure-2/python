{
 "cells": [
  {
   "cell_type": "markdown",
   "id": "14a1ad05-74cf-4f7c-9247-166d93af75e2",
   "metadata": {},
   "source": [
    "# 제어문"
   ]
  },
  {
   "cell_type": "markdown",
   "id": "98ecf5ea-a93c-458c-a329-7284478a33f2",
   "metadata": {},
   "source": [
    "## 조건문 (if문)\n",
    "\n",
    "1. `if` 문은 반드시 일정한 참/거짓을 판단 할 수 있는 조건식과 함께 사용한다. (`if <조건식>:`)\n",
    "\n",
    "2-1 `<조건식>`이 참인 경우 `:` 이후의 문장을 실행한다\n",
    "\n",
    "2-2 `<조건식>`이 거짓인 경우 else `:` 이후의 문장을 실행한다\n",
    "\n",
    "if <조건식>:\n",
    "    if의 조건식이 참인 경우 실행하는 코드\n",
    "else:\n",
    "    if의 조건식이 거짓인 경우 실행하는 코드"
   ]
  },
  {
   "cell_type": "code",
   "execution_count": 3,
   "id": "bd2e7cb5-28f6-4e7f-b67f-1f2ad1d1ea14",
   "metadata": {},
   "outputs": [
    {
     "name": "stdout",
     "output_type": "stream",
     "text": [
      " 123\n"
     ]
    },
    {
     "name": "stdout",
     "output_type": "stream",
     "text": [
      "크리스마스가 아닙니다.\n"
     ]
    }
   ],
   "source": [
    "my_string = input()\n",
    "\n",
    "if my_string == '12/25':\n",
    "    print('크리스마스입니다.')  #들여쓰기(인덴드) 중요 앞에 공간 띤거\n",
    "else:\n",
    "    print('크리스마스가 아닙니다.')"
   ]
  },
  {
   "cell_type": "code",
   "execution_count": 15,
   "id": "23e69516-53c4-4c40-bec9-49ecc1d6be12",
   "metadata": {},
   "outputs": [
    {
     "name": "stdout",
     "output_type": "stream",
     "text": [
      "숫자를 입력해주세요 1\n"
     ]
    },
    {
     "name": "stdout",
     "output_type": "stream",
     "text": [
      "1\n",
      "<class 'str'>\n"
     ]
    }
   ],
   "source": [
    "num = input('숫자를 입력해주세요')   # 숫자로 넣어도 글짜로 인식함 그래서 숫자로 인식하고 싶으면 맨 아래 int 를 해야함\n",
    "print(num)\n",
    "print(type(num))\n",
    "num = int(num)"
   ]
  },
  {
   "cell_type": "code",
   "execution_count": 22,
   "id": "160cba29-7648-41a1-893e-934a9a2e3f36",
   "metadata": {},
   "outputs": [
    {
     "name": "stdout",
     "output_type": "stream",
     "text": [
      " 1\n"
     ]
    },
    {
     "name": "stdout",
     "output_type": "stream",
     "text": [
      "홀수입니다\n"
     ]
    }
   ],
   "source": [
    "# 조건문을 사용해서 num에 들어있는 숫자가 홀수/찍수인지 판별\n",
    "\n",
    "num = input()\n",
    "#my_string = input()\n",
    "#print(num)\n",
    "#print(type(num))\n",
    "num = int(num)\n",
    "\n",
    "if (num % 2) == 0:  # 특정 숫자 num을 2로 나누면 0이 되면 짝수, 아니면 홀수 가 나오는 조건, 추가적으로 그냥 숫자 num을 넣으면 문자로 인식하기 때문에 int(num) 을 해야줘햐함\n",
    "    print('짝수입니다')\n",
    "else:\n",
    "    print('홀수입니다')"
   ]
  },
  {
   "cell_type": "code",
   "execution_count": 26,
   "id": "2da1f05d-7b5f-4a03-83a4-974b6882eb2c",
   "metadata": {},
   "outputs": [
    {
     "ename": "SyntaxError",
     "evalue": "invalid syntax (872598728.py, line 1)",
     "output_type": "error",
     "traceback": [
      "\u001b[1;36m  Cell \u001b[1;32mIn[26], line 1\u001b[1;36m\u001b[0m\n\u001b[1;33m    ```\u001b[0m\n\u001b[1;37m    ^\u001b[0m\n\u001b[1;31mSyntaxError\u001b[0m\u001b[1;31m:\u001b[0m invalid syntax\n"
     ]
    }
   ],
   "source": [
    "\n",
    "if <????>:\n",
    "    print('짝수입니다.')\n",
    "else:\n",
    "    print('홀수입니다.')\n"
   ]
  },
  {
   "cell_type": "code",
   "execution_count": 27,
   "id": "b7a09f39-b9cf-47f3-9288-99af03a9e2a9",
   "metadata": {},
   "outputs": [
    {
     "name": "stdout",
     "output_type": "stream",
     "text": [
      "홀수 입니다\n"
     ]
    }
   ],
   "source": [
    "if num % 2 == 1:\n",
    "    print('홀수 입니다')\n",
    "else:\n",
    "    print('짝수 입니다')"
   ]
  },
  {
   "cell_type": "code",
   "execution_count": 28,
   "id": "69b67179-99b1-4a25-b32a-260a477f4a97",
   "metadata": {},
   "outputs": [
    {
     "name": "stdout",
     "output_type": "stream",
     "text": [
      "홀수 입니다\n"
     ]
    }
   ],
   "source": [
    "# num을 2로 나눈 나머지는 0,1 두가지 경우가 있다\n",
    "# if문의 조건식에 0,1은 자동형변환이 일어나 False, True로 변환된다.\n",
    "\n",
    "if num % 2:\n",
    "    print('홀수 입니다')\n",
    "else:\n",
    "    print('짝수 입니다')"
   ]
  },
  {
   "cell_type": "markdown",
   "id": "a2148e0e-8175-4b3e-8f54-c4c41aef752b",
   "metadata": {},
   "source": [
    "###  elif\n",
    "\n",
    "```\n",
    "if <조건식>:\n",
    "    if 조건이 참인 경우 실행\n",
    "elif <조건식>:\n",
    "    elif 조건이 참인 경우 실행\n",
    "...\n",
    "else:\n",
    "    위 조건식에 하나도 부합하지 않는 경우 실행\n",
    "```"
   ]
  },
  {
   "cell_type": "code",
   "execution_count": 47,
   "id": "2e1206b9-5777-4b1b-aa72-6efa5941a5bd",
   "metadata": {},
   "outputs": [
    {
     "name": "stdout",
     "output_type": "stream",
     "text": [
      " 96\n"
     ]
    }
   ],
   "source": [
    "#score = input()\n",
    "score = int(input())"
   ]
  },
  {
   "cell_type": "code",
   "execution_count": 48,
   "id": "959345a1-1d13-4e41-940e-7177293fc07e",
   "metadata": {},
   "outputs": [
    {
     "name": "stdout",
     "output_type": "stream",
     "text": [
      "A\n"
     ]
    }
   ],
   "source": [
    "# 90점 이상 A\n",
    "# 80점 이상 B\n",
    "# 70점 이상 C\n",
    "# 나머지 F\n",
    "if score >= 90:\n",
    "    print('A')\n",
    "elif score >= 80:\n",
    "    print('B')\n",
    "elif score >= 70:\n",
    "    print('C')\n",
    "else:\n",
    "    print('F')"
   ]
  },
  {
   "cell_type": "code",
   "execution_count": 49,
   "id": "73574277-b44c-47f2-b0d3-73bf63ab0339",
   "metadata": {},
   "outputs": [
    {
     "name": "stdout",
     "output_type": "stream",
     "text": [
      "A\n",
      "참 잘했어요\n"
     ]
    }
   ],
   "source": [
    "# 90점 이상 A ( 95점 이상 ' 참 잘했어요')\n",
    "# 80점 이상 B\n",
    "# 70점 이상 C\n",
    "# 나머지 F\n",
    "\n",
    "if score >= 90:\n",
    "    print('A')\n",
    "    if score >= 95:\n",
    "        print('참 잘했어요')\n",
    "elif score >= 80:\n",
    "    print('B')\n",
    "elif score >= 70:\n",
    "    print('C')\n",
    "else:\n",
    "    print('F')"
   ]
  },
  {
   "cell_type": "markdown",
   "id": "7c40be4a-007f-45d3-8eec-67827409daf3",
   "metadata": {},
   "source": [
    "## 조건표현식\n",
    "\n",
    "```\n",
    "    true_value if <조건식> else false_value\n",
    "```"
   ]
  },
  {
   "cell_type": "code",
   "execution_count": 50,
   "id": "a543f33e-83eb-443a-9598-83bf4fcddd71",
   "metadata": {},
   "outputs": [
    {
     "name": "stdout",
     "output_type": "stream",
     "text": [
      "True\n"
     ]
    }
   ],
   "source": [
    "#if 1 > 0 else\n",
    "print('True') if 1 > 0 else print('False')"
   ]
  },
  {
   "cell_type": "code",
   "execution_count": 51,
   "id": "10f51518-3ec3-4fb1-9ab5-0f6fd911b10a",
   "metadata": {},
   "outputs": [
    {
     "name": "stdout",
     "output_type": "stream",
     "text": [
      "False\n"
     ]
    }
   ],
   "source": [
    "if 1 < 0:\n",
    "    print('Ture')\n",
    "else:\n",
    "    print('False')"
   ]
  },
  {
   "cell_type": "code",
   "execution_count": 59,
   "id": "8e15b9d2-342c-4fa9-8b85-c7379d9878f2",
   "metadata": {},
   "outputs": [
    {
     "name": "stdout",
     "output_type": "stream",
     "text": [
      "0\n"
     ]
    }
   ],
   "source": [
    "num = -5\n",
    "value = num if num >= 0 else 0\n",
    "print(value)"
   ]
  },
  {
   "cell_type": "code",
   "execution_count": 65,
   "id": "88ea5db4-2f5f-46e5-9227-2a4802790ccf",
   "metadata": {},
   "outputs": [
    {
     "name": "stdout",
     "output_type": "stream",
     "text": [
      "5\n"
     ]
    }
   ],
   "source": [
    "num = 5\n",
    "\n",
    "if num > 0:\n",
    "    value = num\n",
    "    #print('num')  내가 쓴 틀린 오답\n",
    "else:\n",
    "    value = 0\n",
    "    #print('0') 내가 쓴 틀린 오답\n",
    "print(value)"
   ]
  },
  {
   "cell_type": "code",
   "execution_count": 66,
   "id": "fe899f59-0b63-427d-a04d-d9464e33033c",
   "metadata": {},
   "outputs": [
    {
     "name": "stdout",
     "output_type": "stream",
     "text": [
      "짝수\n"
     ]
    }
   ],
   "source": [
    "num = 2\n",
    "if num % 2 ==1:\n",
    "    result = '홀수'\n",
    "else:\n",
    "    result = '짝수'\n",
    "print(result)"
   ]
  },
  {
   "cell_type": "code",
   "execution_count": 70,
   "id": "8be3487d-12e6-4bb5-981b-b7d1a2a0a676",
   "metadata": {},
   "outputs": [
    {
     "name": "stdout",
     "output_type": "stream",
     "text": [
      "짝수\n"
     ]
    }
   ],
   "source": [
    "num = 2\n",
    "#result = num  if '짝수' % 2 == 1 else '홀수' 내가 쓴 오답\n",
    "result = '홀수' if num % 2 == 1 else '짝수'\n",
    "print(result)"
   ]
  },
  {
   "cell_type": "markdown",
   "id": "eb960f11-d604-4852-8ad6-052e0000e027",
   "metadata": {},
   "source": [
    "## 반복문\n",
    "\n",
    "while 문\n",
    "\n",
    "    while <조건식>: 조건식이 참인 동안에 계속해서 실행 / if문과 차이는 참인 경우에만 <>안에 있는것이 실행되고 아니면 else문이 실행\n",
    "        실행할 코드"
   ]
  },
  {
   "cell_type": "code",
   "execution_count": null,
   "id": "0f46e711-3b0b-476d-8f9a-bf0f469aae0b",
   "metadata": {
    "scrolled": true
   },
   "outputs": [],
   "source": [
    "a = 0\n",
    "\n",
    "while a < 5:\n",
    "    print(a)\n",
    "    a += 1 # a = a + 1"
   ]
  },
  {
   "cell_type": "code",
   "execution_count": 9,
   "id": "13791861-4dce-4608-84ce-3eb64db19136",
   "metadata": {},
   "outputs": [],
   "source": [
    "# 사용자가 '안녕' 이라고 할때까지 계속 입력을 요청 받는 코드\n",
    "\n",
    "#a = input(str)\n",
    "\n",
    "#while a = '안녕':\n",
    "    #print(a)\n",
    "    #if a != '안녕':\n",
    "\n",
    "greeting = ''\n",
    "\n",
    "while greeting == '안녕':  # != 왼쪽과 오른쪽이 같지 않나요? 라고\n",
    "    greeting = input('안녕 이라고 해줘 : ')"
   ]
  },
  {
   "cell_type": "code",
   "execution_count": 17,
   "id": "e941fd93-550a-4cde-8ca8-13c919da9984",
   "metadata": {},
   "outputs": [],
   "source": [
    "greeting = ''\n",
    "\n",
    "while greeting == '안녕':  # != 왼쪽과 오른쪽이 같지 않나요? 라고\n",
    "    greeting = input('안녕이라고 해줘 : ')"
   ]
  },
  {
   "cell_type": "code",
   "execution_count": null,
   "id": "84cb9896-0f7e-434b-8bb0-f50cf3ac86a6",
   "metadata": {},
   "outputs": [],
   "source": []
  },
  {
   "cell_type": "markdown",
   "id": "2eda413d-4101-48a8-8e72-cac2bbf34614",
   "metadata": {},
   "source": [
    "## for\n",
    "\n",
    "    for variable(변수) in sequence:\n",
    "        code\n",
    "    sequence 내가 반복하고 \n",
    "\n",
    "- for문은 정해진 범위 내의 반복임\n",
    "- while문은 조건에 맞게 반복"
   ]
  },
  {
   "cell_type": "code",
   "execution_count": 11,
   "id": "c8e484b9-11c6-4089-be38-08a7de69518a",
   "metadata": {},
   "outputs": [
    {
     "name": "stdout",
     "output_type": "stream",
     "text": [
      "1\n",
      "2\n",
      "3\n",
      "4\n",
      "5\n"
     ]
    }
   ],
   "source": [
    "numbers = [1, 2, 3, 4, 5]  #numbers는 복수\n",
    "\n",
    "for number in numbers: #number은 단수, variable 자리 /  numbers은 복수, seqience 자리\n",
    "    print(number)"
   ]
  },
  {
   "cell_type": "code",
   "execution_count": 15,
   "id": "bceb08c7-03ee-4687-92fa-3d42c8525683",
   "metadata": {},
   "outputs": [
    {
     "name": "stdout",
     "output_type": "stream",
     "text": [
      "단어를 입력해주세요:  안녕\n"
     ]
    },
    {
     "name": "stdout",
     "output_type": "stream",
     "text": [
      "안\n",
      "녕\n"
     ]
    }
   ],
   "source": [
    "# for문을 사용해서 사용자가 입력한 데이터를 한글자씩 출력하는 코드\n",
    "\n",
    "word = input('단어를 입력해주세요: ')\n",
    "\n",
    "for char in word:\n",
    "    print(char)"
   ]
  },
  {
   "cell_type": "code",
   "execution_count": 14,
   "id": "bc310759-cee0-4cfd-8033-a8aa73105a0b",
   "metadata": {},
   "outputs": [
    {
     "name": "stdout",
     "output_type": "stream",
     "text": [
      "0\n",
      "1\n",
      "2\n",
      "3\n",
      "4\n"
     ]
    }
   ],
   "source": [
    "for i in range(5):\n",
    "    print(i)"
   ]
  },
  {
   "cell_type": "code",
   "execution_count": 16,
   "id": "735837c0-e603-4cbd-8811-97d615eb1982",
   "metadata": {},
   "outputs": [
    {
     "name": "stdout",
     "output_type": "stream",
     "text": [
      "1\n",
      "2\n",
      "3\n",
      "4\n",
      "5\n"
     ]
    }
   ],
   "source": [
    "for i in (1, 2, 3, 4, 5): #(튜플)\n",
    "    print(i)"
   ]
  },
  {
   "cell_type": "markdown",
   "id": "2cfdb083-9b81-4ae2-aa2a-6c776d96025f",
   "metadata": {},
   "source": [
    "<연습>\n",
    "\n",
    "1. 1 ~ 30 까지 숫자 중에서 홀수만 담긴 리스트를 출력\n",
    "2. 1 ~ 30 까지 숫자 중에서 홀수들을 모아 리스트로 출력"
   ]
  },
  {
   "cell_type": "code",
   "execution_count": 24,
   "id": "b6829439-e3be-4c04-bf51-bc597b26eea0",
   "metadata": {},
   "outputs": [],
   "source": [
    "#range(n) : 0 부터 n-1 까지 범위\n",
    "#range(n, m) : n 부터 m 까지 범위\n",
    "\n",
    "# 내가 연습한 것\n",
    "\n",
    "#num = range(1, 30)\n",
    "#a = num % 2\n",
    "\n",
    "#for a in range(1, 30):\n",
    "    #print(a)"
   ]
  },
  {
   "cell_type": "code",
   "execution_count": 27,
   "id": "a6cbc851-8073-4757-8425-976d1b94332d",
   "metadata": {},
   "outputs": [
    {
     "name": "stdout",
     "output_type": "stream",
     "text": [
      "1\n",
      "3\n",
      "5\n",
      "7\n",
      "9\n",
      "11\n",
      "13\n",
      "15\n",
      "17\n",
      "19\n",
      "21\n",
      "23\n",
      "25\n",
      "27\n",
      "29\n"
     ]
    }
   ],
   "source": [
    "# 이렇게 표현도 가능 numbers = [1, 2, 3, 4, ~~~ 30] \n",
    "numbers = range(31)\n",
    "\n",
    "for number in numbers:\n",
    "    if number %2 == 1:\n",
    "        print(number)"
   ]
  },
  {
   "cell_type": "code",
   "execution_count": 28,
   "id": "59fc64b7-6ae1-422d-ab1d-c25693891f7d",
   "metadata": {},
   "outputs": [
    {
     "name": "stdout",
     "output_type": "stream",
     "text": [
      "[1, 3, 5, 7, 9, 11, 13, 15, 17, 19, 21, 23, 25, 27, 29]\n"
     ]
    }
   ],
   "source": [
    "numbers = range(31)\n",
    "result = []\n",
    "\n",
    "for number in numbers:\n",
    "    if number %2 == 1:\n",
    "        #print(number)\n",
    "        result.append(number)\n",
    "\n",
    "print(result)"
   ]
  },
  {
   "cell_type": "code",
   "execution_count": 31,
   "id": "77141905-8cfb-4468-a98d-d032c395f2b9",
   "metadata": {},
   "outputs": [
    {
     "name": "stdout",
     "output_type": "stream",
     "text": [
      "[1, 3, 5, 7, 9]\n"
     ]
    }
   ],
   "source": [
    "a1 = range(11)\n",
    "b = []\n",
    "\n",
    "for a1 in a1:\n",
    "    if a1 %2 == 1:\n",
    "        b.append(a1)\n",
    "\n",
    "print(b)"
   ]
  },
  {
   "cell_type": "code",
   "execution_count": 33,
   "id": "d7b92323-8e84-4699-954d-a72baafc46ca",
   "metadata": {},
   "outputs": [
    {
     "name": "stdout",
     "output_type": "stream",
     "text": [
      "(0, '라면')\n",
      "(1, '김밥')\n",
      "(2, '돈까스')\n"
     ]
    }
   ],
   "source": [
    "menus = ['라면', '김밥', '돈까스'] #각각의 데이트 위치는 인덱스로 찾는다 enunerate라는 함수를 이용\n",
    "\n",
    "for menu in enumerate(menus):\n",
    "    print(menu)"
   ]
  },
  {
   "cell_type": "code",
   "execution_count": 37,
   "id": "9b6fbeb6-2f35-4696-bbbd-5f4d15b8f8b0",
   "metadata": {},
   "outputs": [
    {
     "name": "stdout",
     "output_type": "stream",
     "text": [
      "0\n",
      "라면\n",
      "1\n",
      "김밥\n",
      "2\n",
      "돈까스\n"
     ]
    }
   ],
   "source": [
    "menus = ['라면', '김밥', '돈까스']\n",
    "\n",
    "for idx, menu in enumerate(menus):\n",
    "    print(idx)\n",
    "    print(menu)"
   ]
  },
  {
   "cell_type": "markdown",
   "id": "9705f98e-1a8a-4944-8549-62ba68372e06",
   "metadata": {},
   "source": [
    "## dictionary 반복\n",
    "\n",
    "1. for key in dict:\n",
    "2. for key in dict.keys()\n",
    "3. for value in dict.valus():\n",
    "4. for key, value"
   ]
  },
  {
   "cell_type": "code",
   "execution_count": 40,
   "id": "c9abb4a2-57b6-452d-858a-5277ca6726e1",
   "metadata": {},
   "outputs": [],
   "source": [
    "info = {\n",
    "    'name': 'lee',\n",
    "    'location': 'seoul',\n",
    "    'phone': '010-1234-5678',\n",
    "}"
   ]
  },
  {
   "cell_type": "code",
   "execution_count": 41,
   "id": "1c15d8bf-7aa5-4c94-a6d9-29046c32d81c",
   "metadata": {},
   "outputs": [
    {
     "name": "stdout",
     "output_type": "stream",
     "text": [
      "name\n",
      "lee\n",
      "location\n",
      "seoul\n",
      "phone\n",
      "010-1234-5678\n"
     ]
    }
   ],
   "source": [
    "for i in info:\n",
    "    print(i)\n",
    "    print(info[i])"
   ]
  },
  {
   "cell_type": "code",
   "execution_count": 43,
   "id": "05378302-1d84-4cf4-a6b3-263d7c1f54b7",
   "metadata": {},
   "outputs": [
    {
     "name": "stdout",
     "output_type": "stream",
     "text": [
      "name lee\n",
      "location seoul\n",
      "phone 010-1234-5678\n"
     ]
    }
   ],
   "source": [
    "for i in info:\n",
    "    print(i, info[i])"
   ]
  },
  {
   "cell_type": "code",
   "execution_count": 44,
   "id": "6a4efc0f-1d4e-45c1-93f7-facff8d57813",
   "metadata": {},
   "outputs": [],
   "source": [
    "blood_type = {\n",
    "    'A': 5,\n",
    "    'B': 4,\n",
    "    'O': 2,\n",
    "    'AB': 3,\n",
    "}"
   ]
  },
  {
   "cell_type": "code",
   "execution_count": 47,
   "id": "e0974f24-97f4-4f2c-8dc1-e22d258b9dba",
   "metadata": {},
   "outputs": [
    {
     "name": "stdout",
     "output_type": "stream",
     "text": [
      "형액형 목록은 다음과 같습니다.\n",
      "A\n",
      "B\n",
      "O\n",
      "AB\n"
     ]
    }
   ],
   "source": [
    "print('형액형 목록은 다음과 같습니다.')\n",
    "for key in blood_type:\n",
    "    print(key)"
   ]
  },
  {
   "cell_type": "code",
   "execution_count": 49,
   "id": "402a7f71-8233-4ca2-942b-38196a0a7f60",
   "metadata": {},
   "outputs": [
    {
     "name": "stdout",
     "output_type": "stream",
     "text": [
      "형액형 목록은 다음과 같습니다.\n",
      "A\n",
      "B\n",
      "O\n",
      "AB\n"
     ]
    }
   ],
   "source": [
    "print('형액형 목록은 다음과 같습니다.')\n",
    "for key in blood_type.keys():\n",
    "    print(key)"
   ]
  },
  {
   "cell_type": "code",
   "execution_count": 55,
   "id": "327d3602-eb03-4518-b0f9-4c41b230d09c",
   "metadata": {},
   "outputs": [
    {
     "name": "stdout",
     "output_type": "stream",
     "text": [
      "형액형 목록은 다음과 같습니다.\n",
      "5\n",
      "4\n",
      "2\n",
      "3\n",
      "총인원은 14명 입니다.\n"
     ]
    }
   ],
   "source": [
    "result = 0\n",
    "\n",
    "print('형액형 목록은 다음과 같습니다.')\n",
    "for value in blood_type.values():\n",
    "    print(value)\n",
    "    result = result + value\n",
    "print(f'총인원은 {result}명 입니다.')"
   ]
  },
  {
   "cell_type": "code",
   "execution_count": 59,
   "id": "19495d2b-65c8-42a7-aeb9-1d829997d619",
   "metadata": {},
   "outputs": [
    {
     "ename": "AttributeError",
     "evalue": "'dict' object has no attribute 'item'",
     "output_type": "error",
     "traceback": [
      "\u001b[1;31m---------------------------------------------------------------------------\u001b[0m",
      "\u001b[1;31mAttributeError\u001b[0m                            Traceback (most recent call last)",
      "Cell \u001b[1;32mIn[59], line 1\u001b[0m\n\u001b[1;32m----> 1\u001b[0m \u001b[38;5;28;01mfor\u001b[39;00m key, value \u001b[38;5;129;01min\u001b[39;00m \u001b[43mblood_type\u001b[49m\u001b[38;5;241;43m.\u001b[39;49m\u001b[43mitem\u001b[49m():\n\u001b[0;32m      2\u001b[0m     \u001b[38;5;28mprint\u001b[39m(\u001b[38;5;124mf\u001b[39m\u001b[38;5;124m'\u001b[39m\u001b[38;5;132;01m{\u001b[39;00mkey\u001b[38;5;132;01m}\u001b[39;00m\u001b[38;5;124m형은 \u001b[39m\u001b[38;5;132;01m{\u001b[39;00mvalue\u001b[38;5;132;01m}\u001b[39;00m\u001b[38;5;124m명 입니다.\u001b[39m\u001b[38;5;124m'\u001b[39m)\n",
      "\u001b[1;31mAttributeError\u001b[0m: 'dict' object has no attribute 'item'"
     ]
    }
   ],
   "source": [
    "for key, value in blood_type.item():\n",
    "    print(f'{key}형은 {value}명 입니다.')"
   ]
  },
  {
   "cell_type": "code",
   "execution_count": 58,
   "id": "0728a891-36e3-4171-8cca-c8479d5268e0",
   "metadata": {},
   "outputs": [
    {
     "ename": "AttributeError",
     "evalue": "'dict' object has no attribute 'item'",
     "output_type": "error",
     "traceback": [
      "\u001b[1;31m---------------------------------------------------------------------------\u001b[0m",
      "\u001b[1;31mAttributeError\u001b[0m                            Traceback (most recent call last)",
      "Cell \u001b[1;32mIn[58], line 1\u001b[0m\n\u001b[1;32m----> 1\u001b[0m \u001b[38;5;28;01mfor\u001b[39;00m item, value \u001b[38;5;129;01min\u001b[39;00m \u001b[43mblood_type\u001b[49m\u001b[38;5;241;43m.\u001b[39;49m\u001b[43mitem\u001b[49m():\n\u001b[0;32m      2\u001b[0m     \u001b[38;5;28mprint\u001b[39m(item[\u001b[38;5;241m1\u001b[39m])\n",
      "\u001b[1;31mAttributeError\u001b[0m: 'dict' object has no attribute 'item'"
     ]
    }
   ],
   "source": [
    "for item, value in blood_type.item():\n",
    "    print(item[1])"
   ]
  },
  {
   "cell_type": "markdown",
   "id": "07b3318d-6ae7-419c-9d49-f5b494a2333f",
   "metadata": {},
   "source": [
    "### break\n",
    "\n",
    "반복문을 종료시키는 키워드"
   ]
  },
  {
   "cell_type": "code",
   "execution_count": 63,
   "id": "f88e8168-a13a-49f2-aa53-606eb6abe15b",
   "metadata": {},
   "outputs": [
    {
     "name": "stdout",
     "output_type": "stream",
     "text": [
      "0\n",
      "1\n",
      "2\n",
      "3\n",
      "4\n",
      "5\n",
      "5 넘음\n"
     ]
    }
   ],
   "source": [
    "for i in range(10):\n",
    "    if i > 5:\n",
    "        print('5 넘음')\n",
    "        break #제일 가까운 for문을 찾아서 그 for문을 멈춤\n",
    "    print(i)"
   ]
  },
  {
   "cell_type": "markdown",
   "id": "8b3d6ad4-0124-48ce-b39e-904df8b3ab39",
   "metadata": {},
   "source": [
    "연습\n",
    "\n",
    "rice = ['보리', '보리', '보리', '보리', '쌀', '보리', '보리', '보리'] 에서\n",
    "쌀이 나오면 '잡았다' 라고 뜨면서 뒤에는 동작 안하게"
   ]
  },
  {
   "cell_type": "code",
   "execution_count": 80,
   "id": "dacc6951-7c1d-4003-acbb-059fc4adc72a",
   "metadata": {},
   "outputs": [
    {
     "name": "stdout",
     "output_type": "stream",
     "text": [
      "보리\n",
      "보리\n",
      "보리\n",
      "보리\n",
      "잡았다\n"
     ]
    }
   ],
   "source": [
    "rice = ['보리', '보리', '보리', '보리', '쌀', '보리', '보리', '보리']\n",
    "\n",
    "for rice in rice:\n",
    "    #print(rice)\n",
    "    if rice == '쌀':\n",
    "        print('잡았다')\n",
    "        break\n",
    "    print(rice)"
   ]
  },
  {
   "cell_type": "code",
   "execution_count": 70,
   "id": "3ad91321-7613-4304-b92a-5e9b381b5609",
   "metadata": {},
   "outputs": [
    {
     "name": "stdout",
     "output_type": "stream",
     "text": [
      "보리\n",
      "보리\n",
      "보리\n",
      "보리\n",
      "쌀\n",
      "잡았다!\n"
     ]
    }
   ],
   "source": [
    "rice = ['보리', '보리', '보리', '보리', '쌀', '보리', '보리', '보리']\n",
    "\n",
    "for r in rice:\n",
    "    print(r)\n",
    "    if r == '쌀':\n",
    "        print('잡았다!')\n",
    "        break"
   ]
  },
  {
   "cell_type": "markdown",
   "id": "b0f55da6-6907-4516-85c0-4a28775a8e87",
   "metadata": {},
   "source": [
    "## continue\n",
    "\n",
    "continue  이후의 코드를 실행하지 않고 다음 반복을 진행"
   ]
  },
  {
   "cell_type": "code",
   "execution_count": 74,
   "id": "f05ede21-4ce6-476b-b6c9-43b803e9aad0",
   "metadata": {},
   "outputs": [
    {
     "name": "stdout",
     "output_type": "stream",
     "text": [
      "0\n",
      "2\n",
      "4\n",
      "6\n",
      "8\n"
     ]
    }
   ],
   "source": [
    "for i in range(10):\n",
    "    if i % 2:\n",
    "        continue\n",
    "    print(i)\n",
    "\n",
    "#홀수들을 배제하고 짝수들만 나오는 코드"
   ]
  },
  {
   "cell_type": "code",
   "execution_count": 85,
   "id": "de282c3c-44cc-4812-bfc2-1a42a657aab1",
   "metadata": {},
   "outputs": [
    {
     "name": "stdout",
     "output_type": "stream",
     "text": [
      "35 성인입니다.\n",
      "20 성인입니다.\n",
      "40 성인입니다.\n"
     ]
    }
   ],
   "source": [
    "age = [10, 35, 20, 17, 9, 40]\n",
    "\n",
    "for i in age:\n",
    "    #if 20 >= i: #20살 이상인 사람은\n",
    "    if i < 20:\n",
    "        continue\n",
    "    print(i, '성인입니다.')"
   ]
  },
  {
   "cell_type": "markdown",
   "id": "fff84df1-0243-40cb-9c10-d0a3f2ba603b",
   "metadata": {},
   "source": [
    "### else\n",
    "\n",
    "else문은 끝까지 반복이 진행된 후 실행 됩니다."
   ]
  },
  {
   "cell_type": "code",
   "execution_count": 90,
   "id": "1d0d9465-43d1-45d4-9d6f-bc01134cc088",
   "metadata": {},
   "outputs": [
    {
     "name": "stdout",
     "output_type": "stream",
     "text": [
      "0\n",
      "1\n",
      "2\n",
      "3\n",
      "4\n",
      "5\n",
      "6\n",
      "7\n",
      "8\n",
      "9\n",
      "break 못만남\n"
     ]
    }
   ],
   "source": [
    "for i in range(10):\n",
    "    if i > 100: # 범위가 100보다 작기 때문에 멈추지 않고 범위를 다 출력\n",
    "        break\n",
    "    print(i)\n",
    "else:\n",
    "    print('break 못만남')"
   ]
  },
  {
   "cell_type": "code",
   "execution_count": 92,
   "id": "1b42d62d-7294-47fe-8d58-b86fefd7dba2",
   "metadata": {},
   "outputs": [
    {
     "name": "stdout",
     "output_type": "stream",
     "text": [
      "0\n",
      "1\n",
      "2\n",
      "3\n",
      "4\n",
      "5\n"
     ]
    }
   ],
   "source": [
    "for i in range(10):\n",
    "    if i > 5: # 10보다 5가 작기 때문에 break 되어서 아래 else가 실행 안됨\n",
    "        break\n",
    "    print(i)\n",
    "else:\n",
    "    print('break 못만남')"
   ]
  },
  {
   "cell_type": "markdown",
   "id": "4c735177-5b54-4004-9867-dd863d181939",
   "metadata": {},
   "source": [
    "연습\n",
    "\n",
    "numbers = [1, 3, 5, 7, 9]\n",
    "   \n",
    "    print(3 in numbers)  #numbers 안에 3이 들어있는지 물어보는것\n",
    "    \n",
    "    print(2 in numbers)  #numbers 안에 2가 들어있는지 물어보는것"
   ]
  },
  {
   "cell_type": "code",
   "execution_count": 98,
   "id": "08d27e61-b416-447d-95dd-0218e9e0a512",
   "metadata": {},
   "outputs": [
    {
     "name": "stdout",
     "output_type": "stream",
     "text": [
      "pass\n"
     ]
    }
   ],
   "source": [
    "numbers = [1, 3, 5, 7, 9]  # 안에 내가 원하는 숫자가 있는지 찾는거\n",
    "\n",
    "for number in numbers:\n",
    "    if 5 >= number:\n",
    "        print('pass')\n",
    "        break\n",
    "    #pass"
   ]
  },
  {
   "cell_type": "code",
   "execution_count": 104,
   "id": "1ab56631-f822-4d69-b502-ca387657c4c0",
   "metadata": {},
   "outputs": [
    {
     "name": "stdout",
     "output_type": "stream",
     "text": [
      "참\n"
     ]
    }
   ],
   "source": [
    "numbers = [1, 3, 5, 7, 9]\n",
    "target = 5\n",
    "\n",
    "for number in numbers:\n",
    "    # if문을 통해 내가 원하는 수자가 있으면 참\n",
    "    if number == target:\n",
    "        print('참')\n",
    "        break\n",
    "else:\n",
    "    print('거짓')"
   ]
  },
  {
   "cell_type": "code",
   "execution_count": 105,
   "id": "08cd4100-3434-4fc0-9711-b78dee5903ea",
   "metadata": {},
   "outputs": [
    {
     "name": "stdout",
     "output_type": "stream",
     "text": [
      "거짓\n"
     ]
    }
   ],
   "source": [
    "numbers = [1, 3, 5, 7, 9]\n",
    "target = 4\n",
    "\n",
    "for number in numbers:\n",
    "    # if문을 통해 내가 원하는 수자가 있으면 참\n",
    "    if number == target:\n",
    "        print('참')\n",
    "        break\n",
    "else:\n",
    "    print('거짓')"
   ]
  },
  {
   "cell_type": "markdown",
   "id": "d420276a-b539-41db-ba7e-9557ca59ed98",
   "metadata": {},
   "source": [
    "### pass"
   ]
  },
  {
   "cell_type": "code",
   "execution_count": 106,
   "id": "d25b912e-e403-4cb5-8ff4-1a22200a5b10",
   "metadata": {},
   "outputs": [],
   "source": [
    "if True:\n",
    "    pass"
   ]
  },
  {
   "cell_type": "markdown",
   "id": "4af82e4b-f776-4f4f-a8e0-a037e45ba2eb",
   "metadata": {},
   "source": [
    "## match\n",
    "\n",
    "    match value:\n",
    "        case 조건:\n",
    "            code\n",
    "        case 조건:\n",
    "            code\n",
    "        case _:\n",
    "            code"
   ]
  },
  {
   "cell_type": "code",
   "execution_count": null,
   "id": "66330e05-403b-449e-9f49-d0510df6eb3b",
   "metadata": {},
   "outputs": [],
   "source": [
    "status = 404\n",
    "\n",
    "match status"
   ]
  }
 ],
 "metadata": {
  "kernelspec": {
   "display_name": "Python 3 (ipykernel)",
   "language": "python",
   "name": "python3"
  },
  "language_info": {
   "codemirror_mode": {
    "name": "ipython",
    "version": 3
   },
   "file_extension": ".py",
   "mimetype": "text/x-python",
   "name": "python",
   "nbconvert_exporter": "python",
   "pygments_lexer": "ipython3",
   "version": "3.11.4"
  }
 },
 "nbformat": 4,
 "nbformat_minor": 5
}
