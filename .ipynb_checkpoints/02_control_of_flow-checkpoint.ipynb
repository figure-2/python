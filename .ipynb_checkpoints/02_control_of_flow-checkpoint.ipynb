{
 "cells": [
  {
   "cell_type": "markdown",
   "id": "14a1ad05-74cf-4f7c-9247-166d93af75e2",
   "metadata": {},
   "source": [
    "# 제어문"
   ]
  },
  {
   "cell_type": "markdown",
   "id": "98ecf5ea-a93c-458c-a329-7284478a33f2",
   "metadata": {},
   "source": [
    "## 조건문 (if문)\n",
    "\n",
    "1. `if` 문은 반드시 일정한 참/거짓을 판단 할 수 있는 조건식과 함께 사용한다. (`if <조건식>:`)\n",
    "\n",
    "2-1 `<조건식>`이 참인 경우 `:` 이후의 문장을 실행한다\n",
    "\n",
    "2-2 `<조건식>`이 거짓인 경우 else `:` 이후의 문장을 실행한다\n",
    "\n",
    "if <조건식>:\n",
    "    if의 조건식이 참인 경우 실행하는 코드\n",
    "else:\n",
    "    if의 조건식이 거짓인 경우 실행하는 코드"
   ]
  },
  {
   "cell_type": "code",
   "execution_count": 3,
   "id": "bd2e7cb5-28f6-4e7f-b67f-1f2ad1d1ea14",
   "metadata": {},
   "outputs": [
    {
     "name": "stdin",
     "output_type": "stream",
     "text": [
      " 123\n"
     ]
    },
    {
     "name": "stdout",
     "output_type": "stream",
     "text": [
      "크리스마스가 아닙니다.\n"
     ]
    }
   ],
   "source": [
    "my_string = input()\n",
    "\n",
    "if my_string == '12/25':\n",
    "    print('크리스마스입니다.')  #들여쓰기(인덴드) 중요 앞에 공간 띤거\n",
    "else:\n",
    "    print('크리스마스가 아닙니다.')"
   ]
  },
  {
   "cell_type": "code",
   "execution_count": 15,
   "id": "23e69516-53c4-4c40-bec9-49ecc1d6be12",
   "metadata": {},
   "outputs": [
    {
     "name": "stdin",
     "output_type": "stream",
     "text": [
      "숫자를 입력해주세요 1\n"
     ]
    },
    {
     "name": "stdout",
     "output_type": "stream",
     "text": [
      "1\n",
      "<class 'str'>\n"
     ]
    }
   ],
   "source": [
    "num = input('숫자를 입력해주세요')   # 숫자로 넣어도 글짜로 인식함 그래서 숫자로 인식하고 싶으면 맨 아래 int 를 해야함\n",
    "print(num)\n",
    "print(type(num))\n",
    "num = int(num)"
   ]
  },
  {
   "cell_type": "code",
   "execution_count": 22,
   "id": "160cba29-7648-41a1-893e-934a9a2e3f36",
   "metadata": {},
   "outputs": [
    {
     "name": "stdin",
     "output_type": "stream",
     "text": [
      " 1\n"
     ]
    },
    {
     "name": "stdout",
     "output_type": "stream",
     "text": [
      "홀수입니다\n"
     ]
    }
   ],
   "source": [
    "# 조건문을 사용해서 num에 들어있는 숫자가 홀수/찍수인지 판별\n",
    "\n",
    "num = input()\n",
    "#my_string = input()\n",
    "#print(num)\n",
    "#print(type(num))\n",
    "num = int(num)\n",
    "\n",
    "if (num % 2) == 0:  # 특정 숫자 num을 2로 나누면 0이 되면 짝수, 아니면 홀수 가 나오는 조건, 추가적으로 그냥 숫자 num을 넣으면 문자로 인식하기 때문에 int(num) 을 해야줘햐함\n",
    "    print('짝수입니다')\n",
    "else:\n",
    "    print('홀수입니다')"
   ]
  },
  {
   "cell_type": "code",
   "execution_count": 26,
   "id": "2da1f05d-7b5f-4a03-83a4-974b6882eb2c",
   "metadata": {},
   "outputs": [
    {
     "ename": "SyntaxError",
     "evalue": "invalid syntax (872598728.py, line 1)",
     "output_type": "error",
     "traceback": [
      "\u001b[1;36m  Cell \u001b[1;32mIn[26], line 1\u001b[1;36m\u001b[0m\n\u001b[1;33m    ```\u001b[0m\n\u001b[1;37m    ^\u001b[0m\n\u001b[1;31mSyntaxError\u001b[0m\u001b[1;31m:\u001b[0m invalid syntax\n"
     ]
    }
   ],
   "source": [
    "\n",
    "if <????>:\n",
    "    print('짝수입니다.')\n",
    "else:\n",
    "    print('홀수입니다.')\n"
   ]
  },
  {
   "cell_type": "code",
   "execution_count": 27,
   "id": "b7a09f39-b9cf-47f3-9288-99af03a9e2a9",
   "metadata": {},
   "outputs": [
    {
     "name": "stdout",
     "output_type": "stream",
     "text": [
      "홀수 입니다\n"
     ]
    }
   ],
   "source": [
    "if num % 2 == 1:\n",
    "    print('홀수 입니다')\n",
    "else:\n",
    "    print('짝수 입니다')"
   ]
  },
  {
   "cell_type": "code",
   "execution_count": 28,
   "id": "69b67179-99b1-4a25-b32a-260a477f4a97",
   "metadata": {},
   "outputs": [
    {
     "name": "stdout",
     "output_type": "stream",
     "text": [
      "홀수 입니다\n"
     ]
    }
   ],
   "source": [
    "# num을 2로 나눈 나머지는 0,1 두가지 경우가 있다\n",
    "# if문의 조건식에 0,1은 자동형변환이 일어나 False, True로 변환된다.\n",
    "\n",
    "if num % 2:\n",
    "    print('홀수 입니다')\n",
    "else:\n",
    "    print('짝수 입니다')"
   ]
  },
  {
   "cell_type": "markdown",
   "id": "a2148e0e-8175-4b3e-8f54-c4c41aef752b",
   "metadata": {},
   "source": [
    "###  elif\n",
    "\n",
    "```\n",
    "if <조건식>:\n",
    "    if 조건이 참인 경우 실행\n",
    "elif <조건식>:\n",
    "    elif 조건이 참인 경우 실행\n",
    "...\n",
    "else:\n",
    "    위 조건식에 하나도 부합하지 않는 경우 실행\n",
    "```"
   ]
  },
  {
   "cell_type": "code",
   "execution_count": 47,
   "id": "2e1206b9-5777-4b1b-aa72-6efa5941a5bd",
   "metadata": {},
   "outputs": [
    {
     "name": "stdin",
     "output_type": "stream",
     "text": [
      " 96\n"
     ]
    }
   ],
   "source": [
    "#score = input()\n",
    "score = int(input())"
   ]
  },
  {
   "cell_type": "code",
   "execution_count": 48,
   "id": "959345a1-1d13-4e41-940e-7177293fc07e",
   "metadata": {},
   "outputs": [
    {
     "name": "stdout",
     "output_type": "stream",
     "text": [
      "A\n"
     ]
    }
   ],
   "source": [
    "# 90점 이상 A\n",
    "# 80점 이상 B\n",
    "# 70점 이상 C\n",
    "# 나머지 F\n",
    "if score >= 90:\n",
    "    print('A')\n",
    "elif score >= 80:\n",
    "    print('B')\n",
    "elif score >= 70:\n",
    "    print('C')\n",
    "else:\n",
    "    print('F')"
   ]
  },
  {
   "cell_type": "code",
   "execution_count": 49,
   "id": "73574277-b44c-47f2-b0d3-73bf63ab0339",
   "metadata": {},
   "outputs": [
    {
     "name": "stdout",
     "output_type": "stream",
     "text": [
      "A\n",
      "참 잘했어요\n"
     ]
    }
   ],
   "source": [
    "# 90점 이상 A ( 95점 이상 ' 참 잘했어요')\n",
    "# 80점 이상 B\n",
    "# 70점 이상 C\n",
    "# 나머지 F\n",
    "\n",
    "if score >= 90:\n",
    "    print('A')\n",
    "    if score >= 95:\n",
    "        print('참 잘했어요')\n",
    "elif score >= 80:\n",
    "    print('B')\n",
    "elif score >= 70:\n",
    "    print('C')\n",
    "else:\n",
    "    print('F')"
   ]
  },
  {
   "cell_type": "markdown",
   "id": "7c40be4a-007f-45d3-8eec-67827409daf3",
   "metadata": {},
   "source": [
    "## 조건표현식\n",
    "\n",
    "```\n",
    "    true_value if <조건식> else false_value\n",
    "```"
   ]
  },
  {
   "cell_type": "code",
   "execution_count": 50,
   "id": "a543f33e-83eb-443a-9598-83bf4fcddd71",
   "metadata": {},
   "outputs": [
    {
     "name": "stdout",
     "output_type": "stream",
     "text": [
      "True\n"
     ]
    }
   ],
   "source": [
    "#if 1 > 0 else\n",
    "print('True') if 1 > 0 else print('False')"
   ]
  },
  {
   "cell_type": "code",
   "execution_count": 51,
   "id": "10f51518-3ec3-4fb1-9ab5-0f6fd911b10a",
   "metadata": {},
   "outputs": [
    {
     "name": "stdout",
     "output_type": "stream",
     "text": [
      "False\n"
     ]
    }
   ],
   "source": [
    "if 1 < 0:\n",
    "    print('Ture')\n",
    "else:\n",
    "    print('False')"
   ]
  },
  {
   "cell_type": "code",
   "execution_count": 59,
   "id": "8e15b9d2-342c-4fa9-8b85-c7379d9878f2",
   "metadata": {},
   "outputs": [
    {
     "name": "stdout",
     "output_type": "stream",
     "text": [
      "0\n"
     ]
    }
   ],
   "source": [
    "num = -5\n",
    "value = num if num >= 0 else 0\n",
    "print(value)"
   ]
  },
  {
   "cell_type": "code",
   "execution_count": 65,
   "id": "88ea5db4-2f5f-46e5-9227-2a4802790ccf",
   "metadata": {},
   "outputs": [
    {
     "name": "stdout",
     "output_type": "stream",
     "text": [
      "5\n"
     ]
    }
   ],
   "source": [
    "num = 5\n",
    "\n",
    "if num > 0:\n",
    "    value = num\n",
    "    #print('num')  내가 쓴 틀린 오답\n",
    "else:\n",
    "    value = 0\n",
    "    #print('0') 내가 쓴 틀린 오답\n",
    "print(value)"
   ]
  },
  {
   "cell_type": "code",
   "execution_count": 66,
   "id": "fe899f59-0b63-427d-a04d-d9464e33033c",
   "metadata": {},
   "outputs": [
    {
     "name": "stdout",
     "output_type": "stream",
     "text": [
      "짝수\n"
     ]
    }
   ],
   "source": [
    "num = 2\n",
    "if num % 2 ==1:\n",
    "    result = '홀수'\n",
    "else:\n",
    "    result = '짝수'\n",
    "print(result)"
   ]
  },
  {
   "cell_type": "code",
   "execution_count": 70,
   "id": "8be3487d-12e6-4bb5-981b-b7d1a2a0a676",
   "metadata": {},
   "outputs": [
    {
     "name": "stdout",
     "output_type": "stream",
     "text": [
      "짝수\n"
     ]
    }
   ],
   "source": [
    "num = 2\n",
    "#result = num  if '짝수' % 2 == 1 else '홀수' 내가 쓴 오답\n",
    "result = '홀수' if num % 2 == 1 else '짝수'\n",
    "print(result)"
   ]
  },
  {
   "cell_type": "code",
   "execution_count": null,
   "id": "b9105972-7edf-4742-be66-3e31344adde2",
   "metadata": {},
   "outputs": [],
   "source": []
  }
 ],
 "metadata": {
  "kernelspec": {
   "display_name": "Python 3 (ipykernel)",
   "language": "python",
   "name": "python3"
  },
  "language_info": {
   "codemirror_mode": {
    "name": "ipython",
    "version": 3
   },
   "file_extension": ".py",
   "mimetype": "text/x-python",
   "name": "python",
   "nbconvert_exporter": "python",
   "pygments_lexer": "ipython3",
   "version": "3.11.4"
  }
 },
 "nbformat": 4,
 "nbformat_minor": 5
}
