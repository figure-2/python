{
 "cells": [
  {
   "cell_type": "markdown",
   "id": "93046777-b6f8-42c0-a0b6-d1a4608b7beb",
   "metadata": {},
   "source": [
    "# 01. intro\n",
    "\n",
    "##단축키\n",
    "\n",
    "- ctrl + enter : 현재 셀 실행\n",
    "- shift + enter : 현재 셀 실행 & 아래로 이동\n",
    "- alt + enter : 현재 셀 싱행 & 아래에 새로운 셀 추가\n",
    "\n",
    "- ## 주의사항\n",
    "\n",
    "  1. Apple / apple 은 다르다. (대소문자 주의)\n",
    "  2. git add . / git add. 도 다르다 (띄어쓰기 주의)\n",
    "  3. message / massage (철자 주의)"
   ]
  },
  {
   "cell_type": "code",
   "execution_count": null,
   "id": "0a582909-5942-49bf-b172-d25507c085ef",
   "metadata": {},
   "outputs": [],
   "source": [
    "# ctrl + /은 #이며, #은 주석 처리를 함."
   ]
  },
  {
   "cell_type": "markdown",
   "id": "2721711e-f07d-41df-b383-f027574a57b0",
   "metadata": {},
   "source": [
    "# 1. 변수\n",
    "\n",
    "변수이름 = 값\n",
    "\n",
    "- 변수이름은 어떤 이름이든 상관 없음\n",
    "- 다만 영어, 숫자, _ 를 이용하여 선언\n",
    "- 키워드는 사용불가"
   ]
  },
  {
   "cell_type": "code",
   "execution_count": 5,
   "id": "73232ed3-308a-4639-892a-275ab166fe5d",
   "metadata": {},
   "outputs": [],
   "source": [
    "a = 10 # 등호 자체를 할당의 의미를 가지고 있음"
   ]
  },
  {
   "cell_type": "code",
   "execution_count": 6,
   "id": "7b7e7d98-76a9-42b7-9fbd-b6d63df11dd3",
   "metadata": {},
   "outputs": [
    {
     "data": {
      "text/plain": [
       "10"
      ]
     },
     "execution_count": 6,
     "metadata": {},
     "output_type": "execute_result"
    }
   ],
   "source": [
    "a"
   ]
  },
  {
   "cell_type": "code",
   "execution_count": 9,
   "id": "31099282-4f28-47db-be67-d2f0271e9461",
   "metadata": {},
   "outputs": [
    {
     "data": {
      "text/plain": [
       "['False',\n",
       " 'None',\n",
       " 'True',\n",
       " 'and',\n",
       " 'as',\n",
       " 'assert',\n",
       " 'async',\n",
       " 'await',\n",
       " 'break',\n",
       " 'class',\n",
       " 'continue',\n",
       " 'def',\n",
       " 'del',\n",
       " 'elif',\n",
       " 'else',\n",
       " 'except',\n",
       " 'finally',\n",
       " 'for',\n",
       " 'from',\n",
       " 'global',\n",
       " 'if',\n",
       " 'import',\n",
       " 'in',\n",
       " 'is',\n",
       " 'lambda',\n",
       " 'nonlocal',\n",
       " 'not',\n",
       " 'or',\n",
       " 'pass',\n",
       " 'raise',\n",
       " 'return',\n",
       " 'try',\n",
       " 'while',\n",
       " 'with',\n",
       " 'yield']"
      ]
     },
     "execution_count": 9,
     "metadata": {},
     "output_type": "execute_result"
    }
   ],
   "source": [
    "import keyword # 아래 있는것들은 키워드 임\n",
    "keyword.kwlist"
   ]
  },
  {
   "cell_type": "markdown",
   "id": "4f622142-6bdd-4d4b-949e-1fc74630c42d",
   "metadata": {},
   "source": [
    "### 1-1 number"
   ]
  },
  {
   "cell_type": "code",
   "execution_count": 10,
   "id": "bd84a021-ada5-44c4-9bd5-1da4bc5d8e19",
   "metadata": {},
   "outputs": [],
   "source": [
    "a = 10000000"
   ]
  },
  {
   "cell_type": "code",
   "execution_count": 11,
   "id": "18a26d73-4187-4e52-b6c8-b86812cbead9",
   "metadata": {},
   "outputs": [
    {
     "data": {
      "text/plain": [
       "10000000"
      ]
     },
     "execution_count": 11,
     "metadata": {},
     "output_type": "execute_result"
    }
   ],
   "source": [
    "a"
   ]
  },
  {
   "cell_type": "code",
   "execution_count": 14,
   "id": "d0ec5a3d-fcbe-4334-b021-b10522af6c1b",
   "metadata": {},
   "outputs": [
    {
     "data": {
      "text/plain": [
       "int"
      ]
     },
     "execution_count": 14,
     "metadata": {},
     "output_type": "execute_result"
    }
   ],
   "source": [
    "type(a)  # 현제 이 데이터가 어떤 형식(형태)인지 확인하는 함수 / int = 정수"
   ]
  },
  {
   "cell_type": "code",
   "execution_count": 15,
   "id": "bd4af4d7-f405-4de3-8ee2-f1df60e3bb25",
   "metadata": {},
   "outputs": [],
   "source": [
    "b = 1.1"
   ]
  },
  {
   "cell_type": "code",
   "execution_count": 16,
   "id": "9a938b30-7ef8-4508-8e40-d734ce1a7af0",
   "metadata": {},
   "outputs": [
    {
     "data": {
      "text/plain": [
       "1.1"
      ]
     },
     "execution_count": 16,
     "metadata": {},
     "output_type": "execute_result"
    }
   ],
   "source": [
    "b"
   ]
  },
  {
   "cell_type": "code",
   "execution_count": 19,
   "id": "e3eade1d-8363-4432-90f4-de9a2100ffb5",
   "metadata": {},
   "outputs": [
    {
     "data": {
      "text/plain": [
       "float"
      ]
     },
     "execution_count": 19,
     "metadata": {},
     "output_type": "execute_result"
    }
   ],
   "source": [
    "type(b)  # 컴퓨터틑 1 과 0 으로만 모든 데이터를 처리하는데 소수점은 부동소수점으로 처리를 함 / float = 소수점"
   ]
  },
  {
   "cell_type": "code",
   "execution_count": 20,
   "id": "b8b9467f-9c33-45e5-85aa-947d15324def",
   "metadata": {},
   "outputs": [],
   "source": [
    "c = 1 -4j"
   ]
  },
  {
   "cell_type": "code",
   "execution_count": 21,
   "id": "3c22c486-2609-4dfb-8dee-d3a2c304e3cd",
   "metadata": {},
   "outputs": [
    {
     "data": {
      "text/plain": [
       "(1-4j)"
      ]
     },
     "execution_count": 21,
     "metadata": {},
     "output_type": "execute_result"
    }
   ],
   "source": [
    "c"
   ]
  },
  {
   "cell_type": "code",
   "execution_count": 24,
   "id": "be5a0ca7-bed3-472e-bc56-36d0b5dbf736",
   "metadata": {},
   "outputs": [
    {
     "data": {
      "text/plain": [
       "complex"
      ]
     },
     "execution_count": 24,
     "metadata": {},
     "output_type": "execute_result"
    }
   ],
   "source": [
    "type(c)  # complex : 허수 (복소수)"
   ]
  },
  {
   "cell_type": "code",
   "execution_count": 28,
   "id": "5c1d80de-fd10-4a78-a64a-9867ad25e331",
   "metadata": {},
   "outputs": [
    {
     "data": {
      "text/plain": [
       "-4.0"
      ]
     },
     "execution_count": 28,
     "metadata": {},
     "output_type": "execute_result"
    }
   ],
   "source": [
    "c.imag   # . (닷, 쩜)은 중요하며 어떤 데이터 안에 있는것을 확인할때 .imag는 허수 부분을 .real은 정수 부분을"
   ]
  },
  {
   "cell_type": "code",
   "execution_count": 27,
   "id": "86baabf4-2259-4a19-9a46-2ce5dc350b31",
   "metadata": {},
   "outputs": [
    {
     "data": {
      "text/plain": [
       "1.0"
      ]
     },
     "execution_count": 27,
     "metadata": {},
     "output_type": "execute_result"
    }
   ],
   "source": [
    "c.real"
   ]
  },
  {
   "cell_type": "markdown",
   "id": "c618ea7e-8b98-4939-b79b-516b8f69a1b5",
   "metadata": {},
   "source": [
    "### 1-2 Boolean (Bool) 참/거짓\n",
    "\n",
    "True, False로 이루어진 타입"
   ]
  },
  {
   "cell_type": "code",
   "execution_count": 29,
   "id": "508565f9-1945-46d8-9915-10d71bdb2545",
   "metadata": {},
   "outputs": [],
   "source": [
    "a = True"
   ]
  },
  {
   "cell_type": "code",
   "execution_count": 30,
   "id": "de24a495-512a-4433-bbee-f844b17344c4",
   "metadata": {},
   "outputs": [
    {
     "data": {
      "text/plain": [
       "bool"
      ]
     },
     "execution_count": 30,
     "metadata": {},
     "output_type": "execute_result"
    }
   ],
   "source": [
    "type(a)"
   ]
  },
  {
   "cell_type": "code",
   "execution_count": 31,
   "id": "7c7208a9-2f17-43e9-b876-1faa97a11240",
   "metadata": {},
   "outputs": [],
   "source": [
    "b = False"
   ]
  },
  {
   "cell_type": "code",
   "execution_count": 32,
   "id": "328077e2-d064-4930-9ec3-7f5a2a8c2534",
   "metadata": {},
   "outputs": [
    {
     "data": {
      "text/plain": [
       "bool"
      ]
     },
     "execution_count": 32,
     "metadata": {},
     "output_type": "execute_result"
    }
   ],
   "source": [
    "type(b)"
   ]
  },
  {
   "cell_type": "markdown",
   "id": "a44f2bf5-c991-4d77-811d-90f4a5717a4f",
   "metadata": {},
   "source": [
    "### 1-3 None"
   ]
  },
  {
   "cell_type": "code",
   "execution_count": 35,
   "id": "862d8364-74d9-4ea9-b63b-1b7226229bb0",
   "metadata": {},
   "outputs": [],
   "source": [
    "a = None #아무 값도 없다는 의미 :None (비어있으니 기본적으로 )"
   ]
  },
  {
   "cell_type": "code",
   "execution_count": 34,
   "id": "7e80cf97-a365-4a8f-936d-d49b530afe53",
   "metadata": {},
   "outputs": [
    {
     "data": {
      "text/plain": [
       "NoneType"
      ]
     },
     "execution_count": 34,
     "metadata": {},
     "output_type": "execute_result"
    }
   ],
   "source": [
    "type(a)"
   ]
  },
  {
   "cell_type": "markdown",
   "id": "534be674-dbf2-4a3a-b9c8-09cd879d6d09",
   "metadata": {},
   "source": [
    "### 1-4 String\n",
    "\n",
    "- 문자열은 ' , \" 를 이용하여 표현\n",
    "  "
   ]
  },
  {
   "cell_type": "code",
   "execution_count": 38,
   "id": "8b492c30-a935-4b38-8977-99df16b8466d",
   "metadata": {},
   "outputs": [],
   "source": [
    "a = 'hello' #str : 문자열"
   ]
  },
  {
   "cell_type": "code",
   "execution_count": 37,
   "id": "26cef973-36dc-493f-9562-33cd28b40b5e",
   "metadata": {},
   "outputs": [
    {
     "data": {
      "text/plain": [
       "str"
      ]
     },
     "execution_count": 37,
     "metadata": {},
     "output_type": "execute_result"
    }
   ],
   "source": [
    "type(a)"
   ]
  },
  {
   "cell_type": "code",
   "execution_count": 39,
   "id": "a601f3ae-791d-4565-b7de-79d90376cd12",
   "metadata": {},
   "outputs": [],
   "source": [
    "b = \"world\""
   ]
  },
  {
   "cell_type": "code",
   "execution_count": 40,
   "id": "f8255eae-52bf-4d70-8abe-6afbd2caf582",
   "metadata": {},
   "outputs": [
    {
     "data": {
      "text/plain": [
       "str"
      ]
     },
     "execution_count": 40,
     "metadata": {},
     "output_type": "execute_result"
    }
   ],
   "source": [
    "type(b)"
   ]
  },
  {
   "cell_type": "code",
   "execution_count": 43,
   "id": "4d657a49-31d3-433c-9841-a670ce0967a8",
   "metadata": {},
   "outputs": [
    {
     "name": "stdin",
     "output_type": "stream",
     "text": [
      " 123\n"
     ]
    },
    {
     "name": "stdout",
     "output_type": "stream",
     "text": [
      "123\n",
      "<class 'str'>\n"
     ]
    }
   ],
   "source": [
    "age = input()  # 옆에 * 로 표시되는데 이 의미는 아직 실행중이라는 것 / input은 사용자가 원하는 값을 입력할 수 있음\n",
    "print(age)     # input에 넣으면 숫자를 넣어도 글자(str)로 받아온다.\n",
    "print(type(age))"
   ]
  },
  {
   "cell_type": "code",
   "execution_count": 113,
   "id": "9bdcd6bf-8735-4a67-9304-d698701013cb",
   "metadata": {},
   "outputs": [
    {
     "ename": "SyntaxError",
     "evalue": "invalid syntax. Perhaps you forgot a comma? (1664762046.py, line 1)",
     "output_type": "error",
     "traceback": [
      "\u001b[1;36m  Cell \u001b[1;32mIn[113], line 1\u001b[1;36m\u001b[0m\n\u001b[1;33m    print('안녕하세요? '이도형'입니다.')\u001b[0m\n\u001b[1;37m          ^\u001b[0m\n\u001b[1;31mSyntaxError\u001b[0m\u001b[1;31m:\u001b[0m invalid syntax. Perhaps you forgot a comma?\n"
     ]
    }
   ],
   "source": [
    "print('안녕하세요? '이도형'입니다.')"
   ]
  },
  {
   "cell_type": "code",
   "execution_count": 45,
   "id": "7620e868-2419-44ca-9faa-af6cc3988eb7",
   "metadata": {},
   "outputs": [
    {
     "name": "stdout",
     "output_type": "stream",
     "text": [
      "안녕하세요? '이도형'입니다.\n"
     ]
    }
   ],
   "source": [
    "print(\"안녕하세요? '이도형'입니다.\")"
   ]
  },
  {
   "cell_type": "code",
   "execution_count": 46,
   "id": "332708f0-4f08-4978-9eea-624d7ac25841",
   "metadata": {},
   "outputs": [
    {
     "name": "stdout",
     "output_type": "stream",
     "text": [
      "안녕하세요? \"이도형\"입니다.\n"
     ]
    }
   ],
   "source": [
    "print('안녕하세요? \"이도형\"입니다.')"
   ]
  },
  {
   "cell_type": "code",
   "execution_count": 77,
   "id": "b4e6976c-5fc1-44ee-a5d5-cfd91e99f108",
   "metadata": {},
   "outputs": [
    {
     "ename": "SyntaxError",
     "evalue": "unexpected character after line continuation character (4005943933.py, line 1)",
     "output_type": "error",
     "traceback": [
      "\u001b[1;36m  Cell \u001b[1;32mIn[77], line 1\u001b[1;36m\u001b[0m\n\u001b[1;33m    print('안녕하세요? \\'이도형'\\입니다.')\u001b[0m\n\u001b[1;37m                         ^\u001b[0m\n\u001b[1;31mSyntaxError\u001b[0m\u001b[1;31m:\u001b[0m unexpected character after line continuation character\n"
     ]
    }
   ],
   "source": [
    "print('안녕하세요? \\'이도형'\\입니다.')"
   ]
  },
  {
   "cell_type": "code",
   "execution_count": 78,
   "id": "bbd49dda-2242-483d-87c6-d13918dcdfd0",
   "metadata": {},
   "outputs": [
    {
     "ename": "SyntaxError",
     "evalue": "invalid syntax (1503986235.py, line 1)",
     "output_type": "error",
     "traceback": [
      "\u001b[1;36m  Cell \u001b[1;32mIn[78], line 1\u001b[1;36m\u001b[0m\n\u001b[1;33m    a = ```\u001b[0m\n\u001b[1;37m        ^\u001b[0m\n\u001b[1;31mSyntaxError\u001b[0m\u001b[1;31m:\u001b[0m invalid syntax\n"
     ]
    }
   ],
   "source": [
    "a = ```\n",
    "여기는 문자열입니다.\n",
    "엔터를 쳐서 여러줄을 작성 할 수 있습니다.\n",
    "```"
   ]
  },
  {
   "cell_type": "code",
   "execution_count": 59,
   "id": "9b962ffe-8f71-4f07-a48a-daf938ab2f06",
   "metadata": {},
   "outputs": [
    {
     "name": "stdout",
     "output_type": "stream",
     "text": [
      "hello\n"
     ]
    }
   ],
   "source": [
    "print (a)"
   ]
  },
  {
   "cell_type": "code",
   "execution_count": 50,
   "id": "20ed5f74-fed4-4296-9575-24a324ba00e8",
   "metadata": {},
   "outputs": [
    {
     "name": "stdout",
     "output_type": "stream",
     "text": [
      "엔터를 입력해봐요 \n",
      "다음줄입니다.\n"
     ]
    }
   ],
   "source": [
    "print('엔터를 입력해봐요 \\n다음줄입니다.'"
   ]
  },
  {
   "cell_type": "code",
   "execution_count": 54,
   "id": "aa711669-676c-4981-96d4-ad8caba4102b",
   "metadata": {},
   "outputs": [
    {
     "name": "stdout",
     "output_type": "stream",
     "text": [
      "하나 둘 셋!"
     ]
    }
   ],
   "source": [
    "print('하나', '둘', '셋', end='!')   # end='!' 마지막에 !를 붙여주세요, 라는 의미 "
   ]
  },
  {
   "cell_type": "code",
   "execution_count": 58,
   "id": "1e839b5e-198b-43d9-af13-553642be84ab",
   "metadata": {},
   "outputs": [
    {
     "name": "stdout",
     "output_type": "stream",
     "text": [
      "하나! 둘! 셋\n"
     ]
    }
   ],
   "source": [
    "print('하나', '둘', '셋', sep='! ')   # sep='!' 은 처음에서 맨 뒤 앞 까지 !를 붙여주세요, 라는 의미"
   ]
  },
  {
   "cell_type": "markdown",
   "id": "97802ec3-b883-4b26-aa3b-6f22ed344405",
   "metadata": {},
   "source": [
    "#### string interpolation\n",
    "\n",
    "1. %-formatting\n",
    "2. str.format()\n",
    "3. f-string"
   ]
  },
  {
   "cell_type": "code",
   "execution_count": 62,
   "id": "2e77a850-fc4c-4e10-8f6c-dfc5fc101d63",
   "metadata": {},
   "outputs": [],
   "source": [
    "age = 20"
   ]
  },
  {
   "cell_type": "code",
   "execution_count": 63,
   "id": "b7a2ffe3-6d7e-48d2-b081-fcdb2590d99a",
   "metadata": {},
   "outputs": [
    {
     "name": "stdout",
     "output_type": "stream",
     "text": [
      "홍길동은 20 살입니다.\n"
     ]
    }
   ],
   "source": [
    "print('홍길동은 %s 살입니다.' %age)"
   ]
  },
  {
   "cell_type": "code",
   "execution_count": 66,
   "id": "4a68f08d-2ac7-4afa-85cb-83849f9a4486",
   "metadata": {},
   "outputs": [
    {
     "name": "stdout",
     "output_type": "stream",
     "text": [
      "홍길동은 20살입니다.\n"
     ]
    }
   ],
   "source": [
    "print('홍길동은 {}살입니다.' .format(age))"
   ]
  },
  {
   "cell_type": "code",
   "execution_count": 67,
   "id": "c8c4d259-392c-4eb8-a113-27c7ca06e46d",
   "metadata": {},
   "outputs": [
    {
     "name": "stdout",
     "output_type": "stream",
     "text": [
      "홍길동은 20살입니다.\n"
     ]
    }
   ],
   "source": [
    "print(f'홍길동은 {age}살입니다.')#포멧팅이 되어있는 문자열입니다 를 의미"
   ]
  },
  {
   "cell_type": "markdown",
   "id": "c856cb0a-21f4-4d84-8b87-8613e2d33df0",
   "metadata": {},
   "source": [
    "## 2. 연산자\n",
    "\n",
    "### 2-1 산술연산자"
   ]
  },
  {
   "cell_type": "code",
   "execution_count": 71,
   "id": "be005f26-fce4-4fd9-aa70-e1a746aaefb3",
   "metadata": {},
   "outputs": [],
   "source": [
    "a = 2\n",
    "b = 3"
   ]
  },
  {
   "cell_type": "code",
   "execution_count": 70,
   "id": "491e161a-7072-4ca7-969b-23db2a0cde1c",
   "metadata": {},
   "outputs": [
    {
     "name": "stdout",
     "output_type": "stream",
     "text": [
      "3\n",
      "-1\n",
      "2\n",
      "0.5\n",
      "1\n"
     ]
    }
   ],
   "source": [
    "print(a + b)\n",
    "print(a - b)\n",
    "print(a * b)\n",
    "print(a / b)\n",
    "print(a ** b) #** 은 a의 b 승 이라는 의미"
   ]
  },
  {
   "cell_type": "code",
   "execution_count": 75,
   "id": "41934377-e092-4790-87c4-69dfa2b1f112",
   "metadata": {},
   "outputs": [
    {
     "name": "stdout",
     "output_type": "stream",
     "text": [
      "0\n",
      "2\n",
      "(0, 2)\n"
     ]
    }
   ],
   "source": [
    "print(a // b)  # a를 b로 나눈 몫\n",
    "print(a % b)   # a를 b로 나누고 나머지 출력\n",
    "print(divmod(a,b)) # a를 b로 나눈 목, 나머지 출력\n",
    "\n",
    "#위에 있는것은 주로 알고리즘 문제를 풀때 사용한다"
   ]
  },
  {
   "cell_type": "markdown",
   "id": "461fc39b-d25a-49a7-afcb-ec2a87f6e723",
   "metadata": {},
   "source": [
    "### 2-2 비교 연산자"
   ]
  },
  {
   "cell_type": "code",
   "execution_count": 80,
   "id": "431fffe9-9b6a-43c5-b775-a3f792fc323e",
   "metadata": {},
   "outputs": [],
   "source": [
    "a = 5\n",
    "b = 10"
   ]
  },
  {
   "cell_type": "code",
   "execution_count": 81,
   "id": "23ba6874-2305-40de-ada0-c633d1f66366",
   "metadata": {},
   "outputs": [
    {
     "name": "stdout",
     "output_type": "stream",
     "text": [
      "False\n",
      "True\n",
      "False\n",
      "False\n"
     ]
    }
   ],
   "source": [
    "print(a > b)\n",
    "print(a < b)\n",
    "print(a >= b)\n",
    "print(a >= b)"
   ]
  },
  {
   "cell_type": "code",
   "execution_count": 84,
   "id": "7b67bf72-8a11-4f35-a64a-b565366cd292",
   "metadata": {},
   "outputs": [
    {
     "name": "stdout",
     "output_type": "stream",
     "text": [
      "False\n",
      "True\n"
     ]
    }
   ],
   "source": [
    "print(a == b)   # == 같다면, 참\n",
    "print(a != b)   # != 다르면, 참"
   ]
  },
  {
   "cell_type": "code",
   "execution_count": 88,
   "id": "c168e8c7-a1c3-4f04-af27-8d45c8312674",
   "metadata": {},
   "outputs": [
    {
     "name": "stdout",
     "output_type": "stream",
     "text": [
      "True\n",
      "False\n"
     ]
    }
   ],
   "source": [
    "print('hi' == 'hi')  # == 은 숫자, 문자를 비교 할 수 있다\n",
    "print('Hi' == 'hi')"
   ]
  },
  {
   "cell_type": "markdown",
   "id": "5e05334f-b1d8-4141-a64a-67999aa0db88",
   "metadata": {},
   "source": [
    "### 2-3 논리 연산자\n",
    "\n",
    "- and : 양쪽 모두 같으면 참, 하나라도 틀리면 거짓 / 양쪽 모두 Ture일때, True를 반환\n",
    "- or : 양쪽 모두 False일때, False를 반환\n",
    "- not"
   ]
  },
  {
   "cell_type": "code",
   "execution_count": 90,
   "id": "5c915118-375c-4b9a-a3c2-63178b51eda5",
   "metadata": {},
   "outputs": [
    {
     "name": "stdout",
     "output_type": "stream",
     "text": [
      "True\n",
      "False\n",
      "False\n",
      "False\n"
     ]
    }
   ],
   "source": [
    "print(True and True)  # and는 같다면, 참으로 출력 / 틀리면, 거짓으로 출력\n",
    "print(True and False)\n",
    "print(False and False)\n",
    "print(False and False)"
   ]
  },
  {
   "cell_type": "code",
   "execution_count": 93,
   "id": "a5c207dc-fbf2-4c35-942c-e41d49acda18",
   "metadata": {},
   "outputs": [
    {
     "name": "stdout",
     "output_type": "stream",
     "text": [
      "True\n",
      "True\n",
      "True\n",
      "False\n"
     ]
    }
   ],
   "source": [
    "print(True or True) \n",
    "print(True or False)\n",
    "print(False or True)\n",
    "print(False or False)"
   ]
  },
  {
   "cell_type": "code",
   "execution_count": 94,
   "id": "7b5c9c95-806a-48cc-bf78-95d9dcda6b14",
   "metadata": {},
   "outputs": [
    {
     "name": "stdout",
     "output_type": "stream",
     "text": [
      "True\n",
      "False\n"
     ]
    }
   ],
   "source": [
    "print(True)\n",
    "print(not True)"
   ]
  },
  {
   "cell_type": "code",
   "execution_count": 97,
   "id": "e7a9abd0-e4b5-4e6d-a2d6-67e0e0537f70",
   "metadata": {},
   "outputs": [
    {
     "name": "stdout",
     "output_type": "stream",
     "text": [
      "5\n",
      "0\n",
      "0\n",
      "0\n"
     ]
    }
   ],
   "source": [
    "# 단축평가 (and)   1은 참 / 0 은 거짓, 1 이상의 숫자는 참이라고 생각한다\n",
    "print(3 and 5)  #앞이 참이기 때문에 뒤에를 안보고 참이라고 생각하고 출력\n",
    "print(3 and 0)  #앞이 참이기 때문에 뒤에를 안보고 참이라고 생각하고 출력\n",
    "print(0 and 5)  #앞이 거짓이기 때문에 뒤에를 안보고 거짓이라고 생각하고 출력\n",
    "print(0 and 0)  #앞이 거짓이기 때문에 뒤에를 안보고 거짓이라고 생각하고 출력"
   ]
  },
  {
   "cell_type": "code",
   "execution_count": 96,
   "id": "3ced65f3-ac22-43fb-9286-a5bb14b3bf71",
   "metadata": {},
   "outputs": [
    {
     "name": "stdout",
     "output_type": "stream",
     "text": [
      "3\n",
      "3\n",
      "5\n",
      "0\n"
     ]
    }
   ],
   "source": [
    "# 단축평가 (or)\n",
    "print(3 or 5)\n",
    "print(3 or 0)\n",
    "print(0 or 5)\n",
    "print(0 or 0)"
   ]
  },
  {
   "cell_type": "markdown",
   "id": "b7fa6643-e4c0-4cf2-a0e7-f03cfe811ace",
   "metadata": {},
   "source": [
    "### 2-3 복합연산자"
   ]
  },
  {
   "cell_type": "code",
   "execution_count": 106,
   "id": "c2eb0594-915e-48b0-b021-7e32d7044675",
   "metadata": {},
   "outputs": [],
   "source": [
    "a = 1\n",
    "b = 2"
   ]
  },
  {
   "cell_type": "code",
   "execution_count": 107,
   "id": "2830848a-e31e-4aef-90f5-c55c7a35db59",
   "metadata": {},
   "outputs": [],
   "source": [
    "a = a + b\n",
    "a = a - b\n",
    "a = a * b\n",
    "a = a / b\n",
    "a = a // b\n",
    "a = a % b\n",
    "a = a ** b"
   ]
  },
  {
   "cell_type": "code",
   "execution_count": 108,
   "id": "9b3c3c2e-a3b5-474f-9c0a-9f438ac17720",
   "metadata": {},
   "outputs": [],
   "source": [
    "a += b # a에다가 1을 더해서 할당해주세요.\n",
    "a -+ b\n",
    "a *= b\n",
    "a /= b\n",
    "a //= b\n",
    "a %= b\n",
    "a **= b"
   ]
  },
  {
   "cell_type": "markdown",
   "id": "d6360cf7-35f1-4eef-80de-f039d4742220",
   "metadata": {},
   "source": [
    "### 2-4 기타 연산자"
   ]
  },
  {
   "cell_type": "code",
   "execution_count": 109,
   "id": "c4492e51-56cd-46ef-aeb4-c24b53c80f10",
   "metadata": {},
   "outputs": [],
   "source": [
    "a = 'hi'\n",
    "b = 'hello'"
   ]
  },
  {
   "cell_type": "code",
   "execution_count": 112,
   "id": "11571f46-8fd0-4b91-8ee8-2ed0fb051e22",
   "metadata": {},
   "outputs": [
    {
     "data": {
      "text/plain": [
       "'hihello'"
      ]
     },
     "execution_count": 112,
     "metadata": {},
     "output_type": "execute_result"
    }
   ],
   "source": [
    "a + b \n",
    "#concatenation 양쪽 문자를 연결할때, 숫자는 더해지지만 글자는 합쳐진다"
   ]
  },
  {
   "cell_type": "code",
   "execution_count": 117,
   "id": "251ad789-a926-46d6-b090-1f66cce5da58",
   "metadata": {},
   "outputs": [],
   "source": [
    "a = [1, 2, 3]\n",
    "b = [4, 5, 6]\n",
    "# [] 대괄호로 묶여 있는 것은 list(리스트)라고 부른다"
   ]
  },
  {
   "cell_type": "code",
   "execution_count": 118,
   "id": "b0e3227b-907b-4fae-baac-e910b86846d8",
   "metadata": {},
   "outputs": [
    {
     "data": {
      "text/plain": [
       "[1, 2, 3, 4, 5, 6]"
      ]
     },
     "execution_count": 118,
     "metadata": {},
     "output_type": "execute_result"
    }
   ],
   "source": [
    "a + b"
   ]
  },
  {
   "cell_type": "code",
   "execution_count": 119,
   "id": "505ef3f0-1ad0-4375-848b-5c7faaf970fa",
   "metadata": {},
   "outputs": [
    {
     "name": "stdout",
     "output_type": "stream",
     "text": [
      "True\n",
      "False\n"
     ]
    }
   ],
   "source": [
    "# containment 안에 들어있나요? 라고 물어보는것\n",
    "print('a' in 'apple')\n",
    "print('z' in 'apple')"
   ]
  },
  {
   "cell_type": "code",
   "execution_count": 122,
   "id": "0aec0630-ad5b-4b1a-9c22-e75850434fe3",
   "metadata": {},
   "outputs": [
    {
     "name": "stdout",
     "output_type": "stream",
     "text": [
      "True\n",
      "False\n"
     ]
    }
   ],
   "source": [
    "print(1 in [1, 2, 3])\n",
    "print(10 in [1, 2, 3])\n",
    "\n",
    "#list도 확인 할 수 있다"
   ]
  },
  {
   "cell_type": "code",
   "execution_count": 128,
   "id": "08e220e2-22bf-4536-9fde-5a6c8f7c7aa6",
   "metadata": {},
   "outputs": [
    {
     "name": "stdout",
     "output_type": "stream",
     "text": [
      "True\n",
      "140719141675816\n",
      "140719141675816\n"
     ]
    }
   ],
   "source": [
    "# identity 서로 같은지 확인하는 것\n",
    "a = 1\n",
    "b = 1\n",
    "print(a is b)\n",
    "print(id(a))\n",
    "print(id(b))"
   ]
  },
  {
   "cell_type": "code",
   "execution_count": 132,
   "id": "b826462c-0151-49ed-b097-181f97a4ebf7",
   "metadata": {},
   "outputs": [
    {
     "name": "stdout",
     "output_type": "stream",
     "text": [
      "False\n",
      "2264164621168\n",
      "2264164621040\n"
     ]
    }
   ],
   "source": [
    "# identity 서로 같은지 확인하는 것\n",
    "# 데이터는 같지만 위치가 틀리다고 인식해서 거짓으로 출력 \n",
    "# -5 ~ 256 까지는 미리 같은 위치에 저장해 두지만 이 범위 밖은 미리 저장을 해 두지 않아서 위치가 틀림 그래서 거짓 출력\n",
    "# 완벽하게 같은 것만 참으로 출력한다\n",
    "a = 123123\n",
    "b = 123123\n",
    "print(a is b)\n",
    "print(id(a))\n",
    "print(id(b))"
   ]
  },
  {
   "cell_type": "markdown",
   "id": "08976d95-7b25-4fd7-87df-230ef4a2d9d3",
   "metadata": {},
   "source": [
    "### 연산자의 우선 순위\n",
    "\n",
    "0. ()를 통해 그룹 지정\n",
    "1. **\n",
    "2. 산술연산자 ( * , / )\n",
    "3. 산술연산자 ( + , - )\n",
    "4. 비교연산자, in, is\n",
    "5. not\n",
    "6. and\n",
    "7. or"
   ]
  },
  {
   "cell_type": "code",
   "execution_count": 133,
   "id": "dc5267ae-9ae5-4dba-9a59-e622b3013dec",
   "metadata": {},
   "outputs": [
    {
     "data": {
      "text/plain": [
       "-81"
      ]
     },
     "execution_count": 133,
     "metadata": {},
     "output_type": "execute_result"
    }
   ],
   "source": [
    "-3 ** 4\n",
    "# 우선 순위 때문에 3에 4승이 먼저 계산된다음에 - 가 붙었다\n"
   ]
  },
  {
   "cell_type": "code",
   "execution_count": 134,
   "id": "a6c669e4-1c42-4265-be52-708e985ba693",
   "metadata": {},
   "outputs": [
    {
     "name": "stdout",
     "output_type": "stream",
     "text": [
      "-81\n",
      "81\n"
     ]
    }
   ],
   "source": [
    "print(-3 ** 4)\n",
    "print((-3) ** 4)"
   ]
  },
  {
   "cell_type": "code",
   "execution_count": null,
   "id": "6e1c2088-2970-4136-899b-8a10c002be38",
   "metadata": {},
   "outputs": [],
   "source": []
  }
 ],
 "metadata": {
  "kernelspec": {
   "display_name": "Python 3 (ipykernel)",
   "language": "python",
   "name": "python3"
  },
  "language_info": {
   "codemirror_mode": {
    "name": "ipython",
    "version": 3
   },
   "file_extension": ".py",
   "mimetype": "text/x-python",
   "name": "python",
   "nbconvert_exporter": "python",
   "pygments_lexer": "ipython3",
   "version": "3.11.4"
  }
 },
 "nbformat": 4,
 "nbformat_minor": 5
}
