{
 "cells": [
  {
   "cell_type": "code",
   "execution_count": 1,
   "id": "1fd8e299-cdd6-4588-8b08-0bf5a9534a9f",
   "metadata": {},
   "outputs": [
    {
     "name": "stdout",
     "output_type": "stream",
     "text": [
      "hello\n"
     ]
    }
   ],
   "source": [
    "print('hello')"
   ]
  },
  {
   "cell_type": "code",
   "execution_count": 2,
   "id": "c8414c86-91c3-47c4-8476-e8b92ce93e06",
   "metadata": {},
   "outputs": [
    {
     "ename": "TypeError",
     "evalue": "sequence item 0: expected str instance, int found",
     "output_type": "error",
     "traceback": [
      "\u001b[1;31m---------------------------------------------------------------------------\u001b[0m",
      "\u001b[1;31mTypeError\u001b[0m                                 Traceback (most recent call last)",
      "Cell \u001b[1;32mIn[2], line 1\u001b[0m\n\u001b[1;32m----> 1\u001b[0m \u001b[38;5;124;43m'\u001b[39;49m\u001b[38;5;124;43m'\u001b[39;49m\u001b[38;5;241;43m.\u001b[39;49m\u001b[43mjoin\u001b[49m\u001b[43m(\u001b[49m\u001b[43m[\u001b[49m\u001b[38;5;241;43m1\u001b[39;49m\u001b[43m,\u001b[49m\u001b[43m \u001b[49m\u001b[38;5;241;43m2\u001b[39;49m\u001b[43m,\u001b[49m\u001b[43m \u001b[49m\u001b[38;5;241;43m3\u001b[39;49m\u001b[43m,\u001b[49m\u001b[43m \u001b[49m\u001b[38;5;241;43m4\u001b[39;49m\u001b[43m]\u001b[49m\u001b[43m)\u001b[49m\n",
      "\u001b[1;31mTypeError\u001b[0m: sequence item 0: expected str instance, int found"
     ]
    }
   ],
   "source": [
    "''.join([1, 2, 3, 4])"
   ]
  },
  {
   "cell_type": "markdown",
   "id": "4e32bf60-a4de-4f90-b179-aa95bdb19118",
   "metadata": {},
   "source": [
    "##1. 문자열 메소드"
   ]
  },
  {
   "cell_type": "code",
   "execution_count": 3,
   "id": "74296975-ab21-45e0-b0fc-4a6b23b4aad5",
   "metadata": {},
   "outputs": [],
   "source": [
    "a = 'hello my name is lee do hyung'"
   ]
  },
  {
   "cell_type": "code",
   "execution_count": 4,
   "id": "d3be2362-9839-4a2f-9992-711cf6695502",
   "metadata": {},
   "outputs": [
    {
     "data": {
      "text/plain": [
       "'h'"
      ]
     },
     "execution_count": 4,
     "metadata": {},
     "output_type": "execute_result"
    }
   ],
   "source": [
    "a[0]   # 이튜터블한 것이라 수정이 불가능하다"
   ]
  },
  {
   "cell_type": "code",
   "execution_count": 5,
   "id": "0ed31359-a527-4e48-a40f-cf05c001f15c",
   "metadata": {},
   "outputs": [
    {
     "ename": "TypeError",
     "evalue": "'str' object does not support item assignment",
     "output_type": "error",
     "traceback": [
      "\u001b[1;31m---------------------------------------------------------------------------\u001b[0m",
      "\u001b[1;31mTypeError\u001b[0m                                 Traceback (most recent call last)",
      "Cell \u001b[1;32mIn[5], line 1\u001b[0m\n\u001b[1;32m----> 1\u001b[0m \u001b[43ma\u001b[49m\u001b[43m[\u001b[49m\u001b[38;5;241;43m0\u001b[39;49m\u001b[43m]\u001b[49m \u001b[38;5;241m=\u001b[39m \u001b[38;5;124m'\u001b[39m\u001b[38;5;124mH\u001b[39m\u001b[38;5;124m'\u001b[39m\n",
      "\u001b[1;31mTypeError\u001b[0m: 'str' object does not support item assignment"
     ]
    }
   ],
   "source": [
    "a[0] = 'H'"
   ]
  },
  {
   "cell_type": "code",
   "execution_count": 20,
   "id": "8d4602ff-3c92-4d99-945f-9417c8730029",
   "metadata": {},
   "outputs": [
    {
     "data": {
      "text/plain": [
       "'Hello my name is lee do hyung'"
      ]
     },
     "execution_count": 20,
     "metadata": {},
     "output_type": "execute_result"
    }
   ],
   "source": [
    "a.capitalize()"
   ]
  },
  {
   "cell_type": "code",
   "execution_count": 21,
   "id": "0e1edbcb-c234-4607-84a4-c332fe948e3c",
   "metadata": {},
   "outputs": [
    {
     "name": "stdout",
     "output_type": "stream",
     "text": [
      "hello my name is lee do hyung\n"
     ]
    }
   ],
   "source": [
    "print(a)"
   ]
  },
  {
   "cell_type": "code",
   "execution_count": 23,
   "id": "b9649eaa-2edb-4658-a49d-1fcce90c66ed",
   "metadata": {},
   "outputs": [
    {
     "data": {
      "text/plain": [
       "'Hello My Name Is Lee Do Hyung'"
      ]
     },
     "execution_count": 23,
     "metadata": {},
     "output_type": "execute_result"
    }
   ],
   "source": [
    "a.title()  # 단어 시작마다 대문자로 변경을 해준다"
   ]
  },
  {
   "cell_type": "code",
   "execution_count": 27,
   "id": "33d9be9b-31ab-4e72-9703-b1db7539c305",
   "metadata": {},
   "outputs": [
    {
     "data": {
      "text/plain": [
       "'HELLO MY NAME IS LEE DO HYUNG'"
      ]
     },
     "execution_count": 27,
     "metadata": {},
     "output_type": "execute_result"
    }
   ],
   "source": [
    "a.upper() "
   ]
  },
  {
   "cell_type": "code",
   "execution_count": 28,
   "id": "28172100-4b40-4464-ab8e-eeeaa634b1c4",
   "metadata": {},
   "outputs": [
    {
     "data": {
      "text/plain": [
       "'hello my name is lee do hyung'"
      ]
     },
     "execution_count": 28,
     "metadata": {},
     "output_type": "execute_result"
    }
   ],
   "source": [
    "a.lower()"
   ]
  },
  {
   "cell_type": "code",
   "execution_count": 31,
   "id": "b587bc95-21b2-469e-8dab-f4245366d3ad",
   "metadata": {},
   "outputs": [
    {
     "data": {
      "text/plain": [
       "'himyname'"
      ]
     },
     "execution_count": 31,
     "metadata": {},
     "output_type": "execute_result"
    }
   ],
   "source": [
    "#''.join(iterable)\n",
    "my_list = ['hi', 'my', 'name']\n",
    "''.join(my_list)"
   ]
  },
  {
   "cell_type": "code",
   "execution_count": 33,
   "id": "876a8295-dc30-42df-a8ca-2a0681f55344",
   "metadata": {},
   "outputs": [
    {
     "data": {
      "text/plain": [
       "'w!!!!!!!!!!!!!!!!!w'"
      ]
     },
     "execution_count": 33,
     "metadata": {},
     "output_type": "execute_result"
    }
   ],
   "source": [
    "#.replace(old, new[, count])  대괄 호는 선택적인 함수 있어도 되고 없어도 되는것\n",
    "'wooooooooooooooooow'.replace('o', '!')"
   ]
  },
  {
   "cell_type": "code",
   "execution_count": 34,
   "id": "8668b04c-7c48-46a2-9032-a74d15b731df",
   "metadata": {},
   "outputs": [
    {
     "data": {
      "text/plain": [
       "'w!!!oooooooooooooow'"
      ]
     },
     "execution_count": 34,
     "metadata": {},
     "output_type": "execute_result"
    }
   ],
   "source": [
    "'wooooooooooooooooow'.replace('o', '!', 3)"
   ]
  },
  {
   "cell_type": "code",
   "execution_count": 43,
   "id": "f8dc0bd5-e7f8-471f-bc08-75ad86fa60f0",
   "metadata": {},
   "outputs": [
    {
     "name": "stdout",
     "output_type": "stream",
     "text": [
      "      hello\n",
      "      \n",
      "hello\n"
     ]
    },
    {
     "data": {
      "text/plain": [
       "'      hello\\n      '"
      ]
     },
     "execution_count": 43,
     "metadata": {},
     "output_type": "execute_result"
    }
   ],
   "source": [
    "# . strip()   비여있는 공백을 지운다\n",
    "# . strip([chars]) \n",
    "my_string = '      hello\\n      '\n",
    "my_string.strip()\n",
    "print(my_string)\n",
    "print(my_string.strip())\n",
    "\n",
    "my_string2 = ' hihihihihihihihihihihellohihihihihihi'\n",
    "my_string.strip('hi')"
   ]
  },
  {
   "cell_type": "code",
   "execution_count": 48,
   "id": "66fa8f83-25d5-48d6-9c13-8dcfe169d5d9",
   "metadata": {},
   "outputs": [
    {
     "name": "stdout",
     "output_type": "stream",
     "text": [
      "ello\n",
      "ellohihihihihihi\n",
      "hihihihihihihihihihihello\n"
     ]
    }
   ],
   "source": [
    "my_string2 = 'hihihihihihihihihihihellohihihihihihi'\n",
    "my_string.strip('hi')\n",
    "print(my_string2.strip('hi'))\n",
    "print(my_string2.lstrip('hi'))\n",
    "print(my_string2.rstrip('hi'))"
   ]
  },
  {
   "cell_type": "code",
   "execution_count": 54,
   "id": "9c9fdac6-7f72-48ce-a4bc-dfe4a43c9ee1",
   "metadata": {},
   "outputs": [
    {
     "name": "stdout",
     "output_type": "stream",
     "text": [
      "1\n",
      "1\n",
      "-1\n"
     ]
    }
   ],
   "source": [
    "# .find(x)\n",
    "a = 'apple'\n",
    "print(a.find('p'))\n",
    "print(a.find('p'))  # p의 갯수를 찾을꺼면 count, a에 들어가는 문자를 리스트롤 만드로 싶으면 for문\n",
    "print(a.find('z'))"
   ]
  },
  {
   "cell_type": "code",
   "execution_count": 56,
   "id": "f51cbd99-bfa6-4444-a559-0a5802c227ea",
   "metadata": {},
   "outputs": [],
   "source": [
    "# for char in range(len(a)):\n",
    "#     if 'p' == a[i]:\n",
    "#         print(i)"
   ]
  },
  {
   "cell_type": "code",
   "execution_count": 52,
   "id": "d4f92fc5-93b0-43b6-b5a6-04dffaa68c4b",
   "metadata": {},
   "outputs": [
    {
     "ename": "TypeError",
     "evalue": "must be str, not int",
     "output_type": "error",
     "traceback": [
      "\u001b[1;31m---------------------------------------------------------------------------\u001b[0m",
      "\u001b[1;31mTypeError\u001b[0m                                 Traceback (most recent call last)",
      "Cell \u001b[1;32mIn[52], line 3\u001b[0m\n\u001b[0;32m      1\u001b[0m \u001b[38;5;66;03m# . index(x)\u001b[39;00m\n\u001b[0;32m      2\u001b[0m a \u001b[38;5;241m=\u001b[39m \u001b[38;5;124m'\u001b[39m\u001b[38;5;124mapple\u001b[39m\u001b[38;5;124m'\u001b[39m\n\u001b[1;32m----> 3\u001b[0m \u001b[43ma\u001b[49m\u001b[38;5;241;43m.\u001b[39;49m\u001b[43mindex\u001b[49m\u001b[43m(\u001b[49m\u001b[43ma\u001b[49m\u001b[38;5;241;43m.\u001b[39;49m\u001b[43mindex\u001b[49m\u001b[43m(\u001b[49m\u001b[38;5;124;43m'\u001b[39;49m\u001b[38;5;124;43mp\u001b[39;49m\u001b[38;5;124;43m'\u001b[39;49m\u001b[43m)\u001b[49m\u001b[43m)\u001b[49m\n\u001b[0;32m      4\u001b[0m a\u001b[38;5;241m.\u001b[39mindex(a\u001b[38;5;241m.\u001b[39mindex(\u001b[38;5;124m'\u001b[39m\u001b[38;5;124mz\u001b[39m\u001b[38;5;124m'\u001b[39m))\n",
      "\u001b[1;31mTypeError\u001b[0m: must be str, not int"
     ]
    }
   ],
   "source": [
    "# . index(x)\n",
    "a = 'apple'\n",
    "a.index(a.index('p'))\n",
    "a.index(a.index('z'))"
   ]
  },
  {
   "cell_type": "code",
   "execution_count": 58,
   "id": "da1bd7e6-8cb2-44ae-b4bf-e15bcc5eca9d",
   "metadata": {},
   "outputs": [
    {
     "data": {
      "text/plain": [
       "['my', 'name', 'is', 'lee']"
      ]
     },
     "execution_count": 58,
     "metadata": {},
     "output_type": "execute_result"
    }
   ],
   "source": [
    "# split(x) 문자 열을 나눌떄 사용\n",
    "a = 'my name is lee'\n",
    "a.split()"
   ]
  },
  {
   "cell_type": "code",
   "execution_count": 60,
   "id": "925ef675-2db9-48b0-b430-bb9405611169",
   "metadata": {},
   "outputs": [
    {
     "data": {
      "text/plain": [
       "['my', 'name', 'is', 'lee']"
      ]
     },
     "execution_count": 60,
     "metadata": {},
     "output_type": "execute_result"
    }
   ],
   "source": [
    "a = 'my_name_is_lee'\n",
    "a.split('_')"
   ]
  },
  {
   "cell_type": "code",
   "execution_count": 65,
   "id": "efefaa0d-e6ef-48f3-a31f-a7583e9ab83b",
   "metadata": {},
   "outputs": [
    {
     "data": {
      "text/plain": [
       "5"
      ]
     },
     "execution_count": 65,
     "metadata": {},
     "output_type": "execute_result"
    }
   ],
   "source": [
    "# .count()'\n",
    "'wooooow'.count('o')"
   ]
  },
  {
   "cell_type": "markdown",
   "id": "dc8c799c-a965-4d21-a34f-ec256754cf1f",
   "metadata": {},
   "source": [
    "## 2. 리스트 메소드"
   ]
  },
  {
   "cell_type": "code",
   "execution_count": 92,
   "id": "48903531-682e-4c0a-ace8-841380ae589e",
   "metadata": {},
   "outputs": [],
   "source": [
    "numbers = [1, 2, 2, 5, 2, 1, 6, 2, 4, 4]"
   ]
  },
  {
   "cell_type": "code",
   "execution_count": 77,
   "id": "b9d746ca-1211-4d18-a1fd-ab54af0f8ca7",
   "metadata": {},
   "outputs": [
    {
     "name": "stdout",
     "output_type": "stream",
     "text": [
      "[1, 2, 2, 5, 2, 1, 6, 2, 4, 4, 10]\n"
     ]
    }
   ],
   "source": [
    "# .append(x) 데이터를 추가한다, 리스트는 수정이 가능하며 apennd는 원본 자체를 수정해준다\n",
    "numbers.append(10)\n",
    "print(numbers)"
   ]
  },
  {
   "cell_type": "code",
   "execution_count": 78,
   "id": "fffbf8ee-e963-418c-b1fc-52eb49fe1ea8",
   "metadata": {},
   "outputs": [
    {
     "name": "stdout",
     "output_type": "stream",
     "text": [
      "[1, 2, 2, 5, 2, 1, 6, 2, 4, 4, 10, 99, 100]\n",
      "[1, 2, 2, 5, 2, 1, 6, 2, 4, 4, 10, 99, 100, 99, 100]\n"
     ]
    }
   ],
   "source": [
    "# .extend(iterable)\n",
    "a = [99,100]\n",
    "numbers.extend(a)\n",
    "print(numbers)\n",
    "print(numbers + a)"
   ]
  },
  {
   "cell_type": "code",
   "execution_count": 79,
   "id": "88254298-35db-4848-bf5b-644ed71afdac",
   "metadata": {},
   "outputs": [
    {
     "name": "stdout",
     "output_type": "stream",
     "text": [
      "[1, 2, 2, 3.5, 5, 2, 1, 6, 2, 4, 4, 10, 99, 100]\n"
     ]
    }
   ],
   "source": [
    "# insert(idx, x)  내가 원하는 위치에 데이터를 넣을때 사용\n",
    "numbers.insert(3, 3.5)\n",
    "print(numbers)"
   ]
  },
  {
   "cell_type": "code",
   "execution_count": 80,
   "id": "e33650ec-ceeb-4f2e-9b8a-5a7bc669f103",
   "metadata": {},
   "outputs": [
    {
     "name": "stdout",
     "output_type": "stream",
     "text": [
      "[1, 2, 2, 5, 2, 1, 6, 2, 4, 4, 10, 99, 100]\n"
     ]
    }
   ],
   "source": [
    "# remove(x)\n",
    "numbers.remove(3.5)\n",
    "print(numbers)"
   ]
  },
  {
   "cell_type": "code",
   "execution_count": 84,
   "id": "f28cac32-b370-418e-b104-fa8b10d41ce7",
   "metadata": {},
   "outputs": [
    {
     "name": "stdout",
     "output_type": "stream",
     "text": [
      "[2, 5, 2, 1, 6, 2, 4, 4, 10]\n"
     ]
    }
   ],
   "source": [
    "# . pop([idx])  idx값을 적으면 그 위치에 있는 데이터를 지우고, 안 적으면 맨 뒤에 있는 데이터 부터 삭제 된다\n",
    "numbers.pop(0)\n",
    "print(numbers)"
   ]
  },
  {
   "cell_type": "code",
   "execution_count": 90,
   "id": "3d92d64c-7689-4602-a604-7798296fe994",
   "metadata": {},
   "outputs": [
    {
     "name": "stdout",
     "output_type": "stream",
     "text": [
      "[1, 2, 2, 2, 4, 4, 5, 6, 10]\n",
      "[10, 6, 5, 4, 4, 2, 2, 2, 1]\n"
     ]
    }
   ],
   "source": [
    "# .sort()\n",
    "numbers.sort()\n",
    "print(numbers)\n",
    "numbers.sort(reverse=True)  # 오름 차순으로 정렬이 됨\n",
    "print(numbers)"
   ]
  },
  {
   "cell_type": "code",
   "execution_count": 97,
   "id": "2e127ddf-c469-47da-a002-500ab2f376eb",
   "metadata": {},
   "outputs": [
    {
     "name": "stdout",
     "output_type": "stream",
     "text": [
      "[4, 4, 2, 6, 1, 2, 5, 2, 2, 1]\n",
      "[1, 2, 2, 5, 2, 1, 6, 2, 4, 4]\n",
      "[4, 4, 2, 6, 1, 2, 5, 2, 2, 1]\n"
     ]
    }
   ],
   "source": [
    "# . reverse() 데이터를 역순으로 만들때\n",
    "print(numbers)\n",
    "numbers.reverse()\n",
    "print(numbers)\n",
    "numbers = numbers[ : : -1 ]  # numbers = numbers[0: -1 : -1] 앞에는 안보이지만 0, -1 이 들어가 있는것이다\n",
    "print(numbers)"
   ]
  },
  {
   "cell_type": "markdown",
   "id": "d742ca6e-5593-4d04-b072-16f5760b3216",
   "metadata": {},
   "source": [
    "## 2.1 list copy"
   ]
  },
  {
   "cell_type": "code",
   "execution_count": 98,
   "id": "eb426550-9cf7-449f-9b0d-e23bceaa2fdb",
   "metadata": {},
   "outputs": [],
   "source": [
    "origin_list = [1, 2, 3]\n",
    "copy_list = origin_list"
   ]
  },
  {
   "cell_type": "code",
   "execution_count": 99,
   "id": "b5447ec5-3c86-4f17-a007-848f18924c03",
   "metadata": {},
   "outputs": [
    {
     "name": "stdout",
     "output_type": "stream",
     "text": [
      "[1, 2, 3]\n",
      "[1, 2, 3]\n"
     ]
    }
   ],
   "source": [
    "print(origin_list)\n",
    "print(copy_list)"
   ]
  },
  {
   "cell_type": "code",
   "execution_count": 100,
   "id": "b158ca26-7fc9-4d80-9c51-9d266c29f030",
   "metadata": {},
   "outputs": [],
   "source": [
    "copy_list[0] =100"
   ]
  },
  {
   "cell_type": "code",
   "execution_count": 101,
   "id": "2cf0f55d-d80b-4798-8be0-6675bdf1b7e2",
   "metadata": {},
   "outputs": [
    {
     "name": "stdout",
     "output_type": "stream",
     "text": [
      "[100, 2, 3]\n",
      "[100, 2, 3]\n"
     ]
    }
   ],
   "source": [
    "print(origin_list)\n",
    "print(copy_list)"
   ]
  },
  {
   "cell_type": "code",
   "execution_count": 105,
   "id": "0c70b6d0-85a3-40ba-9047-73c2a11aa1ba",
   "metadata": {},
   "outputs": [
    {
     "name": "stdout",
     "output_type": "stream",
     "text": [
      "[1, 2, 3]\n",
      "[100, 2, 3]\n"
     ]
    }
   ],
   "source": [
    "a = [1, 2, 3]\n",
    "b = a[ : ]  # 0번 부터 끝까지라는 의미\n",
    "b = list(a)\n",
    "\n",
    "b[0] = 100\n",
    "\n",
    "print(a)\n",
    "print(b)"
   ]
  },
  {
   "cell_type": "code",
   "execution_count": 106,
   "id": "a8ef7862-775a-49d6-9a1b-223f360292bb",
   "metadata": {},
   "outputs": [
    {
     "name": "stdout",
     "output_type": "stream",
     "text": [
      "[1, 2, [100, 4]]\n",
      "[1, 2, [100, 4]]\n"
     ]
    }
   ],
   "source": [
    "a = [1, 2, [3, 4]]\n",
    "b = a[:]\n",
    "\n",
    "b [2][0] = 100\n",
    "\n",
    "print(a)\n",
    "print(b)"
   ]
  },
  {
   "cell_type": "code",
   "execution_count": 107,
   "id": "cb74519c-76f8-41b1-bcb2-430533e387af",
   "metadata": {},
   "outputs": [
    {
     "name": "stdout",
     "output_type": "stream",
     "text": [
      "[1, 2, [3, 4]]\n",
      "[1, 2, [100, 4]]\n"
     ]
    }
   ],
   "source": [
    "import copy  # 복사\n",
    "a = [1, 2, [3, 4]]\n",
    "b = copy.deepcopy(a)\n",
    "\n",
    "b[2][0] = 100\n",
    "\n",
    "print(a)\n",
    "print(b)"
   ]
  },
  {
   "cell_type": "markdown",
   "id": "1d561e8b-9c83-462d-b6cc-a504744092ce",
   "metadata": {},
   "source": [
    "## 2.2 list comprehension"
   ]
  },
  {
   "cell_type": "code",
   "execution_count": 108,
   "id": "a68ee50c-4c85-4f49-91ae-8714168d945b",
   "metadata": {},
   "outputs": [],
   "source": [
    "numbers = list(range(1, 11))"
   ]
  },
  {
   "cell_type": "code",
   "execution_count": 109,
   "id": "f1ae2726-8b99-473b-b18a-6940a08b6a93",
   "metadata": {},
   "outputs": [
    {
     "name": "stdout",
     "output_type": "stream",
     "text": [
      "[1, 2, 3, 4, 5, 6, 7, 8, 9, 10]\n"
     ]
    }
   ],
   "source": [
    "print(numbers)"
   ]
  },
  {
   "cell_type": "code",
   "execution_count": 113,
   "id": "84a66c79-db27-44fb-a082-d06e7be18c8d",
   "metadata": {},
   "outputs": [
    {
     "name": "stdout",
     "output_type": "stream",
     "text": [
      "[1, 8, 27, 64, 125, 216, 343, 512, 729, 1000]\n"
     ]
    }
   ],
   "source": [
    "# [1, 8, 27, .... 1000]\n",
    "result = []\n",
    "for number in numbers:\n",
    "    result.append(number ** 3)\n",
    "\n",
    "print(result)"
   ]
  },
  {
   "cell_type": "code",
   "execution_count": 119,
   "id": "16d56504-a1b3-4321-962e-a926184d66d3",
   "metadata": {},
   "outputs": [
    {
     "name": "stdout",
     "output_type": "stream",
     "text": [
      "[1, 8, 27, 64, 125, 216, 343, 512, 729, 1000]\n",
      "[3, 6, 9, 12, 15, 18, 21, 24, 27, 30]\n"
     ]
    }
   ],
   "source": [
    "result2 = [number ** 3 for number in numbers]\n",
    "result3 = [number * 3 for number in numbers]\n",
    "# 리스트 안에 for 문을 쓸 수 있다. 앞에 다가는 어떤 데이터를 넣을지를 적어주면 된다\n",
    "print(result2)\n",
    "print(result3)"
   ]
  },
  {
   "cell_type": "code",
   "execution_count": 122,
   "id": "2e6540ad-d777-437f-a5ab-cf8f26f9ed9c",
   "metadata": {},
   "outputs": [
    {
     "name": "stdout",
     "output_type": "stream",
     "text": [
      "[2, 4, 6, 8, 10]\n"
     ]
    }
   ],
   "source": [
    "# 짝수만 고르기\n",
    "# 반복문 버전\n",
    "even_list = []\n",
    "for i in numbers:\n",
    "    if i % 2 == 0:\n",
    "        even_list.append(i)\n",
    "\n",
    "print(even_list)"
   ]
  },
  {
   "cell_type": "code",
   "execution_count": 124,
   "id": "9135910e-8f24-4b4a-b213-9f375018641b",
   "metadata": {},
   "outputs": [
    {
     "name": "stdout",
     "output_type": "stream",
     "text": [
      "[2, 4, 6, 8, 10]\n"
     ]
    }
   ],
   "source": [
    "# 리스트 컴프레션 버전\n",
    "even_list2 = [i for i in numbers if i % 2 == 0]\n",
    "# 1번째로 for문 먼저 실행하고 2번째로 if문 실행 마지막 3번째로 i 실행\n",
    "print(even_list2)"
   ]
  },
  {
   "cell_type": "code",
   "execution_count": 133,
   "id": "9ced5d35-049e-42fc-bf21-fcc50fee5813",
   "metadata": {},
   "outputs": [
    {
     "name": "stdout",
     "output_type": "stream",
     "text": [
      "my name is changhee\n"
     ]
    }
   ],
   "source": [
    "words = 'my name is changhee'\n",
    "vowels = 'aeiou'\n",
    "\n",
    "# => my nm s chngh\n",
    "print(words)\n"
   ]
  },
  {
   "cell_type": "code",
   "execution_count": 135,
   "id": "d6e02750-6944-4861-8a1b-71f032117984",
   "metadata": {},
   "outputs": [
    {
     "name": "stdout",
     "output_type": "stream",
     "text": [
      "['m', 'y', ' ', 'n', 'm', ' ', 's', ' ', 'c', 'h', 'n', 'g', 'h']\n",
      "my nm s chngh\n"
     ]
    }
   ],
   "source": [
    "# 1. for 문 버전\n",
    "result = []\n",
    "for char in words:\n",
    "    #print(char)\n",
    "    if char not in vowels:  # 포함 되어 있지 않는것을 찾느것이기때문에 not in \n",
    "        result.append(char)\n",
    "\n",
    "print(result)\n",
    "print(''.join(result))"
   ]
  },
  {
   "cell_type": "code",
   "execution_count": 140,
   "id": "fc21e16f-9ef6-4ba0-805e-98125fdece78",
   "metadata": {},
   "outputs": [
    {
     "name": "stdout",
     "output_type": "stream",
     "text": [
      "['m', 'y', ' ', 'n', 'm', ' ', 's', ' ', 'c', 'h', 'n', 'g', 'h']\n",
      "my nm s chngh\n"
     ]
    }
   ],
   "source": [
    "# 2. list comprehesion 버전\n",
    "result2 = [char for char in words if char not in vowels]\n",
    "print(result2)\n",
    "print(''.join(result))"
   ]
  },
  {
   "cell_type": "code",
   "execution_count": 141,
   "id": "61df3289-eef7-45dc-89b9-d0ca4412cf55",
   "metadata": {},
   "outputs": [
    {
     "name": "stdout",
     "output_type": "stream",
     "text": [
      "['M', 'Y', ' ', 'N', 'M', ' ', 'S', ' ', 'C', 'H', 'N', 'G', 'H']\n",
      "my nm s chngh\n"
     ]
    }
   ],
   "source": [
    "result2 = [char.upper() for char in words if char not in vowels]\n",
    "print(result2)\n",
    "print(''.join(result))"
   ]
  },
  {
   "cell_type": "markdown",
   "id": "55ca8150-456f-4b5c-8dd6-7e7050df4108",
   "metadata": {},
   "source": [
    "## 3. 딕셔너리 메소드"
   ]
  },
  {
   "cell_type": "code",
   "execution_count": 150,
   "id": "ac896a0e-5a40-4844-b66b-4c7432c467e1",
   "metadata": {},
   "outputs": [],
   "source": [
    "info = {\n",
    "    'name' : 'changhee',\n",
    "    'location': 'seoul',\n",
    "}"
   ]
  },
  {
   "cell_type": "code",
   "execution_count": 151,
   "id": "8c79f82f-e355-4522-b7cf-b5063262809f",
   "metadata": {},
   "outputs": [
    {
     "name": "stdout",
     "output_type": "stream",
     "text": [
      "kim\n"
     ]
    }
   ],
   "source": [
    "info['name'] = 'kim'\n",
    "print(info['name'])"
   ]
  },
  {
   "cell_type": "code",
   "execution_count": 158,
   "id": "425368a6-3399-4538-b5f0-0dfa9706a421",
   "metadata": {},
   "outputs": [
    {
     "name": "stdout",
     "output_type": "stream",
     "text": [
      "None\n",
      "{'name': 'kim'}\n"
     ]
    }
   ],
   "source": [
    "# .pop(key[, default])\n",
    "print(info.pop('location', 'None'))\n",
    "print(info)"
   ]
  },
  {
   "cell_type": "code",
   "execution_count": 159,
   "id": "398d8ba7-5ec9-4feb-ace4-1b839daed39e",
   "metadata": {},
   "outputs": [
    {
     "name": "stdout",
     "output_type": "stream",
     "text": [
      "None\n",
      "{'name': 'changhee'}\n"
     ]
    }
   ],
   "source": [
    "# .update(key[, default])\n",
    "print(info.update(name='changhee'))\n",
    "print(info)"
   ]
  },
  {
   "cell_type": "code",
   "execution_count": 160,
   "id": "2a790c78-ed43-4f66-940c-8220f44daf41",
   "metadata": {},
   "outputs": [
    {
     "name": "stdout",
     "output_type": "stream",
     "text": [
      "changhee\n",
      "123\n"
     ]
    }
   ],
   "source": [
    "# .pop(key[, default])\n",
    "print(info.get('name'))\n",
    "print(info.get('school', '123'))\n",
    "#print(info['school'])  # 대괄호로 할때는 데이터가 없으면 error가 뜸"
   ]
  },
  {
   "cell_type": "markdown",
   "id": "f1748d53-1dd3-42bb-99a9-0cad6178605a",
   "metadata": {},
   "source": [
    "## 3.1 dict comprehension"
   ]
  },
  {
   "cell_type": "code",
   "execution_count": 163,
   "id": "80353b70-00ca-40c8-a71f-8a0ec6e03ef3",
   "metadata": {},
   "outputs": [],
   "source": [
    "# {1: 1, 2: 8, 3:27}"
   ]
  },
  {
   "cell_type": "code",
   "execution_count": 165,
   "id": "af030fc4-e9aa-4c59-920b-b19bd49e8c31",
   "metadata": {},
   "outputs": [
    {
     "name": "stdout",
     "output_type": "stream",
     "text": [
      "{1: 1, 2: 8, 3: 27}\n"
     ]
    }
   ],
   "source": [
    "#for\n",
    "cube_dict = {}\n",
    "for i in range(1, 4):\n",
    "    cube_dict[i] = i ** 3\n",
    "print(cube_dict)"
   ]
  },
  {
   "cell_type": "code",
   "execution_count": 166,
   "id": "08aad456-02a2-4826-96b8-5ca0a215cffe",
   "metadata": {},
   "outputs": [
    {
     "name": "stdout",
     "output_type": "stream",
     "text": [
      "{1: 1, 2: 8, 3: 27}\n"
     ]
    }
   ],
   "source": [
    "# comp\n",
    "cube_dict2 = { i: i **3 for i in range(1, 4)}\n",
    "print(cube_dict2)"
   ]
  },
  {
   "cell_type": "code",
   "execution_count": 180,
   "id": "85ade749-5991-4947-9786-247482a375de",
   "metadata": {},
   "outputs": [],
   "source": [
    "#\n",
    "dust = {\n",
    "    '서울':  100,\n",
    "    '대구': 30,\n",
    "    '대전': 10,\n",
    "    '부산': 80,\n",
    "    '광주': 50,\n",
    "}\n",
    "# =>\n",
    "# resutl = {\n",
    "#     '서울':  100,\n",
    "#     '부산': 80,\n",
    "#     '광주': 50,\n",
    "# }"
   ]
  },
  {
   "cell_type": "code",
   "execution_count": 181,
   "id": "a9cca555-eab4-48aa-906b-dfbec0353ff0",
   "metadata": {},
   "outputs": [],
   "source": [
    "# #1. for문\n",
    "# result = []\n",
    "# for i in dust:\n",
    "#     #dust[i]\n",
    "#     if i in i >50:\n",
    "\n",
    "# print(result)"
   ]
  },
  {
   "cell_type": "code",
   "execution_count": 185,
   "id": "62731755-0ced-46aa-a570-8b5dce04a994",
   "metadata": {},
   "outputs": [
    {
     "ename": "TypeError",
     "evalue": "list indices must be integers or slices, not str",
     "output_type": "error",
     "traceback": [
      "\u001b[1;31m---------------------------------------------------------------------------\u001b[0m",
      "\u001b[1;31mTypeError\u001b[0m                                 Traceback (most recent call last)",
      "Cell \u001b[1;32mIn[185], line 3\u001b[0m\n\u001b[0;32m      1\u001b[0m \u001b[38;5;28;01mfor\u001b[39;00m k, v \u001b[38;5;129;01min\u001b[39;00m dust\u001b[38;5;241m.\u001b[39mitems():\n\u001b[0;32m      2\u001b[0m     \u001b[38;5;28;01mif\u001b[39;00m v \u001b[38;5;241m>\u001b[39m\u001b[38;5;241m=\u001b[39m\u001b[38;5;241m50\u001b[39m:\n\u001b[1;32m----> 3\u001b[0m         \u001b[43mresult\u001b[49m\u001b[43m[\u001b[49m\u001b[43mk\u001b[49m\u001b[43m]\u001b[49m \u001b[38;5;241m=\u001b[39m v\n\u001b[0;32m      5\u001b[0m \u001b[38;5;28mprint\u001b[39m(result)\n",
      "\u001b[1;31mTypeError\u001b[0m: list indices must be integers or slices, not str"
     ]
    }
   ],
   "source": [
    "for k, v in dust.items():\n",
    "    if v >=50:\n",
    "        result[k] = v\n",
    "\n",
    "print(result)"
   ]
  },
  {
   "cell_type": "code",
   "execution_count": 184,
   "id": "ed8a9521-f8e6-4201-b741-02e229efacd1",
   "metadata": {},
   "outputs": [
    {
     "name": "stdout",
     "output_type": "stream",
     "text": [
      "{'서울': 100, '부산': 80, '광주': 50}\n"
     ]
    }
   ],
   "source": [
    "#2 comp문\n",
    "result2 = {k: v for k, v in dust.items() if v >= 50}\n",
    "print(result2)"
   ]
  },
  {
   "cell_type": "code",
   "execution_count": 186,
   "id": "e7f30531-13c1-4559-bc8c-5c2be5f7051e",
   "metadata": {},
   "outputs": [
    {
     "name": "stdout",
     "output_type": "stream",
     "text": [
      "{'서울': '나쁨', '부산': '나쁨', '광주': '나쁨'}\n"
     ]
    }
   ],
   "source": [
    "#2 comp문\n",
    "result2 = {k: '나쁨' for k, v in dust.items() if v >= 50}\n",
    "print(result2)"
   ]
  },
  {
   "cell_type": "markdown",
   "id": "6b7e2463-9daf-43fa-aae4-1aa3941fde68",
   "metadata": {},
   "source": [
    "## 세트 메소드"
   ]
  },
  {
   "cell_type": "code",
   "execution_count": 187,
   "id": "3bf8710d-11eb-4a94-a58f-08e0e610c9ee",
   "metadata": {},
   "outputs": [],
   "source": [
    "#순서가 없는 집합"
   ]
  },
  {
   "cell_type": "code",
   "execution_count": 188,
   "id": "6a8465f0-1f93-4bfb-890d-754780b3ad63",
   "metadata": {},
   "outputs": [],
   "source": [
    "fruits = {'apple', 'banana', 'melon'}"
   ]
  },
  {
   "cell_type": "code",
   "execution_count": 190,
   "id": "388fb9c3-df46-47c2-98a1-618da020c328",
   "metadata": {},
   "outputs": [
    {
     "name": "stdout",
     "output_type": "stream",
     "text": [
      "{'melon', 'watermelon', 'banana', 'apple'}\n",
      "{'melon', 'watermelon', 'banana', 'apple'}\n"
     ]
    }
   ],
   "source": [
    "# .add(x)\n",
    "fruits.add('watermelon')\n",
    "print(fruits)\n",
    "fruits.add('watermelon')\n",
    "print(fruits)  # 중복된 데이터가 없기 때문에 1개만 추가한다"
   ]
  },
  {
   "cell_type": "code",
   "execution_count": 193,
   "id": "1283d600-a09a-42a0-a6c1-6c593a896f9a",
   "metadata": {},
   "outputs": [
    {
     "name": "stdout",
     "output_type": "stream",
     "text": [
      "{'melon', 'n', 'apple', 'watermelon', 'a', 'r', 'e', 'o', 'g', 'p', 'banana'}\n",
      "{'melon', 'n', 'apple', 'watermelon', 'a', 'r', 'pear', 'orange', 'e', 'o', 'g', 'p', 'banana'}\n"
     ]
    }
   ],
   "source": [
    "# .update()\n",
    "fruits.update('grape')\n",
    "print(fruits)\n",
    "fruits.update({'orange', 'pear'})\n",
    "print(fruits)"
   ]
  },
  {
   "cell_type": "code",
   "execution_count": 194,
   "id": "f1361c67-e1ff-4f75-8f45-b6755d39ecdd",
   "metadata": {},
   "outputs": [
    {
     "name": "stdout",
     "output_type": "stream",
     "text": [
      "{'melon', 'n', 'apple', 'watermelon', 'a', 'r', 'pear', 'e', 'o', 'g', 'p', 'banana'}\n"
     ]
    }
   ],
   "source": [
    " # .remove()\n",
    "fruits.remove('orange')\n",
    "print(fruits)"
   ]
  },
  {
   "cell_type": "code",
   "execution_count": 199,
   "id": "5101db01-7436-45c0-8b08-4caf81be7aa9",
   "metadata": {},
   "outputs": [
    {
     "name": "stdout",
     "output_type": "stream",
     "text": [
      "{'r', 'pear', 'e', 'o', 'g', 'p', 'banana'}\n"
     ]
    }
   ],
   "source": [
    "# .pop() # 들어 있는 집합에서 무작위로 빠짐\n",
    "fruits.pop()\n",
    "print(fruits)"
   ]
  },
  {
   "cell_type": "markdown",
   "id": "276b7b17-0715-485c-a46a-2264b765b7c2",
   "metadata": {},
   "source": [
    "## 5. map(), zip(), filter()"
   ]
  },
  {
   "cell_type": "markdown",
   "id": "436125d7-a472-4812-8c0a-f29b8ce123a4",
   "metadata": {},
   "source": [
    "## 5.1 map()\n",
    "```\n",
    "map(function, iterable)\n",
    "```"
   ]
  },
  {
   "cell_type": "code",
   "execution_count": 200,
   "id": "b34af4dd-525b-45a8-a1da-9cf3375591fb",
   "metadata": {},
   "outputs": [
    {
     "name": "stdout",
     "output_type": "stream",
     "text": [
      "<map object at 0x000001D7B103AAD0>\n",
      "['1', '2', '3']\n"
     ]
    }
   ],
   "source": [
    "a = [1, 2, 3]\n",
    "\n",
    "number_str = map(str,a)\n",
    "print(number_str)\n",
    "print(list(number_str))"
   ]
  },
  {
   "cell_type": "code",
   "execution_count": 201,
   "id": "284ec5e9-d3d8-4b7b-ba2e-000c832e1133",
   "metadata": {},
   "outputs": [],
   "source": [
    "def cube(x):\n",
    "    return x ** 3"
   ]
  },
  {
   "cell_type": "code",
   "execution_count": 203,
   "id": "71007274-8123-4c47-a63b-8baea264fe00",
   "metadata": {},
   "outputs": [
    {
     "name": "stdout",
     "output_type": "stream",
     "text": [
      "[1, 8, 27]\n"
     ]
    }
   ],
   "source": [
    "#for문을 활용하여 모든 item에 cube함수 실행\n",
    "result = []\n",
    "for i in a:\n",
    "    result.append(cube(i))\n",
    "print(result)"
   ]
  },
  {
   "cell_type": "code",
   "execution_count": 204,
   "id": "acef668d-2519-47c9-9e97-10e9606e61c5",
   "metadata": {},
   "outputs": [
    {
     "name": "stdout",
     "output_type": "stream",
     "text": [
      "[1, 8, 27]\n"
     ]
    }
   ],
   "source": [
    "result2 = map(cube, a)\n",
    "print(list(result2))"
   ]
  },
  {
   "cell_type": "markdown",
   "id": "3dd5146c-dd91-4b08-a2d0-0093011e84fb",
   "metadata": {},
   "source": [
    "numbers = list(map(int, input().split()))\n",
    "print(numbers)"
   ]
  },
  {
   "cell_type": "markdown",
   "id": "6f60d041-3dc9-49e5-b177-20fa8a34f3e7",
   "metadata": {},
   "source": [
    "## 5.2 Zip"
   ]
  },
  {
   "cell_type": "code",
   "execution_count": 211,
   "id": "e43704c2-2492-44db-a771-bb6eba473929",
   "metadata": {},
   "outputs": [],
   "source": [
    "a = [1, 2, 3]\n",
    "b = [100, 200, 300]"
   ]
  },
  {
   "cell_type": "code",
   "execution_count": 212,
   "id": "5e57d20c-a1b7-4387-8b92-17017e11be58",
   "metadata": {},
   "outputs": [
    {
     "name": "stdout",
     "output_type": "stream",
     "text": [
      "<zip object at 0x000001D7B159DA80>\n",
      "[(1, 100), (2, 200), (3, 300)]\n"
     ]
    }
   ],
   "source": [
    "result = zip(a, b)\n",
    "print(result)\n",
    "print(list(result))"
   ]
  },
  {
   "cell_type": "markdown",
   "id": "af6cdc28-c6a0-4374-84c7-def398e61376",
   "metadata": {},
   "source": [
    "## Filter\n",
    "```\n",
    "    filter(function, iterable)\n",
    "```\n",
    "filter에 들어가는 funtion T/F를 반환해야 합니다."
   ]
  },
  {
   "cell_type": "code",
   "execution_count": 213,
   "id": "79d0db88-da37-4b61-9d72-d00fa1137f46",
   "metadata": {},
   "outputs": [],
   "source": [
    "def is_odd(x):\n",
    "    # if  x% 2 == 1\n",
    "    # return True\n",
    "    # else:\n",
    "    # return False\n",
    "    return bool(x % 2)"
   ]
  },
  {
   "cell_type": "code",
   "execution_count": 215,
   "id": "3e91441f-2d0b-4bdd-b713-de65acb8b8e4",
   "metadata": {},
   "outputs": [
    {
     "name": "stdout",
     "output_type": "stream",
     "text": [
      "<filter object at 0x000001D7B103B370>\n",
      "[1, 3, 5]\n"
     ]
    }
   ],
   "source": [
    "numbers = [1, 2, 3, 4, 5]\n",
    "result = filter(is_odd, numbers)\n",
    "print(result)\n",
    "print(list(result))"
   ]
  },
  {
   "cell_type": "code",
   "execution_count": null,
   "id": "bcc7b0d7-76a9-42ba-a22b-219e931de3d9",
   "metadata": {},
   "outputs": [],
   "source": []
  }
 ],
 "metadata": {
  "kernelspec": {
   "display_name": "Python 3 (ipykernel)",
   "language": "python",
   "name": "python3"
  },
  "language_info": {
   "codemirror_mode": {
    "name": "ipython",
    "version": 3
   },
   "file_extension": ".py",
   "mimetype": "text/x-python",
   "name": "python",
   "nbconvert_exporter": "python",
   "pygments_lexer": "ipython3",
   "version": "3.11.4"
  }
 },
 "nbformat": 4,
 "nbformat_minor": 5
}
