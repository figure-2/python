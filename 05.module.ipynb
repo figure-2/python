{
 "cells": [
  {
   "cell_type": "markdown",
   "id": "7643e7cc-06ad-4385-97ac-d5604828eed5",
   "metadata": {},
   "source": [
    "## 1. 모듈"
   ]
  },
  {
   "cell_type": "code",
   "execution_count": 18,
   "id": "8cfc1bb1-8fd3-4d49-ba4a-d222d93e6553",
   "metadata": {},
   "outputs": [],
   "source": [
    "import fibo"
   ]
  },
  {
   "cell_type": "code",
   "execution_count": 19,
   "id": "437392e3-c88d-41c6-a051-edeb5114fbd7",
   "metadata": {},
   "outputs": [
    {
     "name": "stdout",
     "output_type": "stream",
     "text": [
      "<module 'fibo' from 'C:\\\\Users\\\\figure.2\\\\Desktop\\\\class 29\\\\Day3\\\\python 문법 정리\\\\fibo.py'>\n"
     ]
    }
   ],
   "source": [
    "print(fibo)"
   ]
  },
  {
   "cell_type": "code",
   "execution_count": 22,
   "id": "9b7ea5dc-e667-4a06-adfc-6bb56a55aa6b",
   "metadata": {},
   "outputs": [
    {
     "ename": "AttributeError",
     "evalue": "'list' object has no attribute 'appennd'",
     "output_type": "error",
     "traceback": [
      "\u001b[1;31m---------------------------------------------------------------------------\u001b[0m",
      "\u001b[1;31mAttributeError\u001b[0m                            Traceback (most recent call last)",
      "Cell \u001b[1;32mIn[22], line 1\u001b[0m\n\u001b[1;32m----> 1\u001b[0m \u001b[43mfibo\u001b[49m\u001b[38;5;241;43m.\u001b[39;49m\u001b[43mfib_loop\u001b[49m\u001b[43m(\u001b[49m\u001b[38;5;241;43m4\u001b[39;49m\u001b[43m)\u001b[49m\n",
      "File \u001b[1;32m~\\Desktop\\class 29\\Day3\\python 문법 정리\\fibo.py:11\u001b[0m, in \u001b[0;36mfib_loop\u001b[1;34m(n)\u001b[0m\n\u001b[0;32m      8\u001b[0m     end2 \u001b[38;5;241m=\u001b[39m result[\u001b[38;5;28mlen\u001b[39m(result)\u001b[38;5;241m-\u001b[39m\u001b[38;5;241m2\u001b[39m]  \u001b[38;5;66;03m# 앞에서 부터 접근\u001b[39;00m\n\u001b[0;32m      9\u001b[0m     fib_num \u001b[38;5;241m=\u001b[39m end1 \u001b[38;5;241m+\u001b[39m end2\n\u001b[1;32m---> 11\u001b[0m     \u001b[43mresult\u001b[49m\u001b[38;5;241;43m.\u001b[39;49m\u001b[43mappennd\u001b[49m(fib_num)\n\u001b[0;32m     13\u001b[0m \u001b[38;5;28;01mreturn\u001b[39;00m result[\u001b[38;5;241m-\u001b[39m\u001b[38;5;241m1\u001b[39m]\n",
      "\u001b[1;31mAttributeError\u001b[0m: 'list' object has no attribute 'appennd'"
     ]
    }
   ],
   "source": [
    "fibo.fib_loop(4)"
   ]
  },
  {
   "cell_type": "code",
   "execution_count": 21,
   "id": "eb38121e-8c97-42d4-8949-c3b629a90f14",
   "metadata": {},
   "outputs": [
    {
     "data": {
      "text/plain": [
       "3"
      ]
     },
     "execution_count": 21,
     "metadata": {},
     "output_type": "execute_result"
    }
   ],
   "source": [
    "fibo.fib_rec(3)"
   ]
  },
  {
   "cell_type": "code",
   "execution_count": null,
   "id": "2f3d274f-b86c-49c0-bbe3-0e984d492492",
   "metadata": {},
   "outputs": [],
   "source": []
  },
  {
   "cell_type": "markdown",
   "id": "9c361af7-e569-4589-8c4c-56dbc5de7a10",
   "metadata": {},
   "source": [
    "## 2. 패키지\n",
    "```\n",
    "myPackage/\n",
    "    __init__.py\n",
    "    math/\n",
    "        __init__.py\n",
    "        fibo.py\n",
    "        formula.py\n",
    "```\n",
    "\n",
    "패키지 안에 __init__.py 파일이 있어야 패키지로 인식"
   ]
  },
  {
   "cell_type": "code",
   "execution_count": 5,
   "id": "930f6903-b8bb-4c9f-9a2a-a90469b1dbfd",
   "metadata": {},
   "outputs": [],
   "source": [
    "import myPackage\n",
    "# 패키지 폴더 전체 추가"
   ]
  },
  {
   "cell_type": "code",
   "execution_count": 6,
   "id": "c0bd61ed-05fb-451b-9fb3-673e4fd3cc58",
   "metadata": {},
   "outputs": [
    {
     "name": "stdout",
     "output_type": "stream",
     "text": [
      "<module 'myPackage' from 'C:\\\\Users\\\\figure.2\\\\Desktop\\\\class 29\\\\Day3\\\\python 문법 정리\\\\myPackage\\\\__init__.py'>\n"
     ]
    }
   ],
   "source": [
    "print(myPackage)"
   ]
  },
  {
   "cell_type": "code",
   "execution_count": 7,
   "id": "1fb9f2ac-1b2f-4f0c-8d9c-e35fe9811947",
   "metadata": {},
   "outputs": [],
   "source": [
    "from myPackage.math import formula\n",
    "# 패키지 에서 필요한 모듈을 꺼내오는 코드"
   ]
  },
  {
   "cell_type": "code",
   "execution_count": 8,
   "id": "c495693e-5a30-4bc3-9229-0cdd64b8e532",
   "metadata": {},
   "outputs": [
    {
     "data": {
      "text/plain": [
       "3.14"
      ]
     },
     "execution_count": 8,
     "metadata": {},
     "output_type": "execute_result"
    }
   ],
   "source": [
    "formula.pi"
   ]
  },
  {
   "cell_type": "code",
   "execution_count": 9,
   "id": "d74aa745-4f22-4284-9ec1-592576440374",
   "metadata": {},
   "outputs": [
    {
     "data": {
      "text/plain": [
       "2"
      ]
     },
     "execution_count": 9,
     "metadata": {},
     "output_type": "execute_result"
    }
   ],
   "source": [
    "formula.my_max(1, 2)"
   ]
  },
  {
   "cell_type": "code",
   "execution_count": 10,
   "id": "ce7e28a2-84d2-443f-af42-fc1dd1ec33ee",
   "metadata": {},
   "outputs": [],
   "source": [
    "from myPackage.math import fibo"
   ]
  },
  {
   "cell_type": "code",
   "execution_count": 11,
   "id": "3cd3f6d5-96e0-44c2-8536-468c169ba321",
   "metadata": {},
   "outputs": [],
   "source": [
    "from myPackage.math.fibo import *\n",
    "# 경로에 있는 모듈이 가지고 있는 모든 변수, 함수를 추가"
   ]
  },
  {
   "cell_type": "code",
   "execution_count": 12,
   "id": "0b99193a-14f4-401c-afe1-caa4335e05ce",
   "metadata": {},
   "outputs": [
    {
     "ename": "AttributeError",
     "evalue": "'list' object has no attribute 'appennd'",
     "output_type": "error",
     "traceback": [
      "\u001b[1;31m---------------------------------------------------------------------------\u001b[0m",
      "\u001b[1;31mAttributeError\u001b[0m                            Traceback (most recent call last)",
      "Cell \u001b[1;32mIn[12], line 1\u001b[0m\n\u001b[1;32m----> 1\u001b[0m \u001b[43mfib_loop\u001b[49m\u001b[43m(\u001b[49m\u001b[38;5;241;43m10\u001b[39;49m\u001b[43m)\u001b[49m\n",
      "File \u001b[1;32m~\\Desktop\\class 29\\Day3\\python 문법 정리\\myPackage\\math\\fibo.py:9\u001b[0m, in \u001b[0;36mfib_loop\u001b[1;34m(n)\u001b[0m\n\u001b[0;32m      6\u001b[0m     end2 \u001b[38;5;241m=\u001b[39m result[\u001b[38;5;28mlen\u001b[39m(result)\u001b[38;5;241m-\u001b[39m\u001b[38;5;241m2\u001b[39m] \n\u001b[0;32m      7\u001b[0m     fib_num \u001b[38;5;241m=\u001b[39m end1 \u001b[38;5;241m+\u001b[39m end2\n\u001b[1;32m----> 9\u001b[0m     \u001b[43mresult\u001b[49m\u001b[38;5;241;43m.\u001b[39;49m\u001b[43mappennd\u001b[49m(fib_num)\n\u001b[0;32m     11\u001b[0m \u001b[38;5;28;01mreturn\u001b[39;00m result[\u001b[38;5;241m-\u001b[39m\u001b[38;5;241m1\u001b[39m]\n",
      "\u001b[1;31mAttributeError\u001b[0m: 'list' object has no attribute 'appennd'"
     ]
    }
   ],
   "source": [
    "fib_loop(10)"
   ]
  },
  {
   "cell_type": "code",
   "execution_count": 13,
   "id": "85749856-7c10-45df-a027-c704966ad60d",
   "metadata": {},
   "outputs": [
    {
     "name": "stdout",
     "output_type": "stream",
     "text": [
      "<module 'myPackage.math.formula' from 'C:\\\\Users\\\\figure.2\\\\Desktop\\\\class 29\\\\Day3\\\\python 문법 정리\\\\myPackage\\\\math\\\\formula.py'>\n"
     ]
    }
   ],
   "source": [
    "formula = 1234\n",
    "from myPackage.math import formula\n",
    "\n",
    "print(formula)"
   ]
  },
  {
   "cell_type": "code",
   "execution_count": 14,
   "id": "b73983f2-25ff-4af3-b221-1d8656d50de8",
   "metadata": {},
   "outputs": [
    {
     "name": "stdout",
     "output_type": "stream",
     "text": [
      "1234\n"
     ]
    }
   ],
   "source": [
    "formula = 1234\n",
    "from myPackage.math import formula as f\n",
    "\n",
    "print(formula)"
   ]
  },
  {
   "cell_type": "markdown",
   "id": "eca2de86-e7bd-421f-a4be-ec2a988a74bf",
   "metadata": {},
   "source": [
    "## 3. 파이썬 내장 패키지\n",
    "\n",
    "3.1 math"
   ]
  },
  {
   "cell_type": "code",
   "execution_count": 23,
   "id": "f097fac6-4f7c-43cc-a39e-0fb6c720bb98",
   "metadata": {},
   "outputs": [],
   "source": [
    "import math"
   ]
  },
  {
   "cell_type": "code",
   "execution_count": 24,
   "id": "fb85942b-fdab-46a2-b509-71161035f5dd",
   "metadata": {},
   "outputs": [
    {
     "data": {
      "text/plain": [
       "3.141592653589793"
      ]
     },
     "execution_count": 24,
     "metadata": {},
     "output_type": "execute_result"
    }
   ],
   "source": [
    "math.pi"
   ]
  },
  {
   "cell_type": "code",
   "execution_count": 25,
   "id": "d9b07e4c-f2d6-4fe1-96d5-6d51b6cf0e5b",
   "metadata": {},
   "outputs": [
    {
     "data": {
      "text/plain": [
       "2.718281828459045"
      ]
     },
     "execution_count": 25,
     "metadata": {},
     "output_type": "execute_result"
    }
   ],
   "source": [
    "math.e"
   ]
  },
  {
   "cell_type": "code",
   "execution_count": 26,
   "id": "9675df3e-0fd5-4b27-ae84-e2027fb17ea1",
   "metadata": {},
   "outputs": [],
   "source": [
    "pi = 3.141592"
   ]
  },
  {
   "cell_type": "code",
   "execution_count": 27,
   "id": "202718a2-cf40-4165-ba33-e523698c7711",
   "metadata": {},
   "outputs": [
    {
     "data": {
      "text/plain": [
       "4"
      ]
     },
     "execution_count": 27,
     "metadata": {},
     "output_type": "execute_result"
    }
   ],
   "source": [
    "math.ceil(pi)  # 소수점 자리를 올림 할떄 사용"
   ]
  },
  {
   "cell_type": "code",
   "execution_count": 28,
   "id": "8d61b12c-74f2-4999-a374-4d1673912486",
   "metadata": {},
   "outputs": [
    {
     "data": {
      "text/plain": [
       "3"
      ]
     },
     "execution_count": 28,
     "metadata": {},
     "output_type": "execute_result"
    }
   ],
   "source": [
    "math.floor(pi)  # 소수점 자리를 내림 할떄 사용"
   ]
  },
  {
   "cell_type": "code",
   "execution_count": 29,
   "id": "1c3aada2-1b06-4b18-a641-c755ae99c107",
   "metadata": {},
   "outputs": [
    {
     "data": {
      "text/plain": [
       "3.0"
      ]
     },
     "execution_count": 29,
     "metadata": {},
     "output_type": "execute_result"
    }
   ],
   "source": [
    "math.sqrt(9) # 루트 씌울때 사용"
   ]
  },
  {
   "cell_type": "markdown",
   "id": "1c0d6ce4-af0d-40df-8de0-9a61d40a2402",
   "metadata": {},
   "source": [
    "## random 모듈"
   ]
  },
  {
   "cell_type": "code",
   "execution_count": 30,
   "id": "ce905914-c8a6-40d3-b2ee-1ea5f6d086de",
   "metadata": {},
   "outputs": [],
   "source": [
    "import random"
   ]
  },
  {
   "cell_type": "code",
   "execution_count": 32,
   "id": "a96acd97-44b2-487c-8674-66fded307874",
   "metadata": {},
   "outputs": [
    {
     "data": {
      "text/plain": [
       "0.767040537417772"
      ]
     },
     "execution_count": 32,
     "metadata": {},
     "output_type": "execute_result"
    }
   ],
   "source": [
    "random.random()  # 0 ~ 1 사이의 소수를 랜덤으로 출력해줌"
   ]
  },
  {
   "cell_type": "code",
   "execution_count": 33,
   "id": "06032c96-3076-4c67-9a82-05eb34b6feed",
   "metadata": {},
   "outputs": [
    {
     "data": {
      "text/plain": [
       "3"
      ]
     },
     "execution_count": 33,
     "metadata": {},
     "output_type": "execute_result"
    }
   ],
   "source": [
    "random.randint(1, 10)"
   ]
  },
  {
   "cell_type": "code",
   "execution_count": 40,
   "id": "6007f842-82ac-4aaf-b95e-36352b9b70ab",
   "metadata": {},
   "outputs": [
    {
     "data": {
      "text/plain": [
       "0.13436424411240122"
      ]
     },
     "execution_count": 40,
     "metadata": {},
     "output_type": "execute_result"
    }
   ],
   "source": [
    "# seed\n",
    "random.seed(1)  # seed는 임의의 난수를 출력하시잔 똑같이 고정된 랜덤 데이터를 필요로 할떄 사용\n",
    "random.random()"
   ]
  },
  {
   "cell_type": "code",
   "execution_count": 43,
   "id": "00124b5d-7aa0-4a5c-ada0-c05235590356",
   "metadata": {},
   "outputs": [
    {
     "name": "stdout",
     "output_type": "stream",
     "text": [
      "[4, 2, 5, 3, 1]\n"
     ]
    }
   ],
   "source": [
    "# shuffle\n",
    "a = [1, 2, 3, 4, 5]\n",
    "random.shuffle(a)\n",
    "print(a)"
   ]
  },
  {
   "cell_type": "code",
   "execution_count": 45,
   "id": "822eda0e-9e14-48a0-a2cd-f6336997be30",
   "metadata": {},
   "outputs": [
    {
     "name": "stdout",
     "output_type": "stream",
     "text": [
      "4\n"
     ]
    }
   ],
   "source": [
    "# choice\n",
    "a = [1, 2, 3, 4, 5]\n",
    "print(random.choice(a))"
   ]
  },
  {
   "cell_type": "code",
   "execution_count": 47,
   "id": "692a5dec-2eb0-4da5-bba4-0ba62442c8a2",
   "metadata": {},
   "outputs": [
    {
     "name": "stdout",
     "output_type": "stream",
     "text": [
      "묶\n"
     ]
    }
   ],
   "source": [
    "# choice\n",
    "a = ['가위', '바위', '보', '묶', '찌', '빠']\n",
    "print(random.choice(a))"
   ]
  },
  {
   "cell_type": "code",
   "execution_count": 48,
   "id": "0785cc30-21a4-44a0-a27f-aaa817f49e71",
   "metadata": {},
   "outputs": [
    {
     "data": {
      "text/plain": [
       "[42, 25, 14, 7, 32, 2]"
      ]
     },
     "execution_count": 48,
     "metadata": {},
     "output_type": "execute_result"
    }
   ],
   "source": [
    "# sample\n",
    "a = range(1, 46)\n",
    "random.sample(a, 6)"
   ]
  },
  {
   "cell_type": "markdown",
   "id": "d4f84454-1ca7-4423-b86a-6023821e6b59",
   "metadata": {},
   "source": [
    "## 3.3 datetime\n",
    "\n",
    "날짜 데이터를 사용"
   ]
  },
  {
   "cell_type": "code",
   "execution_count": 49,
   "id": "d7e455fe-239f-4555-822d-ff09f5953dff",
   "metadata": {},
   "outputs": [],
   "source": [
    "from datetime import datetime"
   ]
  },
  {
   "cell_type": "code",
   "execution_count": 50,
   "id": "fd4142fc-1d92-4390-a2c5-5cc493972bae",
   "metadata": {},
   "outputs": [
    {
     "name": "stdout",
     "output_type": "stream",
     "text": [
      "2023-07-31 16:21:10.246732\n"
     ]
    }
   ],
   "source": [
    "now = datetime.now()\n",
    "print(now)"
   ]
  },
  {
   "cell_type": "code",
   "execution_count": 51,
   "id": "c874c244-89e4-42ae-9b97-d257e48d6162",
   "metadata": {},
   "outputs": [
    {
     "name": "stdout",
     "output_type": "stream",
     "text": [
      "2023-07-31 16:21:32.907854\n"
     ]
    }
   ],
   "source": [
    "today = datetime.today()\n",
    "print(today)"
   ]
  },
  {
   "cell_type": "code",
   "execution_count": 53,
   "id": "143b66b9-5bfc-4bc4-af50-6f683e04180c",
   "metadata": {},
   "outputs": [
    {
     "name": "stdout",
     "output_type": "stream",
     "text": [
      "2023-07-31 07:23:23.548445\n"
     ]
    }
   ],
   "source": [
    "utc = datetime.utcnow()\n",
    "print(utc)"
   ]
  },
  {
   "cell_type": "code",
   "execution_count": 57,
   "id": "aa4e515f-cf49-45be-b6b9-9943d3f29e2d",
   "metadata": {},
   "outputs": [
    {
     "data": {
      "text/plain": [
       "'2023년 07월 31일'"
      ]
     },
     "execution_count": 57,
     "metadata": {},
     "output_type": "execute_result"
    }
   ],
   "source": [
    "now.strftime('%Y년 %m월 %d일')"
   ]
  },
  {
   "cell_type": "code",
   "execution_count": 58,
   "id": "07629edd-b285-44a7-80ae-952c3f39b05d",
   "metadata": {},
   "outputs": [
    {
     "data": {
      "text/plain": [
       "2023"
      ]
     },
     "execution_count": 58,
     "metadata": {},
     "output_type": "execute_result"
    }
   ],
   "source": [
    "now.year"
   ]
  },
  {
   "cell_type": "code",
   "execution_count": 59,
   "id": "e91113fd-f6f7-4aaa-9641-20b61e58e761",
   "metadata": {},
   "outputs": [
    {
     "data": {
      "text/plain": [
       "31"
      ]
     },
     "execution_count": 59,
     "metadata": {},
     "output_type": "execute_result"
    }
   ],
   "source": [
    "now.day"
   ]
  },
  {
   "cell_type": "code",
   "execution_count": 61,
   "id": "06b1c49d-f9ae-4e9c-a712-ee8e79a0a3ca",
   "metadata": {},
   "outputs": [
    {
     "data": {
      "text/plain": [
       "0"
      ]
     },
     "execution_count": 61,
     "metadata": {},
     "output_type": "execute_result"
    }
   ],
   "source": [
    "now.weekday()\n",
    "# 0 ~ 6까지 , 월 ~ 일까지 표현"
   ]
  },
  {
   "cell_type": "code",
   "execution_count": 71,
   "id": "f0fc255c-c3b2-40b6-9b3d-dfad4d3e39fb",
   "metadata": {},
   "outputs": [
    {
     "name": "stdout",
     "output_type": "stream",
     "text": [
      "2024-01-01 00:00:00\n"
     ]
    }
   ],
   "source": [
    "birth = datetime(2024, 1, 1)\n",
    "print(birth)"
   ]
  },
  {
   "cell_type": "code",
   "execution_count": 72,
   "id": "84c788dc-6e94-47d4-958f-756654409e4b",
   "metadata": {},
   "outputs": [],
   "source": [
    "from datetime import timedelta"
   ]
  },
  {
   "cell_type": "code",
   "execution_count": 73,
   "id": "50b0ee24-ad05-4770-a07e-c8b95a1f5889",
   "metadata": {},
   "outputs": [
    {
     "name": "stdout",
     "output_type": "stream",
     "text": [
      "3 days, 0:00:00\n"
     ]
    }
   ],
   "source": [
    "future = timedelta(days=3)\n",
    "print(future)"
   ]
  },
  {
   "cell_type": "code",
   "execution_count": 74,
   "id": "a43c254e-88dc-478c-848a-d979534f0e71",
   "metadata": {},
   "outputs": [
    {
     "data": {
      "text/plain": [
       "datetime.datetime(2024, 1, 4, 0, 0)"
      ]
     },
     "execution_count": 74,
     "metadata": {},
     "output_type": "execute_result"
    }
   ],
   "source": [
    "birth + future"
   ]
  },
  {
   "cell_type": "code",
   "execution_count": 75,
   "id": "335f4aca-8a3a-444d-80d5-12ea6d64e506",
   "metadata": {},
   "outputs": [],
   "source": [
    "christmas = datetime(2023, 12, 25)"
   ]
  },
  {
   "cell_type": "code",
   "execution_count": 76,
   "id": "b623ea04-59e8-4d02-8e42-77c70664b7d9",
   "metadata": {},
   "outputs": [
    {
     "data": {
      "text/plain": [
       "datetime.timedelta(days=146, seconds=27529, microseconds=753268)"
      ]
     },
     "execution_count": 76,
     "metadata": {},
     "output_type": "execute_result"
    }
   ],
   "source": [
    "christmas - now"
   ]
  },
  {
   "cell_type": "code",
   "execution_count": null,
   "id": "7d4fbe6c-788e-4c4e-aa40-98f012093c9a",
   "metadata": {},
   "outputs": [],
   "source": []
  }
 ],
 "metadata": {
  "kernelspec": {
   "display_name": "Python 3 (ipykernel)",
   "language": "python",
   "name": "python3"
  },
  "language_info": {
   "codemirror_mode": {
    "name": "ipython",
    "version": 3
   },
   "file_extension": ".py",
   "mimetype": "text/x-python",
   "name": "python",
   "nbconvert_exporter": "python",
   "pygments_lexer": "ipython3",
   "version": "3.11.4"
  }
 },
 "nbformat": 4,
 "nbformat_minor": 5
}
