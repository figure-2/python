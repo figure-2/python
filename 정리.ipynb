{
 "cells": [
  {
   "cell_type": "markdown",
   "id": "515af261-61ab-47cc-86c5-e2fba8d5a540",
   "metadata": {},
   "source": [
    "정리"
   ]
  },
  {
   "cell_type": "code",
   "execution_count": null,
   "id": "93712b9b-8065-43ca-bf32-4c0478c8b743",
   "metadata": {},
   "outputs": [],
   "source": []
  }
 ],
 "metadata": {
  "kernelspec": {
   "display_name": "Python 3 (ipykernel)",
   "language": "python",
   "name": "python3"
  },
  "language_info": {
   "codemirror_mode": {
    "name": "ipython",
    "version": 3
   },
   "file_extension": ".py",
   "mimetype": "text/x-python",
   "name": "python",
   "nbconvert_exporter": "python",
   "pygments_lexer": "ipython3",
   "version": "3.11.4"
  }
 },
 "nbformat": 4,
 "nbformat_minor": 5
}
