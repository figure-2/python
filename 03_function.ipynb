{
 "cells": [
  {
   "cell_type": "markdown",
   "id": "3108b2e4-fc0e-421c-bd94-738f6e188fa1",
   "metadata": {},
   "source": [
    "## 함수 (function)"
   ]
  },
  {
   "cell_type": "code",
   "execution_count": 2,
   "id": "afe90e09-3939-4d81-8a1a-1dd37dce2399",
   "metadata": {},
   "outputs": [
    {
     "name": "stdout",
     "output_type": "stream",
     "text": [
      "직사각형의 둘레는 60, 면적은 200입니다.\n",
      "직사각형의 둘레는 260, 면적은 4000입니다.\n"
     ]
    }
   ],
   "source": [
    "height = 10\n",
    "width = 20\n",
    "\n",
    "height2 = 50\n",
    "width2 = 80\n",
    "#직사각형의 둘레는 ***, 면적은 *** 입니다.\n",
    "\n",
    "area = height * width\n",
    "perimeter = (height + width) * 2\n",
    "print(f'직사각형의 둘레는 {perimeter}, 면적은 {area}입니다.')\n",
    "\n",
    "area = height2 * width2\n",
    "perimeter = (height2 + width2) * 2\n",
    "print(f'직사각형의 둘레는 {perimeter}, 면적은 {area}입니다.')"
   ]
  },
  {
   "cell_type": "markdown",
   "id": "2e11cdfc-80c9-412f-8a5d-9204a72dbfca",
   "metadata": {},
   "source": [
    "## 함수의 선언과 호출\n",
    "\n",
    "- 함수의 선언\n",
    "```python \n",
    "def func_name(parameter1, parameter2, ....):\n",
    "    code1\n",
    "    code2\n",
    "    .\n",
    "    .\n",
    "    .\n",
    "    return value\n",
    "    \n",
    "```\n",
    "\n",
    "- 함수의 호출(실행)\n",
    "```\n",
    "func_name(parameter1, parameter2)\n",
    "```"
   ]
  },
  {
   "cell_type": "code",
   "execution_count": 3,
   "id": "396ceba8-1f60-480a-a0c2-b6fa99bf440a",
   "metadata": {},
   "outputs": [],
   "source": [
    "def rectangle(height, width):\n",
    "    area = height * width\n",
    "    perimeter = (height + width) * 2\n",
    "    print(f'직사각형의 둘레는 {perimeter}, 면접은 {area} 입니다.')"
   ]
  },
  {
   "cell_type": "code",
   "execution_count": 6,
   "id": "99ed00f7-8f5e-4b46-887d-d491153a24be",
   "metadata": {},
   "outputs": [
    {
     "name": "stdout",
     "output_type": "stream",
     "text": [
      "직사각형의 둘레는 80, 면접은 300 입니다.\n"
     ]
    }
   ],
   "source": [
    "rectangle(10,30)"
   ]
  },
  {
   "cell_type": "code",
   "execution_count": 9,
   "id": "cd66de8d-c39c-43e4-a782-2e8f6f8d0ab0",
   "metadata": {},
   "outputs": [],
   "source": [
    "#dir(__builtins__)\n",
    "#파이썬에서 미리 만들어진 함수"
   ]
  },
  {
   "cell_type": "code",
   "execution_count": 8,
   "id": "3258727c-f058-4146-9491-1e7ecfe7ac47",
   "metadata": {},
   "outputs": [
    {
     "data": {
      "text/plain": [
       "5"
      ]
     },
     "execution_count": 8,
     "metadata": {},
     "output_type": "execute_result"
    }
   ],
   "source": [
    "max(1, 5)"
   ]
  },
  {
   "cell_type": "code",
   "execution_count": null,
   "id": "6d1b7d76-b182-4377-8e81-d6f07726ef74",
   "metadata": {},
   "outputs": [],
   "source": [
    "#두개의 정수를 받아서 큰 수를 출력\n",
    "def my_max():\n",
    "    pass"
   ]
  },
  {
   "cell_type": "code",
   "execution_count": 3,
   "id": "78948570-5f7f-4a60-bc94-c8c59424f37b",
   "metadata": {},
   "outputs": [],
   "source": [
    "def my_max(num1, num2):\n",
    "    if num1 > num2:\n",
    "        # 1이 더 큰 경우\n",
    "        #pass\n",
    "        print(f'{num1}이 더 큽니다.')\n",
    "    elif num1 < num2:\n",
    "        # 2가 더 큰 경우\n",
    "        print(f'{num2}이 더 큽니다.')\n",
    "    else:\n",
    "        print('두 수가 같습니다.')\n",
    "    "
   ]
  },
  {
   "cell_type": "code",
   "execution_count": 4,
   "id": "82bb97fb-8652-4bb0-b9f9-0688a3f32aab",
   "metadata": {},
   "outputs": [
    {
     "name": "stdout",
     "output_type": "stream",
     "text": [
      "4이 더 큽니다.\n"
     ]
    }
   ],
   "source": [
    "my_max(1, 4)"
   ]
  },
  {
   "cell_type": "code",
   "execution_count": 5,
   "id": "fb087a8d-2046-44b9-ada6-1d8cb896febf",
   "metadata": {},
   "outputs": [
    {
     "name": "stdout",
     "output_type": "stream",
     "text": [
      "4313이 더 큽니다.\n"
     ]
    }
   ],
   "source": [
    "my_max(4313, 3324)"
   ]
  },
  {
   "cell_type": "code",
   "execution_count": 6,
   "id": "e200e7ed-0bad-4c84-ad86-38107965f8a9",
   "metadata": {},
   "outputs": [
    {
     "name": "stdout",
     "output_type": "stream",
     "text": [
      "두 수가 같습니다.\n",
      "None\n"
     ]
    }
   ],
   "source": [
    "result = my_max(5, 5)\n",
    "print(result)"
   ]
  },
  {
   "cell_type": "markdown",
   "id": "bca03af3-f71e-486b-b8bc-1d55f0bc5401",
   "metadata": {},
   "source": [
    "## 함수의 return\n",
    "\n",
    "- 함수가 return을 만나면 해당 값을 반환하고 함수를 졸료\n",
    "- 만약 return이 없다면 None을 자동으로 반환\n",
    "- return은 오직 하나의 객체만 반환합니다.\n",
    "- 변수에 할당이 가능함\n",
    "  "
   ]
  },
  {
   "cell_type": "code",
   "execution_count": 25,
   "id": "71676bc1-9add-41c1-8d46-32179dcac9ca",
   "metadata": {},
   "outputs": [],
   "source": [
    "def my_max2(num1, num2):\n",
    "\n",
    "    #return 'hello' #위에 리던이 있으면 여기서 끝남. 그래서 위에 있으면 안됨.\n",
    "    \n",
    "    if num1 > num2:\n",
    "        return num1\n",
    "    elif num1 < num2:\n",
    "        return num2\n",
    "    else:\n",
    "        return 0   "
   ]
  },
  {
   "cell_type": "code",
   "execution_count": 26,
   "id": "4b8d897c-69b5-407b-a3b3-b7195705711d",
   "metadata": {},
   "outputs": [
    {
     "name": "stdout",
     "output_type": "stream",
     "text": [
      "2가 더 큽니다.\n"
     ]
    }
   ],
   "source": [
    "result = my_max2(1, 2)\n",
    "print(f'{result}가 더 큽니다.')"
   ]
  },
  {
   "cell_type": "code",
   "execution_count": 28,
   "id": "0cf38d75-b3a5-4888-b7f2-d96bf2ddd901",
   "metadata": {},
   "outputs": [],
   "source": [
    "def my_list_max(list_a, list_b):\n",
    "    if sum(list_a) > sum(list_b):\n",
    "        return list_a\n",
    "    else:\n",
    "        return list_b"
   ]
  },
  {
   "cell_type": "code",
   "execution_count": 30,
   "id": "7069d0e4-9bf1-4a8c-9381-067a997c9482",
   "metadata": {},
   "outputs": [
    {
     "data": {
      "text/plain": [
       "[11, 12]"
      ]
     },
     "execution_count": 30,
     "metadata": {},
     "output_type": "execute_result"
    }
   ],
   "source": [
    "my_list_max([10, 11], [11, 12])"
   ]
  },
  {
   "cell_type": "code",
   "execution_count": 32,
   "id": "f2f914d0-c308-4207-a9d7-0ba92899d4a4",
   "metadata": {},
   "outputs": [],
   "source": [
    "def my_list_max(list_a, list_b):\n",
    "    if sum(list_a) > sum(list_b):\n",
    "        return list_a, 123\n",
    "    else:\n",
    "        return list_b, 123"
   ]
  },
  {
   "cell_type": "code",
   "execution_count": 2,
   "id": "63de1c89-3167-4cb7-ba9d-f3be06fc0a10",
   "metadata": {},
   "outputs": [
    {
     "ename": "NameError",
     "evalue": "name 'my_list_max' is not defined",
     "output_type": "error",
     "traceback": [
      "\u001b[1;31m---------------------------------------------------------------------------\u001b[0m",
      "\u001b[1;31mNameError\u001b[0m                                 Traceback (most recent call last)",
      "Cell \u001b[1;32mIn[2], line 1\u001b[0m\n\u001b[1;32m----> 1\u001b[0m \u001b[43mmy_list_max\u001b[49m([\u001b[38;5;241m10\u001b[39m, \u001b[38;5;241m11\u001b[39m], [\u001b[38;5;241m11\u001b[39m, \u001b[38;5;241m12\u001b[39m])\n\u001b[0;32m      2\u001b[0m \u001b[38;5;66;03m# 뒤에 있는 123을 튜플로 묵어버린다\u001b[39;00m\n",
      "\u001b[1;31mNameError\u001b[0m: name 'my_list_max' is not defined"
     ]
    }
   ],
   "source": [
    "my_list_max([10, 11], [11, 12])\n",
    "# 뒤에 있는 123을 튜플로 묵어버린다"
   ]
  },
  {
   "cell_type": "markdown",
   "id": "d7407ab3-ef36-41bb-b071-7837d052be09",
   "metadata": {},
   "source": []
  },
  {
   "cell_type": "markdown",
   "id": "456fc8ff-41d6-40fe-9e59-495309141e85",
   "metadata": {},
   "source": [
    "7월 28일 금요일"
   ]
  },
  {
   "cell_type": "markdown",
   "id": "dfdca18f-bd7d-4df2-a19b-042332e96e54",
   "metadata": {},
   "source": [
    "## 함수의 인수"
   ]
  },
  {
   "cell_type": "markdown",
   "id": "375912e6-ead5-4ad4-a953-4c3b5a85bfd1",
   "metadata": {},
   "source": [
    "###  위치 인수\n",
    "\n",
    "기본적으로 함수는 인수의 위치로 판단합니다"
   ]
  },
  {
   "cell_type": "code",
   "execution_count": 2,
   "id": "778e7318-dd2c-4be4-85b8-611b7bef20e5",
   "metadata": {},
   "outputs": [
    {
     "name": "stdout",
     "output_type": "stream",
     "text": [
      "1570.0\n",
      "785.0\n"
     ]
    }
   ],
   "source": [
    "def cylinder(r, h):  # 원기둥의 부피를 계산하는 함수\n",
    "    return 3.14 * r**2 * h\n",
    "\n",
    "print(cylinder(10, 5))\n",
    "print(cylinder(5, 10))"
   ]
  },
  {
   "cell_type": "markdown",
   "id": "6d9a8c12-2dff-45a8-bd6b-10ccd04257de",
   "metadata": {},
   "source": [
    "## 기본값\n",
    "\n",
    "```python\n",
    "    def func(p1=v1):\n",
    "        return v1\n",
    "```"
   ]
  },
  {
   "cell_type": "code",
   "execution_count": 13,
   "id": "5d7ff005-1352-4dd9-8d16-baf9a899ff01",
   "metadata": {},
   "outputs": [
    {
     "name": "stdout",
     "output_type": "stream",
     "text": [
      "창희님 반갑습니다.\n"
     ]
    }
   ],
   "source": [
    "def greeting(name):\n",
    "    return f'{name}님 반갑습니다.'\n",
    "\n",
    "print(greeting('창희'))"
   ]
  },
  {
   "cell_type": "code",
   "execution_count": 14,
   "id": "6efa5827-a3b8-4d0f-84fb-6fbe24df118e",
   "metadata": {},
   "outputs": [
    {
     "ename": "TypeError",
     "evalue": "greeting() missing 1 required positional argument: 'name'",
     "output_type": "error",
     "traceback": [
      "\u001b[1;31m---------------------------------------------------------------------------\u001b[0m",
      "\u001b[1;31mTypeError\u001b[0m                                 Traceback (most recent call last)",
      "Cell \u001b[1;32mIn[14], line 4\u001b[0m\n\u001b[0;32m      1\u001b[0m \u001b[38;5;28;01mdef\u001b[39;00m \u001b[38;5;21mgreeting\u001b[39m(name):\n\u001b[0;32m      2\u001b[0m     \u001b[38;5;28;01mreturn\u001b[39;00m \u001b[38;5;124mf\u001b[39m\u001b[38;5;124m'\u001b[39m\u001b[38;5;132;01m{\u001b[39;00mname\u001b[38;5;132;01m}\u001b[39;00m\u001b[38;5;124m님 반갑습니다.\u001b[39m\u001b[38;5;124m'\u001b[39m\n\u001b[1;32m----> 4\u001b[0m \u001b[38;5;28mprint\u001b[39m(\u001b[43mgreeting\u001b[49m\u001b[43m(\u001b[49m\u001b[43m)\u001b[49m)  \u001b[38;5;66;03m#가로 안에 기본 인자를 넣어야 되는데 없어서 실행이 안됨\u001b[39;00m\n",
      "\u001b[1;31mTypeError\u001b[0m: greeting() missing 1 required positional argument: 'name'"
     ]
    }
   ],
   "source": [
    "def greeting(name):\n",
    "    return f'{name}님 반갑습니다.'\n",
    "\n",
    "print(greeting())  #가로 안에 데이터가 들어가 있어야 하는데 없어서 실행이 안됨"
   ]
  },
  {
   "cell_type": "code",
   "execution_count": 15,
   "id": "dafd0d94-8f72-429d-9c1e-f72909180221",
   "metadata": {},
   "outputs": [
    {
     "name": "stdout",
     "output_type": "stream",
     "text": [
      "익명님 반갑습니다.\n"
     ]
    }
   ],
   "source": [
    "def greeting(name='익명'):  # 아래 아무것도 안들어가 있으면 데이터에 있는 기본인자가 출력이 된다.\n",
    "    return f'{name}님 반갑습니다.'\n",
    "\n",
    "print(greeting())"
   ]
  },
  {
   "cell_type": "code",
   "execution_count": 60,
   "id": "c9b2105b-81b7-4f4e-bd88-0ed4fb729e81",
   "metadata": {},
   "outputs": [
    {
     "ename": "SyntaxError",
     "evalue": "non-default argument follows default argument (2475034030.py, line 1)",
     "output_type": "error",
     "traceback": [
      "\u001b[1;36m  Cell \u001b[1;32mIn[60], line 1\u001b[1;36m\u001b[0m\n\u001b[1;33m    def greeting(name='익명', age):\u001b[0m\n\u001b[1;37m                            ^\u001b[0m\n\u001b[1;31mSyntaxError\u001b[0m\u001b[1;31m:\u001b[0m non-default argument follows default argument\n"
     ]
    }
   ],
   "source": [
    "def greeting(name='익명', age):   \n",
    "    '''\n",
    "    기본인자가 아닌 age가 기본 인자 뒤에 있어서 실행이 안됨, 위치 함수를 먼저 적고 그 다음에 기본인자를 적는다\n",
    "    why? name은 데이터가 들어와도 되고 들어오지 않아도 되는 확율적으로 경우의 수가 0, 1이 정해져있는거 뒤에 오면 해깔려 하기 때문에\n",
    "    순서를 위치 함수를 먼저 쓰고 다음에 기본 값을 작성\n",
    "    '''\n",
    "    return f'{name}님은 {age}입니다.'"
   ]
  },
  {
   "cell_type": "code",
   "execution_count": 61,
   "id": "9b9f7b73-cbe4-4df4-9d54-a788b9823152",
   "metadata": {},
   "outputs": [
    {
     "name": "stdout",
     "output_type": "stream",
     "text": [
      "홍길동님은 10살 입니다.\n"
     ]
    }
   ],
   "source": [
    "def greeting(age, name='익명'):  # 위치함수 age를 먼저 쓰고  기본함수 name을 쓴다.\n",
    "    return f'{name}님은 {age}살 입니다.'\n",
    "\n",
    "print(greeting(10,'홍길동'))"
   ]
  },
  {
   "cell_type": "code",
   "execution_count": 62,
   "id": "e2c5c1a6-457c-4cc6-83ab-c5e4564ee651",
   "metadata": {},
   "outputs": [
    {
     "name": "stdout",
     "output_type": "stream",
     "text": [
      "익명님은 20살 입니다.\n"
     ]
    }
   ],
   "source": [
    "print(greeting(20))"
   ]
  },
  {
   "cell_type": "markdown",
   "id": "bb0267f8-0d68-408b-864a-34aacd6a44aa",
   "metadata": {},
   "source": [
    "...24..."
   ]
  },
  {
   "cell_type": "code",
   "execution_count": null,
   "id": "abc4f274-40be-4bb7-9448-235dd8b4c815",
   "metadata": {},
   "outputs": [],
   "source": []
  },
  {
   "cell_type": "markdown",
   "id": "13a8c390-4214-4266-80fc-98fa4fc1539d",
   "metadata": {},
   "source": [
    "### 키워드 인자\n",
    "함수를 호출(실행)할때 내가 원하는 위치에 직접적으로 특정인자를 전달 가능"
   ]
  },
  {
   "cell_type": "markdown",
   "id": "4d931809-c672-4282-a1ae-a3b76dd6e82e",
   "metadata": {},
   "source": [
    "print(*objects, \n",
    "      sep=' ',  사용시 각 인자 사이사이에 직접적으로 특정 단어,숫자를 넣을 수 있음\n",
    "      end='\\n', 사용시 마지막 인자에 직접적으로 특정 단어,숫자를 넣을 수 있음\n",
    "      file=None, \n",
    "      flush=False)"
   ]
  },
  {
   "cell_type": "code",
   "execution_count": 63,
   "id": "dafdbd19-e932-44e9-9bc0-97bf9024cd5e",
   "metadata": {},
   "outputs": [
    {
     "name": "stdout",
     "output_type": "stream",
     "text": [
      "홍길동님은 10살 입니다.\n"
     ]
    }
   ],
   "source": [
    "def greeting(age, name='익명'): \n",
    "    return f'{name}님은 {age}살 입니다.'\n",
    "\n",
    "print(greeting(10,'홍길동'))\n",
    "#모든 변수들은 앞에서 부터 순서대로 진행"
   ]
  },
  {
   "cell_type": "code",
   "execution_count": 95,
   "id": "34ee3512-6c4e-4ea9-a4ce-4618046b4eea",
   "metadata": {},
   "outputs": [
    {
     "name": "stdout",
     "output_type": "stream",
     "text": [
      "홍길동님은 10살 입니다.\n"
     ]
    }
   ],
   "source": [
    "#만약에 홀길동을 먼저 나오게 하고 싶으면 직접 적으로 위치를 알려준다.\n",
    "print(greeting(name='홍길동', age=10,))"
   ]
  },
  {
   "cell_type": "code",
   "execution_count": 96,
   "id": "dd9920c9-2aba-40d3-befd-35a6471bd820",
   "metadata": {},
   "outputs": [
    {
     "name": "stdout",
     "output_type": "stream",
     "text": [
      "안녕\n",
      "안녕!하세요!?"
     ]
    }
   ],
   "source": [
    "print('안녕')\n",
    "print('안녕', '하세요', sep='!', end='!?')"
   ]
  },
  {
   "cell_type": "markdown",
   "id": "0cdb0aa7-a686-42b8-a533-02829aa59910",
   "metadata": {},
   "source": [
    "### 가변 인자 리스트\n",
    "```python\n",
    "    def func(*params):  # 여러가지 인자들을 하나의 값으로 묶어서 사용 할 수 있게 해줌\n",
    "        pass\n",
    "\n",
    "```"
   ]
  },
  {
   "cell_type": "code",
   "execution_count": 7,
   "id": "227b90bd-e686-4ac5-9e43-c3582de98798",
   "metadata": {},
   "outputs": [
    {
     "name": "stdout",
     "output_type": "stream",
     "text": [
      "('hi', 'hello')\n",
      "<class 'tuple'>\n"
     ]
    }
   ],
   "source": [
    "def my_print(*words):\n",
    "    print(words)\n",
    "    print(type(words))\n",
    "\n",
    "my_print('hi', 'hello')  # 인자가 몇게가 들어오든 튜플로 묶어서 처리함"
   ]
  },
  {
   "cell_type": "markdown",
   "id": "4a56c3b5-8184-4022-8b81-5270d2ddb50e",
   "metadata": {},
   "source": [
    "(튜플)"
   ]
  },
  {
   "cell_type": "markdown",
   "id": "143dd359-9ecf-4092-aae1-fc9d17e8fe5f",
   "metadata": {},
   "source": [
    "### 연습문제"
   ]
  },
  {
   "cell_type": "code",
   "execution_count": 10,
   "id": "84d79024-1b4a-4844-a3ce-d16c91c46643",
   "metadata": {},
   "outputs": [],
   "source": [
    "#\n",
    "def my_max():\n",
    "    pass"
   ]
  },
  {
   "cell_type": "code",
   "execution_count": 11,
   "id": "360ef53a-af69-4cc6-abcf-defe088024a4",
   "metadata": {},
   "outputs": [
    {
     "ename": "TypeError",
     "evalue": "my_max() takes 0 positional arguments but 5 were given",
     "output_type": "error",
     "traceback": [
      "\u001b[1;31m---------------------------------------------------------------------------\u001b[0m",
      "\u001b[1;31mTypeError\u001b[0m                                 Traceback (most recent call last)",
      "Cell \u001b[1;32mIn[11], line 1\u001b[0m\n\u001b[1;32m----> 1\u001b[0m \u001b[43mmy_max\u001b[49m\u001b[43m(\u001b[49m\u001b[38;5;241;43m1\u001b[39;49m\u001b[43m,\u001b[49m\u001b[43m \u001b[49m\u001b[38;5;241;43m2\u001b[39;49m\u001b[43m,\u001b[49m\u001b[43m \u001b[49m\u001b[38;5;241;43m3\u001b[39;49m\u001b[43m,\u001b[49m\u001b[43m \u001b[49m\u001b[38;5;241;43m4\u001b[39;49m\u001b[43m,\u001b[49m\u001b[43m \u001b[49m\u001b[38;5;241;43m5\u001b[39;49m\u001b[43m)\u001b[49m\n",
      "\u001b[1;31mTypeError\u001b[0m: my_max() takes 0 positional arguments but 5 were given"
     ]
    }
   ],
   "source": [
    "my_max(1, 2, 3, 4, 5)"
   ]
  },
  {
   "cell_type": "code",
   "execution_count": 12,
   "id": "b22cf1c4-18be-428f-8874-16cba6304ac0",
   "metadata": {},
   "outputs": [
    {
     "data": {
      "text/plain": [
       "5"
      ]
     },
     "execution_count": 12,
     "metadata": {},
     "output_type": "execute_result"
    }
   ],
   "source": [
    "max(1, 2, 3, 4, 5)"
   ]
  },
  {
   "cell_type": "code",
   "execution_count": 13,
   "id": "958f9e59-8ec2-4364-8f0d-77f7cdabcbc2",
   "metadata": {},
   "outputs": [],
   "source": [
    "#my_max(1, 2, 3, 4, 5) #에서 가장 큰 숫자를 뽑아내라"
   ]
  },
  {
   "cell_type": "code",
   "execution_count": 19,
   "id": "115112f4-3088-41fe-b99a-5b6d3c0f10fc",
   "metadata": {},
   "outputs": [],
   "source": [
    "def my_max(*num):\n",
    "    result = 0\n",
    "\n",
    "    for k in num:\n",
    "        if result < k:\n",
    "            result = k\n",
    "\n",
    "        return result"
   ]
  },
  {
   "cell_type": "code",
   "execution_count": 22,
   "id": "31f25619-68b1-497b-93e3-bc3537e01772",
   "metadata": {},
   "outputs": [],
   "source": [
    "def my_max(*numbers): #들어오는 데이터를 하나로 묶어서 *numbers로 받음\n",
    "    result = 0  # 가장 큰 값을 뽑기 위해서\n",
    "\n",
    "    for number in numbers:  # 1~5까지 순서대로 확인\n",
    "        if result < number: # re 와 num을 비교해서 더 큰거를 저장해라\n",
    "            result = number\n",
    "\n",
    "    return result"
   ]
  },
  {
   "cell_type": "code",
   "execution_count": 23,
   "id": "6c227b3c-b96d-4898-8ae9-3d872ea7dbb5",
   "metadata": {},
   "outputs": [
    {
     "data": {
      "text/plain": [
       "5"
      ]
     },
     "execution_count": 23,
     "metadata": {},
     "output_type": "execute_result"
    }
   ],
   "source": [
    "my_max(1, 2, 3, 4, 5)"
   ]
  },
  {
   "cell_type": "code",
   "execution_count": 24,
   "id": "6cf02be0-28e0-4eba-8adc-bf5f2913d04b",
   "metadata": {},
   "outputs": [
    {
     "data": {
      "text/plain": [
       "5"
      ]
     },
     "execution_count": 24,
     "metadata": {},
     "output_type": "execute_result"
    }
   ],
   "source": [
    "max(1, 2, 3, 4, 5)"
   ]
  },
  {
   "cell_type": "code",
   "execution_count": 29,
   "id": "11f133bc-4931-485b-991b-d428df78e5ed",
   "metadata": {},
   "outputs": [],
   "source": [
    "def my_max(*numbers):\n",
    "    result = numbers[0]\n",
    "\n",
    "    for number in numbers:\n",
    "        if result < number:\n",
    "            result = number\n",
    "\n",
    "    return result"
   ]
  },
  {
   "cell_type": "code",
   "execution_count": 30,
   "id": "72ec9622-74d6-42c7-8ad0-45dfcd1443a6",
   "metadata": {},
   "outputs": [
    {
     "name": "stdout",
     "output_type": "stream",
     "text": [
      "5\n",
      "-1\n"
     ]
    }
   ],
   "source": [
    "print(my_max(1, 2, 3, 4, 5))\n",
    "print(my_max(-1, -2, -3, -4))"
   ]
  },
  {
   "cell_type": "code",
   "execution_count": 28,
   "id": "4c07384e-a4b9-48ea-914c-48b9909ff961",
   "metadata": {},
   "outputs": [
    {
     "data": {
      "text/plain": [
       "-1"
      ]
     },
     "execution_count": 28,
     "metadata": {},
     "output_type": "execute_result"
    }
   ],
   "source": [
    "max(-1, -2, -3, -4, -5)"
   ]
  },
  {
   "cell_type": "markdown",
   "id": "426cf4fe-caa3-444c-8578-f17be8871a90",
   "metadata": {},
   "source": [
    "### 정의되지 않은 키워드 인자 처리하기\n",
    "\n",
    "```python\n",
    "def func(**kwargs):\n",
    "    pass\n",
    "```"
   ]
  },
  {
   "cell_type": "code",
   "execution_count": 1,
   "id": "6db829c8-efd7-4022-a0a6-97668e09e4f4",
   "metadata": {},
   "outputs": [
    {
     "name": "stdout",
     "output_type": "stream",
     "text": [
      "{'name': 'hong', 'age': 20}\n"
     ]
    }
   ],
   "source": [
    "info = {\n",
    "    'name': 'hong',\n",
    "    'age': 20,\n",
    "}\n",
    "\n",
    "print(info)"
   ]
  },
  {
   "cell_type": "code",
   "execution_count": 2,
   "id": "0ae004dc-fc3f-4faa-b119-e756bfff90a0",
   "metadata": {},
   "outputs": [
    {
     "name": "stdout",
     "output_type": "stream",
     "text": [
      "{'name': 'hong', 'age': 20}\n"
     ]
    }
   ],
   "source": [
    "info = dict(name='hong', age=20)\n",
    "print(info)"
   ]
  },
  {
   "cell_type": "code",
   "execution_count": 4,
   "id": "a06b51da-c8db-4f3c-87a4-0dd83c543379",
   "metadata": {},
   "outputs": [
    {
     "name": "stdout",
     "output_type": "stream",
     "text": [
      "{'korean': '안녕', 'english': 'hello'}\n",
      "<class 'dict'>\n"
     ]
    }
   ],
   "source": [
    "def fake_dict(**kwargs):\n",
    "    print(kwargs)\n",
    "    print(type(kwargs))\n",
    "\n",
    "fake_dict(korean='안녕', english='hello') "
   ]
  },
  {
   "cell_type": "code",
   "execution_count": 6,
   "id": "d04a975b-5813-455a-9136-5c598ec6f12f",
   "metadata": {},
   "outputs": [
    {
     "name": "stdout",
     "output_type": "stream",
     "text": [
      "korean는 안녕입니다.\n",
      "english는 hello입니다.\n"
     ]
    }
   ],
   "source": [
    "def fake_dict(**kwargs):  #**kwargs 되어 있으면 여러가지 임의의 데이터를 넣어도 되는구나\n",
    "    for key, value in kwargs.items():\n",
    "        print(f'{key}는 {value}입니다.')\n",
    "\n",
    "fake_dict(korean='안녕', english='hello')"
   ]
  },
  {
   "cell_type": "markdown",
   "id": "befada90-45a3-4c07-a018-0c755e572b93",
   "metadata": {},
   "source": [
    "### 딕셔너리를 인자로 넣기(unpacking)"
   ]
  },
  {
   "cell_type": "code",
   "execution_count": 9,
   "id": "de8051ca-9443-4649-b317-7da2ea8935ad",
   "metadata": {},
   "outputs": [
    {
     "name": "stdout",
     "output_type": "stream",
     "text": [
      "비밀번호가 일치하지 않습니다.\n"
     ]
    }
   ],
   "source": [
    "#회원 가입 기능을 만든다고 가정\n",
    "\n",
    "def sing_up(username, password, password_confirmation):\n",
    "    if password == password_confirmation:\n",
    "        print(f'{username}님 회원가입이 완료했습니다.')\n",
    "    else:\n",
    "        print(f'비밀번호가 일치하지 않습니다.')\n",
    "\n",
    "sing_up('lee', 'qwe123', 'qwe1234')"
   ]
  },
  {
   "cell_type": "code",
   "execution_count": 16,
   "id": "6c94f3a3-b531-459e-b461-a42f171bef8e",
   "metadata": {},
   "outputs": [
    {
     "ename": "NameError",
     "evalue": "name 'sign_up' is not defined",
     "output_type": "error",
     "traceback": [
      "\u001b[1;31m---------------------------------------------------------------------------\u001b[0m",
      "\u001b[1;31mNameError\u001b[0m                                 Traceback (most recent call last)",
      "Cell \u001b[1;32mIn[16], line 10\u001b[0m\n\u001b[0;32m      1\u001b[0m \u001b[38;5;66;03m#내가 넣어야 되는 이아디와 비밀번호를 딕션너리로 만들어 넣음\u001b[39;00m\n\u001b[0;32m      3\u001b[0m my_account \u001b[38;5;241m=\u001b[39m {\n\u001b[0;32m      4\u001b[0m     \u001b[38;5;124m'\u001b[39m\u001b[38;5;124musername\u001b[39m\u001b[38;5;124m'\u001b[39m: \u001b[38;5;124m'\u001b[39m\u001b[38;5;124masdee\u001b[39m\u001b[38;5;124m'\u001b[39m,\n\u001b[0;32m      5\u001b[0m     \u001b[38;5;124m'\u001b[39m\u001b[38;5;124mpassword\u001b[39m\u001b[38;5;124m'\u001b[39m: \u001b[38;5;124m'\u001b[39m\u001b[38;5;124mqwddd\u001b[39m\u001b[38;5;124m'\u001b[39m,\n\u001b[0;32m      6\u001b[0m     \u001b[38;5;124m'\u001b[39m\u001b[38;5;124mpassword_confitmation\u001b[39m\u001b[38;5;124m'\u001b[39m:\u001b[38;5;124m'\u001b[39m\u001b[38;5;124mqwddd\u001b[39m\u001b[38;5;124m'\u001b[39m,\n\u001b[0;32m      7\u001b[0m \n\u001b[0;32m      8\u001b[0m }\n\u001b[1;32m---> 10\u001b[0m \u001b[43msign_up\u001b[49m(\u001b[38;5;241m*\u001b[39m\u001b[38;5;241m*\u001b[39mmy_account)\n",
      "\u001b[1;31mNameError\u001b[0m: name 'sign_up' is not defined"
     ]
    }
   ],
   "source": [
    "#내가 넣어야 되는 이아디와 비밀번호를 딕션너리로 만들어 넣음\n",
    "\n",
    "my_account = {\n",
    "    'username': 'asdee',\n",
    "    'password': 'qwddd',\n",
    "    'password_confitmation':'qwddd',\n",
    "\n",
    "}\n",
    "\n",
    "sign_up(**my_account)"
   ]
  },
  {
   "cell_type": "markdown",
   "id": "2f02a425-a581-4bdc-abf1-d4e3950ec4f6",
   "metadata": {},
   "source": [
    "...16..."
   ]
  },
  {
   "cell_type": "markdown",
   "id": "f0f688cb-94b7-4175-bedf-050a52d25680",
   "metadata": {},
   "source": [
    "### Lambda 표현식\n",
    "\n",
    "```python\n",
    "    lambda parameter: expression\n",
    "\n",
    "```\n",
    "\n",
    "- 이름이 없는 함수를 만들 수 있다, 즉, 이름이 없이 바로 실행 할 수 있음\n"
   ]
  },
  {
   "cell_type": "code",
   "execution_count": 35,
   "id": "58bc448d-d7cc-4268-9210-8123f848ec09",
   "metadata": {},
   "outputs": [
    {
     "data": {
      "text/plain": [
       "3"
      ]
     },
     "execution_count": 35,
     "metadata": {},
     "output_type": "execute_result"
    }
   ],
   "source": [
    "(lambda a, b: a + b)(1, 2)\n",
    "\n",
    "#앞에 람다 부분에 소가로를 한 이유는 함수를 정의 해주고 뒤에 있는 부분은 값을 넣어준것"
   ]
  },
  {
   "cell_type": "code",
   "execution_count": 37,
   "id": "ae8b11b9-64a9-405a-9567-dd42db097f41",
   "metadata": {},
   "outputs": [
    {
     "data": {
      "text/plain": [
       "3"
      ]
     },
     "execution_count": 37,
     "metadata": {},
     "output_type": "execute_result"
    }
   ],
   "source": [
    "def my_sum(a, b):\n",
    "    return a + b\n",
    "\n",
    "my_sum(1, 2)"
   ]
  },
  {
   "cell_type": "code",
   "execution_count": 39,
   "id": "4d41b8bb-9c04-48d6-bb2b-2d8e8ec1e135",
   "metadata": {},
   "outputs": [
    {
     "ename": "TypeError",
     "evalue": "can only concatenate str (not \"int\") to str",
     "output_type": "error",
     "traceback": [
      "\u001b[1;31m---------------------------------------------------------------------------\u001b[0m",
      "\u001b[1;31mTypeError\u001b[0m                                 Traceback (most recent call last)",
      "Cell \u001b[1;32mIn[39], line 1\u001b[0m\n\u001b[1;32m----> 1\u001b[0m my_sum(\u001b[38;5;124;43m'\u001b[39;49m\u001b[38;5;124;43m1\u001b[39;49m\u001b[38;5;124;43m'\u001b[39;49m\u001b[43m \u001b[49m\u001b[38;5;241;43m+\u001b[39;49m\u001b[43m \u001b[49m\u001b[38;5;241;43m2\u001b[39;49m)\n",
      "\u001b[1;31mTypeError\u001b[0m: can only concatenate str (not \"int\") to str"
     ]
    }
   ],
   "source": [
    "my_sum('1' + 2)\n",
    "\n",
    "#python은 함수에 어떤것을 넣고 어떤 \n",
    "#함수 어노테이션  4.8.8"
   ]
  },
  {
   "cell_type": "markdown",
   "id": "1cc8132b-291e-41f4-b48d-9b6eed9ee03d",
   "metadata": {},
   "source": [
    "### 타입 힌트"
   ]
  },
  {
   "cell_type": "code",
   "execution_count": 40,
   "id": "9d661c26-1fdf-4bcd-bace-4df01c5c46f7",
   "metadata": {},
   "outputs": [
    {
     "data": {
      "text/plain": [
       "3"
      ]
     },
     "execution_count": 40,
     "metadata": {},
     "output_type": "execute_result"
    }
   ],
   "source": [
    "def my_sum(num1, num2):\n",
    "    return num1 + num2\n",
    "\n",
    "my_sum(1, 2)"
   ]
  },
  {
   "cell_type": "code",
   "execution_count": 45,
   "id": "ecaf0102-62dd-4998-bac0-6085c7a75b86",
   "metadata": {},
   "outputs": [
    {
     "data": {
      "text/plain": [
       "3"
      ]
     },
     "execution_count": 45,
     "metadata": {},
     "output_type": "execute_result"
    }
   ],
   "source": [
    "def my_sum(num1: int, num2: int) -> int: #각각에 type를 적어 줌 , type이 잘 못 되었다고 실행을 방해하지는 않음\n",
    "    return num1 + num2\n",
    "\n",
    "my_sum(1, 2)"
   ]
  },
  {
   "cell_type": "code",
   "execution_count": 46,
   "id": "9e8f6e0f-7ab8-45bb-961c-330c29ad1cbe",
   "metadata": {},
   "outputs": [
    {
     "ename": "TypeError",
     "evalue": "can only concatenate str (not \"int\") to str",
     "output_type": "error",
     "traceback": [
      "\u001b[1;31m---------------------------------------------------------------------------\u001b[0m",
      "\u001b[1;31mTypeError\u001b[0m                                 Traceback (most recent call last)",
      "Cell \u001b[1;32mIn[46], line 1\u001b[0m\n\u001b[1;32m----> 1\u001b[0m my_sum(\u001b[38;5;124;43m'\u001b[39;49m\u001b[38;5;124;43m1\u001b[39;49m\u001b[38;5;124;43m'\u001b[39;49m\u001b[43m \u001b[49m\u001b[38;5;241;43m+\u001b[39;49m\u001b[43m \u001b[49m\u001b[38;5;241;43m2\u001b[39;49m)\n",
      "\u001b[1;31mTypeError\u001b[0m: can only concatenate str (not \"int\") to str"
     ]
    }
   ],
   "source": [
    "my_sum('1' + 2)"
   ]
  },
  {
   "cell_type": "code",
   "execution_count": 47,
   "id": "82be553a-c543-4b82-94bf-1c12ad2991f0",
   "metadata": {},
   "outputs": [
    {
     "data": {
      "text/plain": [
       "3"
      ]
     },
     "execution_count": 47,
     "metadata": {},
     "output_type": "execute_result"
    }
   ],
   "source": [
    "def my_sum(num1: int, num2: int) -> int: #각각에 type를 적어 줌 , type이 잘 못 되었다고 실행을 방해하지는 않음\n",
    "    '''\n",
    "    두수의 합을 구하는 함수 입니다\n",
    "    매개변수 num1, num2를 받아서 num1 + num2를 리턴합니다.\n",
    "    '''\n",
    "    return num1 + num2\n",
    "\n",
    "my_sum(1, 2)"
   ]
  },
  {
   "cell_type": "markdown",
   "id": "81297170-49e2-4345-9f40-6853ad6b2c84",
   "metadata": {},
   "source": [
    "### 이름 공간 (scope)\n",
    "\n",
    "파이썬에서 사용되는 이름들은 이름공간(namespace)에 저장되어 있습니다.\n",
    "\n",
    "- L (Local scope) : 정의된 함수 내부\n",
    "- E (Enclosed scope) : 상위 함수\n",
    "- G (Global scope) : 함수 밖의 변수 혹은 import 된 모듈\n",
    "- B (Built-in scope) : 파이썬이 기본적으로 가지고 있는 함수 혹은 변수\n",
    "\n",
    "나랑 가까운것부터 찾는다."
   ]
  },
  {
   "cell_type": "code",
   "execution_count": 54,
   "id": "a2216195-dd44-4edf-93f4-22807f455d69",
   "metadata": {},
   "outputs": [],
   "source": [
    "str = '123'"
   ]
  },
  {
   "cell_type": "code",
   "execution_count": 55,
   "id": "4530c549-e7d1-462b-9008-12e56106e79a",
   "metadata": {},
   "outputs": [
    {
     "name": "stdout",
     "output_type": "stream",
     "text": [
      "123\n"
     ]
    }
   ],
   "source": [
    "print(str)"
   ]
  },
  {
   "cell_type": "code",
   "execution_count": 56,
   "id": "d663a9d3-d28a-4307-8490-0cbd4b9424a3",
   "metadata": {},
   "outputs": [
    {
     "ename": "TypeError",
     "evalue": "'str' object is not callable",
     "output_type": "error",
     "traceback": [
      "\u001b[1;31m---------------------------------------------------------------------------\u001b[0m",
      "\u001b[1;31mTypeError\u001b[0m                                 Traceback (most recent call last)",
      "Cell \u001b[1;32mIn[56], line 1\u001b[0m\n\u001b[1;32m----> 1\u001b[0m \u001b[38;5;28;43mstr\u001b[39;49m\u001b[43m(\u001b[49m\u001b[38;5;241;43m789\u001b[39;49m\u001b[43m)\u001b[49m\n\u001b[0;32m      2\u001b[0m \u001b[38;5;66;03m#789라는 숫자를 글짜로 변환해줘 -> 에러 발생\u001b[39;00m\n",
      "\u001b[1;31mTypeError\u001b[0m: 'str' object is not callable"
     ]
    }
   ],
   "source": [
    "str(789)\n",
    "#789라는 숫자를 글짜로 변환해줘 -> 에러 발생"
   ]
  },
  {
   "cell_type": "code",
   "execution_count": 57,
   "id": "61d7b7dc-5dc6-46f7-82b4-28776c47e209",
   "metadata": {},
   "outputs": [],
   "source": [
    "del str\n",
    "#변수를 지워주는 명령어"
   ]
  },
  {
   "cell_type": "code",
   "execution_count": 58,
   "id": "ba182e5c-8547-4241-9a1d-dd95648ade4d",
   "metadata": {},
   "outputs": [
    {
     "name": "stdout",
     "output_type": "stream",
     "text": [
      "5\n"
     ]
    }
   ],
   "source": [
    "a = 1\n",
    "def localscope(a): #밖에 있는 a라는 변수 보다 안에 있는 매개변수가 더 중요하다.\n",
    "    # a = 5\n",
    "    print(a)\n",
    "\n",
    "localscope(5)"
   ]
  },
  {
   "cell_type": "code",
   "execution_count": 70,
   "id": "496e397f-d138-456a-9adb-99cbd2e98394",
   "metadata": {},
   "outputs": [
    {
     "name": "stdout",
     "output_type": "stream",
     "text": [
      "20\n"
     ]
    }
   ],
   "source": [
    "num = 10\n",
    "def scope():\n",
    "    num = 20\n",
    "    print(num)\n",
    "    '''\n",
    "    20은 함수 내부에 있기 때문에 밖에 이는 10보다 먼저 인식함\n",
    "    '''\n",
    "\n",
    "scope()"
   ]
  },
  {
   "cell_type": "code",
   "execution_count": 71,
   "id": "0d214f10-a239-4073-97ca-d1b1eb281862",
   "metadata": {},
   "outputs": [
    {
     "name": "stdout",
     "output_type": "stream",
     "text": [
      "20\n",
      "20\n"
     ]
    }
   ],
   "source": [
    "num = 10\n",
    "def scope():\n",
    "    global num  # 전역 변수를 수정 할때 사용\n",
    "    num = 20\n",
    "    print(num)\n",
    "\n",
    "scope()\n",
    "print(num)  #3t/5m"
   ]
  },
  {
   "cell_type": "markdown",
   "id": "f4a8d251-b644-4983-9bcb-35432aadd6e2",
   "metadata": {},
   "source": [
    "## 재귀 (recursivew)\n",
    "\n",
    "재귀 함수는 함수 내부에서 자기 자신을 호출하는 함수를 의미한다.\n",
    "알고리즘 문제를 풀떄 사용 한다."
   ]
  },
  {
   "cell_type": "code",
   "execution_count": 72,
   "id": "20cd9a28-bb0c-4128-9778-8322dbe4589b",
   "metadata": {},
   "outputs": [],
   "source": [
    "# 팩토리얼 ( 1 * 2 * 3 * ... * n = n!)\n",
    "def fact(n):\n",
    "    pass\n",
    "\n",
    "fact(5)"
   ]
  },
  {
   "cell_type": "markdown",
   "id": "6f966d05-9792-40b7-b908-085bd32e6c95",
   "metadata": {},
   "source": [
    "연습)\n",
    "    while문, for문을 통해서 1부터 5까지 곱하시오"
   ]
  },
  {
   "cell_type": "code",
   "execution_count": 78,
   "id": "d828684c-bb19-4c0a-8ea0-3b9d05b15600",
   "metadata": {},
   "outputs": [
    {
     "ename": "IndentationError",
     "evalue": "unindent does not match any outer indentation level (<tokenize>, line 10)",
     "output_type": "error",
     "traceback": [
      "\u001b[1;36m  File \u001b[1;32m<tokenize>:10\u001b[1;36m\u001b[0m\n\u001b[1;33m    return result\u001b[0m\n\u001b[1;37m    ^\u001b[0m\n\u001b[1;31mIndentationError\u001b[0m\u001b[1;31m:\u001b[0m unindent does not match any outer indentation level\n"
     ]
    }
   ],
   "source": [
    "def fact(n)\n",
    "    result = 1\n",
    "\n",
    "    while n > 1:\n",
    "        result = result * n\n",
    "        # result *= n 위와 같은 코드\n",
    "        n = n - 1\n",
    "        #n -= 1 위와 같은 코드\n",
    "\n",
    "     return result\n",
    "\n",
    "fact(5)"
   ]
  },
  {
   "cell_type": "code",
   "execution_count": null,
   "id": "4aa390f2-697d-4904-92ed-bec348ac7c42",
   "metadata": {},
   "outputs": [],
   "source": [
    "3t/27\n",
    "\n",
    "1! = 1\n",
    "2! = 1 * 2 = 1! * 2\n",
    "3! = 1 * 2 * 3 = 2! * 3\n",
    "\n",
    "10! = 9! * 10\n",
    "9! = 8! * 9\n",
    "\n",
    "fact(5)를 호출한다는거은\n",
    "fact( fact(4) * 5 )\n",
    "fact( fact(fact(fact(3) * 4 ) * 5 )"
   ]
  },
  {
   "cell_type": "code",
   "execution_count": 81,
   "id": "3f3ae6fe-e7ec-46e4-b41e-2e62223e6684",
   "metadata": {},
   "outputs": [
    {
     "data": {
      "text/plain": [
       "120"
      ]
     },
     "execution_count": 81,
     "metadata": {},
     "output_type": "execute_result"
    }
   ],
   "source": [
    "def factorial(n):\n",
    "    if n <= 1:\n",
    "        return 1\n",
    "    else:\n",
    "        return factorial(n-1) * n\n",
    "        # 10! = 9! * 10 = ... = 1! = 0! * 1\n",
    "\n",
    "factorial(5)"
   ]
  },
  {
   "cell_type": "code",
   "execution_count": 83,
   "id": "6d153dd7-352a-482e-af2d-174ca6adb010",
   "metadata": {},
   "outputs": [],
   "source": [
    "def test_erroe(n):\n",
    "    return test_error(N)\n",
    "\n",
    "#test_error(1) 무한히 돌기 때문에 주석 처리"
   ]
  },
  {
   "cell_type": "markdown",
   "id": "59b9e6b1-75cd-47e0-bb3f-dfc495580fea",
   "metadata": {},
   "source": [
    "### 피보나치 수열\n",
    "\n",
    "```\n",
    "F(0) = F(1) = 1\n",
    "F(n) = F(n-1) + F(n-2)\n",
    "```\n"
   ]
  },
  {
   "cell_type": "code",
   "execution_count": 33,
   "id": "ab440817-bb8e-42dd-8d7e-7f56b4af6826",
   "metadata": {},
   "outputs": [
    {
     "ename": "TypeError",
     "evalue": "fib_loop() takes 0 positional arguments but 1 was given",
     "output_type": "error",
     "traceback": [
      "\u001b[1;31m---------------------------------------------------------------------------\u001b[0m",
      "\u001b[1;31mTypeError\u001b[0m                                 Traceback (most recent call last)",
      "Cell \u001b[1;32mIn[33], line 15\u001b[0m\n\u001b[0;32m     11\u001b[0m         result\u001b[38;5;241m.\u001b[39mappennd(fib_num)\n\u001b[0;32m     13\u001b[0m     \u001b[38;5;28;01mreturn\u001b[39;00m result[\u001b[38;5;241m-\u001b[39m\u001b[38;5;241m1\u001b[39m]\n\u001b[1;32m---> 15\u001b[0m \u001b[43mfib_loop\u001b[49m\u001b[43m(\u001b[49m\u001b[38;5;241;43m7\u001b[39;49m\u001b[43m)\u001b[49m                  \n",
      "\u001b[1;31mTypeError\u001b[0m: fib_loop() takes 0 positional arguments but 1 was given"
     ]
    }
   ],
   "source": [
    "#반복문\n",
    "\n",
    "def fib_loop():\n",
    "    result = [1, 1]\n",
    "\n",
    "    for i in range(1, n):\n",
    "        end1 = result[-1] # 뒤에서 부터 접근\n",
    "        end2 = result[len(result)-2]  # 앞에서 부터 접근\n",
    "        fib_num = end1 + end2\n",
    "\n",
    "        result.appennd(fib_num)\n",
    "\n",
    "    return result[-1]\n",
    "\n",
    "fib_loop(7)                  "
   ]
  },
  {
   "cell_type": "code",
   "execution_count": 32,
   "id": "c7a997c8-b844-458a-b470-8b347011f76c",
   "metadata": {},
   "outputs": [
    {
     "data": {
      "text/plain": [
       "21"
      ]
     },
     "execution_count": 32,
     "metadata": {},
     "output_type": "execute_result"
    }
   ],
   "source": [
    "# 재귀\n",
    "def fib_rec(n):\n",
    "    if n == 0 or n == 1:\n",
    "        return 1\n",
    "    else:\n",
    "        return fib_rec(n-1) + fib_rec(n-2)\n",
    "\n",
    "fib_rec(7)"
   ]
  },
  {
   "cell_type": "code",
   "execution_count": 22,
   "id": "91ef4176-6680-454f-a2c9-d3927150f6b3",
   "metadata": {},
   "outputs": [
    {
     "data": {
      "text/plain": [
       "2"
      ]
     },
     "execution_count": 22,
     "metadata": {},
     "output_type": "execute_result"
    }
   ],
   "source": [
    "a = [1, 2, 3, 4, 5]\n",
    "a[1]"
   ]
  },
  {
   "cell_type": "code",
   "execution_count": 23,
   "id": "baa7c71d-66a0-49c2-94ed-e75ce63eac0f",
   "metadata": {},
   "outputs": [
    {
     "data": {
      "text/plain": [
       "2"
      ]
     },
     "execution_count": 23,
     "metadata": {},
     "output_type": "execute_result"
    }
   ],
   "source": [
    "a[-4]"
   ]
  },
  {
   "cell_type": "code",
   "execution_count": 92,
   "id": "340b66dd-4963-4e3a-b4f8-4fe1b905efbf",
   "metadata": {},
   "outputs": [
    {
     "data": {
      "text/plain": [
       "1"
      ]
     },
     "execution_count": 92,
     "metadata": {},
     "output_type": "execute_result"
    }
   ],
   "source": [
    "#while반복문\n",
    "def fib_loop(n):\n",
    "    result = []\n",
    "    a, b = 1, 1\n",
    "    while a < n:\n",
    "        a, b = b, a + b\n",
    "        result.append(a)\n",
    "        return a\n",
    "\n",
    "fib_loop(7)    "
   ]
  },
  {
   "cell_type": "code",
   "execution_count": 89,
   "id": "20e94070-6613-4e10-aee2-a80747c058a1",
   "metadata": {},
   "outputs": [
    {
     "data": {
      "text/plain": [
       "13"
      ]
     },
     "execution_count": 89,
     "metadata": {},
     "output_type": "execute_result"
    }
   ],
   "source": [
    "#for 반복문\n",
    "def fib_loop(n):\n",
    "    result = []\n",
    "    a, b = 1, 1,\n",
    "    for i in range(n):\n",
    "        result.append(a)\n",
    "        a, b = b, a + b\n",
    "    return result[-1]\n",
    "\n",
    "fib_loop(7)"
   ]
  },
  {
   "cell_type": "code",
   "execution_count": 94,
   "id": "0bacefe6-9566-4887-bd9d-009c76db1c4f",
   "metadata": {},
   "outputs": [
    {
     "ename": "UnboundLocalError",
     "evalue": "cannot access local variable 'number' where it is not associated with a value",
     "output_type": "error",
     "traceback": [
      "\u001b[1;31m---------------------------------------------------------------------------\u001b[0m",
      "\u001b[1;31mUnboundLocalError\u001b[0m                         Traceback (most recent call last)",
      "Cell \u001b[1;32mIn[94], line 10\u001b[0m\n\u001b[0;32m      7\u001b[0m         number \u001b[38;5;241m+\u001b[39m fibo_rec(n\u001b[38;5;241m-\u001b[39m\u001b[38;5;241m1\u001b[39m) \u001b[38;5;241m+\u001b[39m fibo_rec(N\u001b[38;5;241m-\u001b[39m\u001b[38;5;241m2\u001b[39m)\n\u001b[0;32m      8\u001b[0m         \u001b[38;5;28;01mreturn\u001b[39;00m number\n\u001b[1;32m---> 10\u001b[0m \u001b[43mfibo_rec\u001b[49m\u001b[43m(\u001b[49m\u001b[38;5;241;43m7\u001b[39;49m\u001b[43m)\u001b[49m\n",
      "Cell \u001b[1;32mIn[94], line 7\u001b[0m, in \u001b[0;36mfibo_rec\u001b[1;34m(n)\u001b[0m\n\u001b[0;32m      5\u001b[0m     number \u001b[38;5;241m=\u001b[39m \u001b[38;5;241m1\u001b[39m\n\u001b[0;32m      6\u001b[0m \u001b[38;5;28;01melse\u001b[39;00m:\n\u001b[1;32m----> 7\u001b[0m     \u001b[43mnumber\u001b[49m \u001b[38;5;241m+\u001b[39m fibo_rec(n\u001b[38;5;241m-\u001b[39m\u001b[38;5;241m1\u001b[39m) \u001b[38;5;241m+\u001b[39m fibo_rec(N\u001b[38;5;241m-\u001b[39m\u001b[38;5;241m2\u001b[39m)\n\u001b[0;32m      8\u001b[0m     \u001b[38;5;28;01mreturn\u001b[39;00m number\n",
      "\u001b[1;31mUnboundLocalError\u001b[0m: cannot access local variable 'number' where it is not associated with a value"
     ]
    }
   ],
   "source": [
    "#재귀 함수\n",
    "def fibo_rec(n):\n",
    "    result = []\n",
    "    if n <= 2:\n",
    "        number = 1\n",
    "    else:\n",
    "        number + fibo_rec(n-1) + fibo_rec(N-2)\n",
    "        return number\n",
    "\n",
    "fibo_rec(7)"
   ]
  },
  {
   "cell_type": "code",
   "execution_count": null,
   "id": "22956068-8def-4903-832c-221769f94e6c",
   "metadata": {},
   "outputs": [],
   "source": []
  }
 ],
 "metadata": {
  "kernelspec": {
   "display_name": "Python 3 (ipykernel)",
   "language": "python",
   "name": "python3"
  },
  "language_info": {
   "codemirror_mode": {
    "name": "ipython",
    "version": 3
   },
   "file_extension": ".py",
   "mimetype": "text/x-python",
   "name": "python",
   "nbconvert_exporter": "python",
   "pygments_lexer": "ipython3",
   "version": "3.11.4"
  }
 },
 "nbformat": 4,
 "nbformat_minor": 5
}
