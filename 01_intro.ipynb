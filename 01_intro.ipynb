{
 "cells": [
  {
   "cell_type": "markdown",
   "id": "93046777-b6f8-42c0-a0b6-d1a4608b7beb",
   "metadata": {},
   "source": [
    "# 01. intro\n",
    "\n",
    "##단축키\n",
    "\n",
    "- ctrl + enter : 현재 셀 실행\n",
    "- shift + enter : 현재 셀 실행 & 아래로 이동\n",
    "- alt + enter : 현재 셀 싱행 & 아래에 새로운 셀 추가\n",
    "\n",
    "- ## 주의사항\n",
    "\n",
    "  1. Apple / apple 은 다르다. (대소문자 주의)\n",
    "  2. git add . / git add. 도 다르다 (띄어쓰기 주의)\n",
    "  3. message / massage (철자 주의)"
   ]
  },
  {
   "cell_type": "code",
   "execution_count": null,
   "id": "0a582909-5942-49bf-b172-d25507c085ef",
   "metadata": {},
   "outputs": [],
   "source": [
    "# ctrl + /은 #이며, #은 주석 처리를 함."
   ]
  },
  {
   "cell_type": "markdown",
   "id": "2721711e-f07d-41df-b383-f027574a57b0",
   "metadata": {},
   "source": [
    "# 1. 변수\n",
    "\n",
    "변수이름 = 값\n",
    "\n",
    "- 변수이름은 어떤 이름이든 상관 없음\n",
    "- 다만 영어, 숫자, _ 를 이용하여 선언\n",
    "- 키워드는 사용불가"
   ]
  },
  {
   "cell_type": "code",
   "execution_count": 5,
   "id": "73232ed3-308a-4639-892a-275ab166fe5d",
   "metadata": {},
   "outputs": [],
   "source": [
    "a = 10 # 등호 자체를 할당의 의미를 가지고 있음"
   ]
  },
  {
   "cell_type": "code",
   "execution_count": 6,
   "id": "7b7e7d98-76a9-42b7-9fbd-b6d63df11dd3",
   "metadata": {},
   "outputs": [
    {
     "data": {
      "text/plain": [
       "10"
      ]
     },
     "execution_count": 6,
     "metadata": {},
     "output_type": "execute_result"
    }
   ],
   "source": [
    "a"
   ]
  },
  {
   "cell_type": "code",
   "execution_count": 9,
   "id": "31099282-4f28-47db-be67-d2f0271e9461",
   "metadata": {},
   "outputs": [
    {
     "data": {
      "text/plain": [
       "['False',\n",
       " 'None',\n",
       " 'True',\n",
       " 'and',\n",
       " 'as',\n",
       " 'assert',\n",
       " 'async',\n",
       " 'await',\n",
       " 'break',\n",
       " 'class',\n",
       " 'continue',\n",
       " 'def',\n",
       " 'del',\n",
       " 'elif',\n",
       " 'else',\n",
       " 'except',\n",
       " 'finally',\n",
       " 'for',\n",
       " 'from',\n",
       " 'global',\n",
       " 'if',\n",
       " 'import',\n",
       " 'in',\n",
       " 'is',\n",
       " 'lambda',\n",
       " 'nonlocal',\n",
       " 'not',\n",
       " 'or',\n",
       " 'pass',\n",
       " 'raise',\n",
       " 'return',\n",
       " 'try',\n",
       " 'while',\n",
       " 'with',\n",
       " 'yield']"
      ]
     },
     "execution_count": 9,
     "metadata": {},
     "output_type": "execute_result"
    }
   ],
   "source": [
    "import keyword # 아래 있는것들은 키워드 임\n",
    "keyword.kwlist"
   ]
  },
  {
   "cell_type": "markdown",
   "id": "4f622142-6bdd-4d4b-949e-1fc74630c42d",
   "metadata": {},
   "source": [
    "### 1-1 number"
   ]
  },
  {
   "cell_type": "code",
   "execution_count": 10,
   "id": "bd84a021-ada5-44c4-9bd5-1da4bc5d8e19",
   "metadata": {},
   "outputs": [],
   "source": [
    "a = 10000000"
   ]
  },
  {
   "cell_type": "code",
   "execution_count": 11,
   "id": "18a26d73-4187-4e52-b6c8-b86812cbead9",
   "metadata": {},
   "outputs": [
    {
     "data": {
      "text/plain": [
       "10000000"
      ]
     },
     "execution_count": 11,
     "metadata": {},
     "output_type": "execute_result"
    }
   ],
   "source": [
    "a"
   ]
  },
  {
   "cell_type": "code",
   "execution_count": 14,
   "id": "d0ec5a3d-fcbe-4334-b021-b10522af6c1b",
   "metadata": {},
   "outputs": [
    {
     "data": {
      "text/plain": [
       "int"
      ]
     },
     "execution_count": 14,
     "metadata": {},
     "output_type": "execute_result"
    }
   ],
   "source": [
    "type(a)  # 현제 이 데이터가 어떤 형식(형태)인지 확인하는 함수 / int = 정수"
   ]
  },
  {
   "cell_type": "code",
   "execution_count": 15,
   "id": "bd4af4d7-f405-4de3-8ee2-f1df60e3bb25",
   "metadata": {},
   "outputs": [],
   "source": [
    "b = 1.1"
   ]
  },
  {
   "cell_type": "code",
   "execution_count": 16,
   "id": "9a938b30-7ef8-4508-8e40-d734ce1a7af0",
   "metadata": {},
   "outputs": [
    {
     "data": {
      "text/plain": [
       "1.1"
      ]
     },
     "execution_count": 16,
     "metadata": {},
     "output_type": "execute_result"
    }
   ],
   "source": [
    "b"
   ]
  },
  {
   "cell_type": "code",
   "execution_count": 19,
   "id": "e3eade1d-8363-4432-90f4-de9a2100ffb5",
   "metadata": {},
   "outputs": [
    {
     "data": {
      "text/plain": [
       "float"
      ]
     },
     "execution_count": 19,
     "metadata": {},
     "output_type": "execute_result"
    }
   ],
   "source": [
    "type(b)  # 컴퓨터틑 1 과 0 으로만 모든 데이터를 처리하는데 소수점은 부동소수점으로 처리를 함 / float = 소수점"
   ]
  },
  {
   "cell_type": "code",
   "execution_count": 20,
   "id": "b8b9467f-9c33-45e5-85aa-947d15324def",
   "metadata": {},
   "outputs": [],
   "source": [
    "c = 1 -4j"
   ]
  },
  {
   "cell_type": "code",
   "execution_count": 21,
   "id": "3c22c486-2609-4dfb-8dee-d3a2c304e3cd",
   "metadata": {},
   "outputs": [
    {
     "data": {
      "text/plain": [
       "(1-4j)"
      ]
     },
     "execution_count": 21,
     "metadata": {},
     "output_type": "execute_result"
    }
   ],
   "source": [
    "c"
   ]
  },
  {
   "cell_type": "code",
   "execution_count": 24,
   "id": "be5a0ca7-bed3-472e-bc56-36d0b5dbf736",
   "metadata": {},
   "outputs": [
    {
     "data": {
      "text/plain": [
       "complex"
      ]
     },
     "execution_count": 24,
     "metadata": {},
     "output_type": "execute_result"
    }
   ],
   "source": [
    "type(c)  # complex : 허수 (복소수)"
   ]
  },
  {
   "cell_type": "code",
   "execution_count": 28,
   "id": "5c1d80de-fd10-4a78-a64a-9867ad25e331",
   "metadata": {},
   "outputs": [
    {
     "data": {
      "text/plain": [
       "-4.0"
      ]
     },
     "execution_count": 28,
     "metadata": {},
     "output_type": "execute_result"
    }
   ],
   "source": [
    "c.imag   # . (닷, 쩜)은 중요하며 어떤 데이터 안에 있는것을 확인할때 .imag는 허수 부분을 .real은 정수 부분을"
   ]
  },
  {
   "cell_type": "code",
   "execution_count": 27,
   "id": "86baabf4-2259-4a19-9a46-2ce5dc350b31",
   "metadata": {},
   "outputs": [
    {
     "data": {
      "text/plain": [
       "1.0"
      ]
     },
     "execution_count": 27,
     "metadata": {},
     "output_type": "execute_result"
    }
   ],
   "source": [
    "c.real"
   ]
  },
  {
   "cell_type": "markdown",
   "id": "c618ea7e-8b98-4939-b79b-516b8f69a1b5",
   "metadata": {},
   "source": [
    "### 1-2 Boolean (Bool) 참/거짓\n",
    "\n",
    "True, False로 이루어진 타입"
   ]
  },
  {
   "cell_type": "code",
   "execution_count": 29,
   "id": "508565f9-1945-46d8-9915-10d71bdb2545",
   "metadata": {},
   "outputs": [],
   "source": [
    "a = True"
   ]
  },
  {
   "cell_type": "code",
   "execution_count": 30,
   "id": "de24a495-512a-4433-bbee-f844b17344c4",
   "metadata": {},
   "outputs": [
    {
     "data": {
      "text/plain": [
       "bool"
      ]
     },
     "execution_count": 30,
     "metadata": {},
     "output_type": "execute_result"
    }
   ],
   "source": [
    "type(a)"
   ]
  },
  {
   "cell_type": "code",
   "execution_count": 1,
   "id": "7c7208a9-2f17-43e9-b876-1faa97a11240",
   "metadata": {},
   "outputs": [],
   "source": [
    "b = False"
   ]
  },
  {
   "cell_type": "code",
   "execution_count": 2,
   "id": "328077e2-d064-4930-9ec3-7f5a2a8c2534",
   "metadata": {},
   "outputs": [
    {
     "data": {
      "text/plain": [
       "bool"
      ]
     },
     "execution_count": 2,
     "metadata": {},
     "output_type": "execute_result"
    }
   ],
   "source": [
    "type(b)"
   ]
  },
  {
   "cell_type": "markdown",
   "id": "a44f2bf5-c991-4d77-811d-90f4a5717a4f",
   "metadata": {},
   "source": [
    "### 1-3 None"
   ]
  },
  {
   "cell_type": "code",
   "execution_count": 35,
   "id": "862d8364-74d9-4ea9-b63b-1b7226229bb0",
   "metadata": {},
   "outputs": [],
   "source": [
    "a = None #아무 값도 없다는 의미 :None (비어있으니 기본적으로 )"
   ]
  },
  {
   "cell_type": "code",
   "execution_count": 99,
   "id": "7e80cf97-a365-4a8f-936d-d49b530afe53",
   "metadata": {},
   "outputs": [
    {
     "data": {
      "text/plain": [
       "str"
      ]
     },
     "execution_count": 99,
     "metadata": {},
     "output_type": "execute_result"
    }
   ],
   "source": [
    "type(a)\n",
    "\n",
    "# NoneTyoe : 값이 아무것도 들어가 있지 않다는것을 의미"
   ]
  },
  {
   "cell_type": "markdown",
   "id": "534be674-dbf2-4a3a-b9c8-09cd879d6d09",
   "metadata": {},
   "source": [
    "### 1-4 String\n",
    "\n",
    "- 문자열은 ' , \" 를 이용하여 표현\n",
    "  "
   ]
  },
  {
   "cell_type": "code",
   "execution_count": 98,
   "id": "8b492c30-a935-4b38-8977-99df16b8466d",
   "metadata": {},
   "outputs": [],
   "source": [
    "a = 'hello' #str : 문자열"
   ]
  },
  {
   "cell_type": "code",
   "execution_count": 37,
   "id": "26cef973-36dc-493f-9562-33cd28b40b5e",
   "metadata": {},
   "outputs": [
    {
     "data": {
      "text/plain": [
       "str"
      ]
     },
     "execution_count": 37,
     "metadata": {},
     "output_type": "execute_result"
    }
   ],
   "source": [
    "type(a)"
   ]
  },
  {
   "cell_type": "code",
   "execution_count": 39,
   "id": "a601f3ae-791d-4565-b7de-79d90376cd12",
   "metadata": {},
   "outputs": [],
   "source": [
    "b = \"world\""
   ]
  },
  {
   "cell_type": "code",
   "execution_count": 40,
   "id": "f8255eae-52bf-4d70-8abe-6afbd2caf582",
   "metadata": {},
   "outputs": [
    {
     "data": {
      "text/plain": [
       "str"
      ]
     },
     "execution_count": 40,
     "metadata": {},
     "output_type": "execute_result"
    }
   ],
   "source": [
    "type(b)"
   ]
  },
  {
   "cell_type": "code",
   "execution_count": 102,
   "id": "4d657a49-31d3-433c-9841-a670ce0967a8",
   "metadata": {},
   "outputs": [
    {
     "name": "stdin",
     "output_type": "stream",
     "text": [
      " 123\n"
     ]
    },
    {
     "name": "stdout",
     "output_type": "stream",
     "text": [
      "123\n",
      "<class 'str'>\n"
     ]
    }
   ],
   "source": [
    "age = input()  # 옆에 * 로 표시되는데 이 의미는 아직 실행중이라는 것 / input은 사용자가 원하는 값을 입력할 수 있음\n",
    "print(age)     # input에 넣으면 숫자를 넣어도 글자(str)로 받아온다.\n",
    "print(type(age))\n",
    "\n",
    "# 셀 실행 순서 칸에 *가 표시 되어있으면 셀이 실행 중이라는 의미\n",
    "# input : 사용자가 어떤 데이터를 입혁 할 수 있는 기능을 함\n",
    "# input에 어떤 데이터를 넣든 상관 없이 string으로 인식함 ( 숫자값을 받으려면 형태를 전환해야함)"
   ]
  },
  {
   "cell_type": "code",
   "execution_count": 5,
   "id": "fbb06238-83b4-4e60-81e1-1c1843c16f93",
   "metadata": {},
   "outputs": [
    {
     "ename": "SyntaxError",
     "evalue": "invalid syntax. Perhaps you forgot a comma? (1930207405.py, line 1)",
     "output_type": "error",
     "traceback": [
      "\u001b[1;36m  Cell \u001b[1;32mIn[5], line 1\u001b[1;36m\u001b[0m\n\u001b[1;33m    print('안녕하세요? '이도형'입니다.')\u001b[0m\n\u001b[1;37m          ^\u001b[0m\n\u001b[1;31mSyntaxError\u001b[0m\u001b[1;31m:\u001b[0m invalid syntax. Perhaps you forgot a comma?\n"
     ]
    }
   ],
   "source": [
    "print('안녕하세요? '이도형'입니다.')\n",
    "\n",
    "#안녕하세요와 입니다를 따로 묶어 인식하여 이도형 부분때문에 오류"
   ]
  },
  {
   "cell_type": "code",
   "execution_count": 107,
   "id": "9bdcd6bf-8735-4a67-9304-d698701013cb",
   "metadata": {},
   "outputs": [
    {
     "name": "stdout",
     "output_type": "stream",
     "text": [
      "안녕하세요? '이도형'입니다.\n"
     ]
    }
   ],
   "source": [
    "print(\"안녕하세요? '이도형'입니다.\")"
   ]
  },
  {
   "cell_type": "code",
   "execution_count": 45,
   "id": "7620e868-2419-44ca-9faa-af6cc3988eb7",
   "metadata": {},
   "outputs": [
    {
     "name": "stdout",
     "output_type": "stream",
     "text": [
      "안녕하세요? '이도형'입니다.\n"
     ]
    }
   ],
   "source": [
    "print(\"안녕하세요? '이도형'입니다.\")"
   ]
  },
  {
   "cell_type": "code",
   "execution_count": 46,
   "id": "332708f0-4f08-4978-9eea-624d7ac25841",
   "metadata": {},
   "outputs": [
    {
     "name": "stdout",
     "output_type": "stream",
     "text": [
      "안녕하세요? \"이도형\"입니다.\n"
     ]
    }
   ],
   "source": [
    "print('안녕하세요? \"이도형\"입니다.')"
   ]
  },
  {
   "cell_type": "code",
   "execution_count": 9,
   "id": "b4e6976c-5fc1-44ee-a5d5-cfd91e99f108",
   "metadata": {},
   "outputs": [
    {
     "name": "stdout",
     "output_type": "stream",
     "text": [
      "안녕하세요? '이도형'입니다.\n"
     ]
    }
   ],
   "source": [
    "print('안녕하세요? \\'이도형\\'입니다.')\n",
    "#escape 문자열"
   ]
  },
  {
   "cell_type": "code",
   "execution_count": 78,
   "id": "bbd49dda-2242-483d-87c6-d13918dcdfd0",
   "metadata": {},
   "outputs": [
    {
     "ename": "SyntaxError",
     "evalue": "invalid syntax (1503986235.py, line 1)",
     "output_type": "error",
     "traceback": [
      "\u001b[1;36m  Cell \u001b[1;32mIn[78], line 1\u001b[1;36m\u001b[0m\n\u001b[1;33m    a = ```\u001b[0m\n\u001b[1;37m        ^\u001b[0m\n\u001b[1;31mSyntaxError\u001b[0m\u001b[1;31m:\u001b[0m invalid syntax\n"
     ]
    }
   ],
   "source": [
    "a = ```\n",
    "여기는 문자열입니다.\n",
    "엔터를 쳐서 여러줄을 작성 할 수 있습니다.\n",
    "```"
   ]
  },
  {
   "cell_type": "code",
   "execution_count": 59,
   "id": "9b962ffe-8f71-4f07-a48a-daf938ab2f06",
   "metadata": {},
   "outputs": [
    {
     "name": "stdout",
     "output_type": "stream",
     "text": [
      "hello\n"
     ]
    }
   ],
   "source": [
    "print (a)"
   ]
  },
  {
   "cell_type": "code",
   "execution_count": 50,
   "id": "20ed5f74-fed4-4296-9575-24a324ba00e8",
   "metadata": {},
   "outputs": [
    {
     "name": "stdout",
     "output_type": "stream",
     "text": [
      "엔터를 입력해봐요 \n",
      "다음줄입니다.\n"
     ]
    }
   ],
   "source": [
    "print('엔터를 입력해봐요 \\n다음줄입니다.'"
   ]
  },
  {
   "cell_type": "code",
   "execution_count": 54,
   "id": "aa711669-676c-4981-96d4-ad8caba4102b",
   "metadata": {},
   "outputs": [
    {
     "name": "stdout",
     "output_type": "stream",
     "text": [
      "하나 둘 셋!"
     ]
    }
   ],
   "source": [
    "print('하나', '둘', '셋', end='!')   # end='!' 마지막에 !를 붙여주세요, 라는 의미 "
   ]
  },
  {
   "cell_type": "code",
   "execution_count": 58,
   "id": "1e839b5e-198b-43d9-af13-553642be84ab",
   "metadata": {},
   "outputs": [
    {
     "name": "stdout",
     "output_type": "stream",
     "text": [
      "하나! 둘! 셋\n"
     ]
    }
   ],
   "source": [
    "print('하나', '둘', '셋', sep='! ')   # sep='!' 은 처음에서 맨 뒤 앞 까지 !를 붙여주세요, 라는 의미"
   ]
  },
  {
   "cell_type": "markdown",
   "id": "97802ec3-b883-4b26-aa3b-6f22ed344405",
   "metadata": {},
   "source": [
    "#### string interpolation\n",
    "\n",
    "1. %-formatting\n",
    "2. str.format()\n",
    "3. f-string"
   ]
  },
  {
   "cell_type": "code",
   "execution_count": 62,
   "id": "2e77a850-fc4c-4e10-8f6c-dfc5fc101d63",
   "metadata": {},
   "outputs": [],
   "source": [
    "age = 20"
   ]
  },
  {
   "cell_type": "code",
   "execution_count": 63,
   "id": "b7a2ffe3-6d7e-48d2-b081-fcdb2590d99a",
   "metadata": {},
   "outputs": [
    {
     "name": "stdout",
     "output_type": "stream",
     "text": [
      "홍길동은 20 살입니다.\n"
     ]
    }
   ],
   "source": [
    "print('홍길동은 %s 살입니다.' %age)"
   ]
  },
  {
   "cell_type": "code",
   "execution_count": 66,
   "id": "4a68f08d-2ac7-4afa-85cb-83849f9a4486",
   "metadata": {},
   "outputs": [
    {
     "name": "stdout",
     "output_type": "stream",
     "text": [
      "홍길동은 20살입니다.\n"
     ]
    }
   ],
   "source": [
    "print('홍길동은 {}살입니다.' .format(age))"
   ]
  },
  {
   "cell_type": "code",
   "execution_count": 67,
   "id": "c8c4d259-392c-4eb8-a113-27c7ca06e46d",
   "metadata": {},
   "outputs": [
    {
     "name": "stdout",
     "output_type": "stream",
     "text": [
      "홍길동은 20살입니다.\n"
     ]
    }
   ],
   "source": [
    "print(f'홍길동은 {age}살입니다.')#포멧팅이 되어있는 문자열입니다 를 의미"
   ]
  },
  {
   "cell_type": "markdown",
   "id": "c856cb0a-21f4-4d84-8b87-8613e2d33df0",
   "metadata": {},
   "source": [
    "## 2. 연산자\n",
    "\n",
    "### 2-1 산술연산자"
   ]
  },
  {
   "cell_type": "code",
   "execution_count": 71,
   "id": "be005f26-fce4-4fd9-aa70-e1a746aaefb3",
   "metadata": {},
   "outputs": [],
   "source": [
    "a = 2\n",
    "b = 3"
   ]
  },
  {
   "cell_type": "code",
   "execution_count": 70,
   "id": "491e161a-7072-4ca7-969b-23db2a0cde1c",
   "metadata": {},
   "outputs": [
    {
     "name": "stdout",
     "output_type": "stream",
     "text": [
      "3\n",
      "-1\n",
      "2\n",
      "0.5\n",
      "1\n"
     ]
    }
   ],
   "source": [
    "print(a + b)\n",
    "print(a - b)\n",
    "print(a * b)\n",
    "print(a / b)\n",
    "print(a ** b) #** 은 a의 b 승 이라는 의미"
   ]
  },
  {
   "cell_type": "code",
   "execution_count": 75,
   "id": "41934377-e092-4790-87c4-69dfa2b1f112",
   "metadata": {},
   "outputs": [
    {
     "name": "stdout",
     "output_type": "stream",
     "text": [
      "0\n",
      "2\n",
      "(0, 2)\n"
     ]
    }
   ],
   "source": [
    "print(a // b)  # a를 b로 나눈 몫\n",
    "print(a % b)   # a를 b로 나누고 나머지 출력\n",
    "print(divmod(a,b)) # a를 b로 나눈 목, 나머지 출력\n",
    "\n",
    "#위에 있는것은 주로 알고리즘 문제를 풀때 사용한다"
   ]
  },
  {
   "cell_type": "markdown",
   "id": "461fc39b-d25a-49a7-afcb-ec2a87f6e723",
   "metadata": {},
   "source": [
    "### 2-2 비교 연산자"
   ]
  },
  {
   "cell_type": "code",
   "execution_count": 80,
   "id": "431fffe9-9b6a-43c5-b775-a3f792fc323e",
   "metadata": {},
   "outputs": [],
   "source": [
    "a = 5\n",
    "b = 10"
   ]
  },
  {
   "cell_type": "code",
   "execution_count": 81,
   "id": "23ba6874-2305-40de-ada0-c633d1f66366",
   "metadata": {},
   "outputs": [
    {
     "name": "stdout",
     "output_type": "stream",
     "text": [
      "False\n",
      "True\n",
      "False\n",
      "False\n"
     ]
    }
   ],
   "source": [
    "print(a > b)\n",
    "print(a < b)\n",
    "print(a >= b)\n",
    "print(a >= b)"
   ]
  },
  {
   "cell_type": "code",
   "execution_count": 84,
   "id": "7b67bf72-8a11-4f35-a64a-b565366cd292",
   "metadata": {},
   "outputs": [
    {
     "name": "stdout",
     "output_type": "stream",
     "text": [
      "False\n",
      "True\n"
     ]
    }
   ],
   "source": [
    "print(a == b)   # == 같다면, 참\n",
    "print(a != b)   # != 다르면, 참"
   ]
  },
  {
   "cell_type": "code",
   "execution_count": 88,
   "id": "c168e8c7-a1c3-4f04-af27-8d45c8312674",
   "metadata": {},
   "outputs": [
    {
     "name": "stdout",
     "output_type": "stream",
     "text": [
      "True\n",
      "False\n"
     ]
    }
   ],
   "source": [
    "print('hi' == 'hi')  # == 은 숫자, 문자를 비교 할 수 있다\n",
    "print('Hi' == 'hi')"
   ]
  },
  {
   "cell_type": "markdown",
   "id": "5e05334f-b1d8-4141-a64a-67999aa0db88",
   "metadata": {},
   "source": [
    "### 2-3 논리 연산자\n",
    "\n",
    "- and : 양쪽 모두 같으면 참, 하나라도 틀리면 거짓 / 양쪽 모두 Ture일때, True를 반환\n",
    "- or : 양쪽 모두 False일때, False를 반환\n",
    "- not : 값을 반대로 전환"
   ]
  },
  {
   "cell_type": "code",
   "execution_count": 90,
   "id": "5c915118-375c-4b9a-a3c2-63178b51eda5",
   "metadata": {},
   "outputs": [
    {
     "name": "stdout",
     "output_type": "stream",
     "text": [
      "True\n",
      "False\n",
      "False\n",
      "False\n"
     ]
    }
   ],
   "source": [
    "print(True and True)  # and는 같다면, 참으로 출력 / 틀리면, 거짓으로 출력\n",
    "print(True and False)\n",
    "print(False and False)\n",
    "print(False and False)"
   ]
  },
  {
   "cell_type": "code",
   "execution_count": 93,
   "id": "a5c207dc-fbf2-4c35-942c-e41d49acda18",
   "metadata": {},
   "outputs": [
    {
     "name": "stdout",
     "output_type": "stream",
     "text": [
      "True\n",
      "True\n",
      "True\n",
      "False\n"
     ]
    }
   ],
   "source": [
    "print(True or True) \n",
    "print(True or False)\n",
    "print(False or True)\n",
    "print(False or False)"
   ]
  },
  {
   "cell_type": "code",
   "execution_count": 94,
   "id": "7b5c9c95-806a-48cc-bf78-95d9dcda6b14",
   "metadata": {},
   "outputs": [
    {
     "name": "stdout",
     "output_type": "stream",
     "text": [
      "True\n",
      "False\n"
     ]
    }
   ],
   "source": [
    "print(True)\n",
    "print(not True)"
   ]
  },
  {
   "cell_type": "code",
   "execution_count": 116,
   "id": "e7a9abd0-e4b5-4e6d-a2d6-67e0e0537f70",
   "metadata": {},
   "outputs": [
    {
     "name": "stdout",
     "output_type": "stream",
     "text": [
      "5\n",
      "0\n",
      "0\n",
      "0\n"
     ]
    }
   ],
   "source": [
    "# 단축평가 (and)   1은 참 / 0 은 거짓, 1 이상의 숫자는 참이라고 생각한다\n",
    "# 단축평가(앞만 보고 연산) and 0뺸 숫자들은 다 true\n",
    "print(3 and 5)  #앞이 참이기 때문에 뒤에를 안보고 참이라고 생각하고 출력\n",
    "print(3 and 0)  #앞이 참이기 때문에 뒤에를 안보고 참이라고 생각하고 출력\n",
    "print(0 and 5)  #앞이 거짓이기 때문에 뒤에를 안보고 거짓이라고 생각하고 출력\n",
    "print(0 and 0)  #앞이 거짓이기 때문에 뒤에를 안보고 거짓이라고 생각하고 출력"
   ]
  },
  {
   "cell_type": "code",
   "execution_count": 117,
   "id": "3ced65f3-ac22-43fb-9286-a5bb14b3bf71",
   "metadata": {},
   "outputs": [
    {
     "name": "stdout",
     "output_type": "stream",
     "text": [
      "3\n",
      "3\n",
      "5\n",
      "0\n"
     ]
    }
   ],
   "source": [
    "# 단축평가(앞만 보고 연산) or \n",
    "print(3 or 5) #앞이 true 니깐 바로 앞의 값 출력\n",
    "print(3 or 0)\n",
    "print(0 or 5) #앞이 false니깐 뒤에 것으로 출력\n",
    "print(0 or 0)"
   ]
  },
  {
   "cell_type": "markdown",
   "id": "b7fa6643-e4c0-4cf2-a0e7-f03cfe811ace",
   "metadata": {},
   "source": [
    "### 2-3 복합연산자"
   ]
  },
  {
   "cell_type": "code",
   "execution_count": 11,
   "id": "c2eb0594-915e-48b0-b021-7e32d7044675",
   "metadata": {},
   "outputs": [],
   "source": [
    "a = 1\n",
    "b = 2"
   ]
  },
  {
   "cell_type": "code",
   "execution_count": 14,
   "id": "d4b08f41-0b1e-49d5-a454-6c73efb858a8",
   "metadata": {},
   "outputs": [],
   "source": [
    "a = a + 1"
   ]
  },
  {
   "cell_type": "code",
   "execution_count": 108,
   "id": "9b3c3c2e-a3b5-474f-9c0a-9f438ac17720",
   "metadata": {},
   "outputs": [],
   "source": [
    "#위에 있는것을 지금 아래와 같이 치환 할 수 있다\n",
    "a += b  # a에다가 1을 더해서 할당해주세요.\n",
    "a -+ b\n",
    "a *= b\n",
    "a /= b\n",
    "a //= b\n",
    "a %= b\n",
    "a **= b"
   ]
  },
  {
   "cell_type": "markdown",
   "id": "d6360cf7-35f1-4eef-80de-f039d4742220",
   "metadata": {},
   "source": [
    "### 2-4 기타 연산자"
   ]
  },
  {
   "cell_type": "code",
   "execution_count": 109,
   "id": "c4492e51-56cd-46ef-aeb4-c24b53c80f10",
   "metadata": {},
   "outputs": [],
   "source": [
    "a = 'hi'\n",
    "b = 'hello'"
   ]
  },
  {
   "cell_type": "code",
   "execution_count": 112,
   "id": "11571f46-8fd0-4b91-8ee8-2ed0fb051e22",
   "metadata": {},
   "outputs": [
    {
     "data": {
      "text/plain": [
       "'hihello'"
      ]
     },
     "execution_count": 112,
     "metadata": {},
     "output_type": "execute_result"
    }
   ],
   "source": [
    "a + b \n",
    "#concatenation 양쪽 문자를 연결할때, 숫자는 더해지지만 글자는 합쳐진다"
   ]
  },
  {
   "cell_type": "code",
   "execution_count": 117,
   "id": "251ad789-a926-46d6-b090-1f66cce5da58",
   "metadata": {},
   "outputs": [],
   "source": [
    "a = [1, 2, 3]\n",
    "b = [4, 5, 6]\n",
    "# [] 대괄호로 묶여 있는 것은 list(리스트)라고 부른다"
   ]
  },
  {
   "cell_type": "code",
   "execution_count": 118,
   "id": "b0e3227b-907b-4fae-baac-e910b86846d8",
   "metadata": {},
   "outputs": [
    {
     "data": {
      "text/plain": [
       "[1, 2, 3, 4, 5, 6]"
      ]
     },
     "execution_count": 118,
     "metadata": {},
     "output_type": "execute_result"
    }
   ],
   "source": [
    "a + b"
   ]
  },
  {
   "cell_type": "code",
   "execution_count": 17,
   "id": "505ef3f0-1ad0-4375-848b-5c7faaf970fa",
   "metadata": {},
   "outputs": [
    {
     "name": "stdout",
     "output_type": "stream",
     "text": [
      "True\n",
      "False\n"
     ]
    }
   ],
   "source": [
    "# containment 안에 들어있나요? 라고 물어보는것\n",
    "# in 은 애플 안에 a가 있나요 물어보는 것\n",
    "print('a' in 'apple')\n",
    "print('z' in 'apple')"
   ]
  },
  {
   "cell_type": "code",
   "execution_count": 122,
   "id": "0aec0630-ad5b-4b1a-9c22-e75850434fe3",
   "metadata": {},
   "outputs": [
    {
     "name": "stdout",
     "output_type": "stream",
     "text": [
      "True\n",
      "False\n"
     ]
    }
   ],
   "source": [
    "print(1 in [1, 2, 3])\n",
    "print(10 in [1, 2, 3])\n",
    "\n",
    "#list도 확인 할 수 있다"
   ]
  },
  {
   "cell_type": "code",
   "execution_count": 18,
   "id": "08e220e2-22bf-4536-9fde-5a6c8f7c7aa6",
   "metadata": {},
   "outputs": [
    {
     "name": "stdout",
     "output_type": "stream",
     "text": [
      "True\n",
      "140724441047848\n",
      "140724441047848\n"
     ]
    }
   ],
   "source": [
    "# identity 서로 같은지 확인하는 것\n",
    "# is 는 앙쪽이 같은지 묻는다.\n",
    "a = 1\n",
    "b = 1\n",
    "print(a is b)\n",
    "print(id(a))\n",
    "print(id(b))"
   ]
  },
  {
   "cell_type": "code",
   "execution_count": 132,
   "id": "b826462c-0151-49ed-b097-181f97a4ebf7",
   "metadata": {},
   "outputs": [
    {
     "name": "stdout",
     "output_type": "stream",
     "text": [
      "False\n",
      "2264164621168\n",
      "2264164621040\n"
     ]
    }
   ],
   "source": [
    "# identity 서로 같은지 확인하는 것\n",
    "# 데이터는 같지만 위치가 틀리다고 인식해서 거짓으로 출력 \n",
    "# -5 ~ 256 까지는 미리 같은 위치에 저장해 두지만 이 범위 밖은 미리 저장을 해 두지 않아서 위치가 틀림 그래서 거짓 출력\n",
    "# 완벽하게 같은 것만 참으로 출력한다\n",
    "a = 123123\n",
    "b = 123123\n",
    "print(a is b)\n",
    "print(id(a))\n",
    "print(id(b))"
   ]
  },
  {
   "cell_type": "markdown",
   "id": "08976d95-7b25-4fd7-87df-230ef4a2d9d3",
   "metadata": {},
   "source": [
    "### 연산자의 우선 순위\n",
    "\n",
    "0. ()를 통해 그룹 지정\n",
    "1. **\n",
    "2. 산술연산자 ( * , / )\n",
    "3. 산술연산자 ( + , - )\n",
    "4. 비교연산자, in, is\n",
    "5. not\n",
    "6. and\n",
    "7. or"
   ]
  },
  {
   "cell_type": "code",
   "execution_count": 133,
   "id": "dc5267ae-9ae5-4dba-9a59-e622b3013dec",
   "metadata": {},
   "outputs": [
    {
     "data": {
      "text/plain": [
       "-81"
      ]
     },
     "execution_count": 133,
     "metadata": {},
     "output_type": "execute_result"
    }
   ],
   "source": [
    "-3 ** 4\n",
    "# 우선 순위 때문에 3에 4승이 먼저 계산된다음에 - 가 붙었다\n"
   ]
  },
  {
   "cell_type": "code",
   "execution_count": 134,
   "id": "a6c669e4-1c42-4265-be52-708e985ba693",
   "metadata": {},
   "outputs": [
    {
     "name": "stdout",
     "output_type": "stream",
     "text": [
      "-81\n",
      "81\n"
     ]
    }
   ],
   "source": [
    "print(-3 ** 4)\n",
    "print((-3) ** 4)"
   ]
  },
  {
   "cell_type": "markdown",
   "id": "959a6d32-c098-429e-af01-295f97409b2c",
   "metadata": {},
   "source": [
    "## 3. 형변환\n",
    "### 3-1 암시적 형변환"
   ]
  },
  {
   "cell_type": "code",
   "execution_count": 20,
   "id": "a2a43ca9-eb97-4b0f-bc20-7ce624865db3",
   "metadata": {},
   "outputs": [],
   "source": [
    "a = True\n",
    "b = False\n",
    "c = 1"
   ]
  },
  {
   "cell_type": "code",
   "execution_count": 21,
   "id": "98030472-4e24-4d78-a57c-30292b0eba90",
   "metadata": {},
   "outputs": [
    {
     "name": "stdout",
     "output_type": "stream",
     "text": [
      "2\n",
      "1\n"
     ]
    }
   ],
   "source": [
    "print(a + c)\n",
    "print(b + c)"
   ]
  },
  {
   "cell_type": "code",
   "execution_count": 4,
   "id": "57695646-7f11-4c70-9b64-6c142a1ebcc5",
   "metadata": {},
   "outputs": [],
   "source": [
    "int_num = 3\n",
    "float_num = 3.3\n",
    "complex_num = 1 + 3j"
   ]
  },
  {
   "cell_type": "code",
   "execution_count": 5,
   "id": "037e7605-863e-46e7-a872-c95e5b54945e",
   "metadata": {},
   "outputs": [
    {
     "name": "stdout",
     "output_type": "stream",
     "text": [
      "6.3\n",
      "(4+3j)\n"
     ]
    }
   ],
   "source": [
    "print(int_num + float_num)\n",
    "print(int_num + complex_num)"
   ]
  },
  {
   "cell_type": "markdown",
   "id": "3eea542c-4d9d-46f2-98bf-0517251ab966",
   "metadata": {},
   "source": [
    "### 3-2 명시적 형변환\n",
    "\n",
    "- int() : string, float를 int로 변환\n",
    "- float() : string, int를 float로 변환\n",
    "- str() : int, float 등을 string으로 변환\n",
    "- bool() : int, list 등을 boolean으로 변환\n",
    "- -"
   ]
  },
  {
   "cell_type": "code",
   "execution_count": 6,
   "id": "36956ae6-d2a5-4c6a-9832-93db973ef4e9",
   "metadata": {},
   "outputs": [],
   "source": [
    "a = 1\n",
    "b = '번'"
   ]
  },
  {
   "cell_type": "code",
   "execution_count": 8,
   "id": "2ad044c6-640f-4c81-910f-7d5b640086ed",
   "metadata": {},
   "outputs": [
    {
     "ename": "TypeError",
     "evalue": "unsupported operand type(s) for +: 'int' and 'str'",
     "output_type": "error",
     "traceback": [
      "\u001b[1;31m---------------------------------------------------------------------------\u001b[0m",
      "\u001b[1;31mTypeError\u001b[0m                                 Traceback (most recent call last)",
      "Cell \u001b[1;32mIn[8], line 1\u001b[0m\n\u001b[1;32m----> 1\u001b[0m \u001b[38;5;28mprint\u001b[39m(\u001b[43ma\u001b[49m\u001b[43m \u001b[49m\u001b[38;5;241;43m+\u001b[39;49m\u001b[43m \u001b[49m\u001b[43mb\u001b[49m) \u001b[38;5;66;03m# 숫자와 문자는 연결이 되지 않는다 그냥하면\u001b[39;00m\n",
      "\u001b[1;31mTypeError\u001b[0m: unsupported operand type(s) for +: 'int' and 'str'"
     ]
    }
   ],
   "source": [
    "print(a + b) # 숫자와 문자는 연결이 되지 않는다 그냥하면"
   ]
  },
  {
   "cell_type": "code",
   "execution_count": 14,
   "id": "4a00babb-e02f-465d-a327-6ecce3a91ea0",
   "metadata": {},
   "outputs": [
    {
     "name": "stdout",
     "output_type": "stream",
     "text": [
      "3번\n"
     ]
    }
   ],
   "source": [
    "print(str(a) + b)  \n",
    "# int(숫자)를 str(a)로 만들면 숫자가 문자로 변경된다. \n",
    "# 반대로 str(문자)를 int(a)로 만들면 문자가 숫자로 변경된다."
   ]
  },
  {
   "cell_type": "code",
   "execution_count": 11,
   "id": "7f089480-7f83-47f3-ae82-669dfc368a89",
   "metadata": {},
   "outputs": [],
   "source": [
    "a = '3'"
   ]
  },
  {
   "cell_type": "code",
   "execution_count": 12,
   "id": "2e976b57-1dee-4ea8-a24a-2dcf24c818f0",
   "metadata": {},
   "outputs": [
    {
     "data": {
      "text/plain": [
       "int"
      ]
     },
     "execution_count": 12,
     "metadata": {},
     "output_type": "execute_result"
    }
   ],
   "source": [
    "type(int(a))"
   ]
  },
  {
   "cell_type": "code",
   "execution_count": 15,
   "id": "7ebc325e-947b-48df-8202-760c07e76e21",
   "metadata": {},
   "outputs": [],
   "source": [
    "a = \"3.3\""
   ]
  },
  {
   "cell_type": "code",
   "execution_count": 17,
   "id": "bc35e293-b154-4a0c-a4f5-78bbbcbb8ac4",
   "metadata": {},
   "outputs": [
    {
     "ename": "ValueError",
     "evalue": "invalid literal for int() with base 10: '3.3'",
     "output_type": "error",
     "traceback": [
      "\u001b[1;31m---------------------------------------------------------------------------\u001b[0m",
      "\u001b[1;31mValueError\u001b[0m                                Traceback (most recent call last)",
      "Cell \u001b[1;32mIn[17], line 1\u001b[0m\n\u001b[1;32m----> 1\u001b[0m \u001b[38;5;28mtype\u001b[39m(\u001b[38;5;28;43mint\u001b[39;49m\u001b[43m(\u001b[49m\u001b[43ma\u001b[49m\u001b[43m)\u001b[49m)\n",
      "\u001b[1;31mValueError\u001b[0m: invalid literal for int() with base 10: '3.3'"
     ]
    }
   ],
   "source": [
    "type(int(a))\n",
    "# 십진수 데이터만 변환이 가능하다 즉 정수만 가능하다, 왜냐 3.3은 실수이기 때문에"
   ]
  },
  {
   "cell_type": "code",
   "execution_count": 20,
   "id": "1b9e49cf-9e25-42d7-82b6-b72ee4d0daf3",
   "metadata": {},
   "outputs": [
    {
     "data": {
      "text/plain": [
       "float"
      ]
     },
     "execution_count": 20,
     "metadata": {},
     "output_type": "execute_result"
    }
   ],
   "source": [
    "type(float(a))\n",
    "# 실수를 변경하기 위해서는 float(a) 로 변경"
   ]
  },
  {
   "cell_type": "code",
   "execution_count": 24,
   "id": "590ecb8c-8219-4eeb-a579-206a3e79f2c1",
   "metadata": {},
   "outputs": [],
   "source": [
    "a = 1\n",
    "b = 0\n",
    "#데이터가 있으면 참, 데이터가 없거나 비여있으면 거짓"
   ]
  },
  {
   "cell_type": "code",
   "execution_count": 22,
   "id": "6bdf72e2-dcc2-47e3-8f4b-5c7d79f765a4",
   "metadata": {},
   "outputs": [
    {
     "data": {
      "text/plain": [
       "True"
      ]
     },
     "execution_count": 22,
     "metadata": {},
     "output_type": "execute_result"
    }
   ],
   "source": [
    "bool(a)"
   ]
  },
  {
   "cell_type": "code",
   "execution_count": 23,
   "id": "61ba1c6a-5b03-473c-84e3-d83fb770f208",
   "metadata": {},
   "outputs": [
    {
     "data": {
      "text/plain": [
       "False"
      ]
     },
     "execution_count": 23,
     "metadata": {},
     "output_type": "execute_result"
    }
   ],
   "source": [
    "bool(b)"
   ]
  },
  {
   "cell_type": "code",
   "execution_count": 25,
   "id": "43889f06-26d6-4870-afcc-77c87c5e1c3d",
   "metadata": {},
   "outputs": [
    {
     "name": "stdout",
     "output_type": "stream",
     "text": [
      "False\n",
      "True\n"
     ]
    }
   ],
   "source": [
    "print(bool([]))\n",
    "print(bool([1, 2, 3]))"
   ]
  },
  {
   "cell_type": "markdown",
   "id": "f120a834-181b-49ab-bc59-cc1fb82e98c0",
   "metadata": {},
   "source": [
    "## 4. 시퀀스(sequence) 자료형\n",
    "\n",
    "시퀀스는 데이터의 순서대로 나열된 자료구조. (※주의:순서대로 나열되었다는 것은 정렬된것과 다르다)\n",
    "\n",
    "1. 리스트\n",
    "2. 튜플\n",
    "3. 레인지\n",
    "4. 문자열"
   ]
  },
  {
   "cell_type": "markdown",
   "id": "4a5d39f8-14f3-4a50-8d75-5bd62c45ab13",
   "metadata": {},
   "source": [
    "### 4-1 List (배열)\n",
    "\n",
    "- 선언 : 변수이름 = [value1, value2, value3 ...] # value에는 int, str, boolean이 들어갈수 있다.\n",
    "- 접근 : 변수이름[index]\n",
    "\n",
    "  리스트는 0,1,2,3,4~ 로 시작을 하며 0이 첫번째이고 1이 두번째이다.\n",
    "  리스트는 location을 통해 수정이 가능\n"
   ]
  },
  {
   "cell_type": "code",
   "execution_count": 23,
   "id": "22eb0b3c-8a87-47e9-a4e1-14c91e2d7269",
   "metadata": {},
   "outputs": [
    {
     "name": "stdout",
     "output_type": "stream",
     "text": [
      "1\n",
      "<class 'list'>\n"
     ]
    }
   ],
   "source": [
    "L = []\n",
    "print(1)\n",
    "print(type(L))"
   ]
  },
  {
   "cell_type": "code",
   "execution_count": 38,
   "id": "a656055f-82d1-4e0b-b049-dfc4fabad245",
   "metadata": {},
   "outputs": [
    {
     "name": "stdout",
     "output_type": "stream",
     "text": [
      "['서울', '대구', '대전']\n",
      "대구\n",
      "서울\n",
      "대전\n",
      "['서울', '부산', '대전']\n"
     ]
    }
   ],
   "source": [
    "location = ['서울', '대구', '대전']\n",
    "print(location)\n",
    "print(location[1])\n",
    "print(location[0])\n",
    "print(location[2])\n",
    "location[1] = '부산'  #로케이션을 통해 1번 데이터를 대구에서 부산으로 변경\n",
    "print(location)"
   ]
  },
  {
   "cell_type": "code",
   "execution_count": 33,
   "id": "4c6942e3-d3dc-4ff0-adbc-6512031ad561",
   "metadata": {},
   "outputs": [
    {
     "name": "stdout",
     "output_type": "stream",
     "text": [
      "1\n",
      "hi\n"
     ]
    }
   ],
   "source": [
    "a = 1\n",
    "print(a)\n",
    "a = 'hi'\n",
    "print(a)"
   ]
  },
  {
   "cell_type": "markdown",
   "id": "79fb2772-f131-4f5f-9274-b0d5a9205c91",
   "metadata": {},
   "source": [
    "### 4.2 Tuple(튜플)\n",
    "\n",
    "- 선언 : 변수이름 = (value1, value2, value3)\n",
    "- 접근 : 변수이름[index]\n",
    "\n",
    "- 튜플은 소괄호로 선언을 하고 대괄호로 접근을 하며, 리스트와 유사하지만 수정 불가능(immitable)하다."
   ]
  },
  {
   "cell_type": "code",
   "execution_count": 35,
   "id": "424d9ede-a570-41c3-838f-908013b5cc78",
   "metadata": {},
   "outputs": [
    {
     "name": "stdout",
     "output_type": "stream",
     "text": [
      "(1, 2, 3)\n",
      "<class 'tuple'>\n",
      "3\n"
     ]
    }
   ],
   "source": [
    "t = (1, 2, 3)\n",
    "print(t)\n",
    "print(type(t))\n",
    "print(t[2])"
   ]
  },
  {
   "cell_type": "code",
   "execution_count": 24,
   "id": "4eed7401-7910-4197-a7f2-f506eeb2a07b",
   "metadata": {},
   "outputs": [
    {
     "ename": "NameError",
     "evalue": "name 't' is not defined",
     "output_type": "error",
     "traceback": [
      "\u001b[1;31m---------------------------------------------------------------------------\u001b[0m",
      "\u001b[1;31mNameError\u001b[0m                                 Traceback (most recent call last)",
      "Cell \u001b[1;32mIn[24], line 1\u001b[0m\n\u001b[1;32m----> 1\u001b[0m \u001b[43mt\u001b[49m[\u001b[38;5;241m2\u001b[39m] \u001b[38;5;241m=\u001b[39m \u001b[38;5;241m5\u001b[39m  \u001b[38;5;66;03m# 튜플은 한번 값을 설정하면 수정이 불가능하기 때문에 에러가 뜸\u001b[39;00m\n",
      "\u001b[1;31mNameError\u001b[0m: name 't' is not defined"
     ]
    }
   ],
   "source": [
    "t[2] = 5  # 튜플은 한번 값을 설정하면 수정이 불가능하기 때문에 에러가 뜸"
   ]
  },
  {
   "cell_type": "code",
   "execution_count": 40,
   "id": "4bf97c40-30c7-427a-9b6e-330ec003000b",
   "metadata": {},
   "outputs": [
    {
     "name": "stdout",
     "output_type": "stream",
     "text": [
      "1 2\n",
      "2 1\n"
     ]
    }
   ],
   "source": [
    "x, y = (1, 2)\n",
    "print(x, y)\n",
    "\n",
    "x, y = y, x\n",
    "print(x, y)"
   ]
  },
  {
   "cell_type": "markdown",
   "id": "3e8946bc-3daf-4d12-8c12-bf73d2ca8b48",
   "metadata": {},
   "source": [
    "### 4-3 Range (범위)\n",
    "\n",
    "- range(n) : 0 부터 n-1 까지 범위\n",
    "- range(n, m) : n 부터 m 까지 범위\n",
    "- range(n, m, s) : n 부터 m-1까지 +s만큼 증가하는 범위 / s는 간격을 의미 그래서 n 부터 m 까지의 숫자를 표시하는데 s의 간격으로 증가해서 표시\n"
   ]
  },
  {
   "cell_type": "code",
   "execution_count": 41,
   "id": "999a1bfa-14e7-40b2-85d7-47a126fb159d",
   "metadata": {},
   "outputs": [
    {
     "name": "stdout",
     "output_type": "stream",
     "text": [
      "<class 'range'>\n"
     ]
    }
   ],
   "source": [
    "a = range(1)\n",
    "print(type(a))"
   ]
  },
  {
   "cell_type": "code",
   "execution_count": 42,
   "id": "9c49aede-78ab-4439-ab55-cf7702295b24",
   "metadata": {},
   "outputs": [
    {
     "name": "stdout",
     "output_type": "stream",
     "text": [
      "range(0, 10)\n",
      "[0, 1, 2, 3, 4, 5, 6, 7, 8, 9]\n"
     ]
    }
   ],
   "source": [
    "a = range(10)\n",
    "print(a)\n",
    "print(list(a))"
   ]
  },
  {
   "cell_type": "code",
   "execution_count": 44,
   "id": "f40dfb9c-ad84-4a8a-b8e9-4ec5601c4ea9",
   "metadata": {},
   "outputs": [
    {
     "name": "stdout",
     "output_type": "stream",
     "text": [
      "[5, 6, 7, 8, 9, 10, 11, 12, 13, 14]\n"
     ]
    }
   ],
   "source": [
    "a = range(5, 15)\n",
    "print(list(a))"
   ]
  },
  {
   "cell_type": "code",
   "execution_count": 45,
   "id": "cf0d17f1-b651-48a5-b30e-573b7cf0aede",
   "metadata": {},
   "outputs": [
    {
     "name": "stdout",
     "output_type": "stream",
     "text": [
      "[1, 3, 5, 7, 9]\n"
     ]
    }
   ],
   "source": [
    "a = range(1, 10, 2)\n",
    "print(list(a))"
   ]
  },
  {
   "cell_type": "code",
   "execution_count": 46,
   "id": "e7156e8c-6919-47ae-8e5f-2daccd15de40",
   "metadata": {},
   "outputs": [
    {
     "name": "stdout",
     "output_type": "stream",
     "text": [
      "[-1, -2, -3, -4, -5, -6, -7, -8, -9]\n"
     ]
    }
   ],
   "source": [
    "a = range(-1, -10, -1)\n",
    "print(list(a))"
   ]
  },
  {
   "cell_type": "markdown",
   "id": "44cbfe21-783c-4c4a-8c46-85f8e8bf154f",
   "metadata": {},
   "source": [
    "### 4-4 String\n",
    "\n",
    "기본 데이터 구조 참고"
   ]
  },
  {
   "cell_type": "markdown",
   "id": "e096db7e-3668-442f-a245-aad21440c1a1",
   "metadata": {},
   "source": [
    "### 4-5 시퀀스에서 활용가능한 연산/함수"
   ]
  },
  {
   "cell_type": "code",
   "execution_count": 54,
   "id": "e6ff9c33-a2cc-48ab-981b-5fd8f13c9ec3",
   "metadata": {},
   "outputs": [],
   "source": [
    "my_list = [1, 2, 3, 4, 5]\n",
    "my_tuple = (1, 2, 3, 4, 5)\n",
    "my_range = range(1, 100)\n",
    "my_string = '12345'"
   ]
  },
  {
   "cell_type": "code",
   "execution_count": 48,
   "id": "0db2999e-57b1-4b07-9d37-edc2c91503ea",
   "metadata": {},
   "outputs": [
    {
     "name": "stdout",
     "output_type": "stream",
     "text": [
      "2\n",
      "2\n",
      "2\n",
      "2\n"
     ]
    }
   ],
   "source": [
    "# indexing : 인덱스 접근을 했다\n",
    "print(my_list[1])\n",
    "print(my_tuple[1])\n",
    "print(my_range[1])\n",
    "print(my_string[1])"
   ]
  },
  {
   "cell_type": "code",
   "execution_count": 50,
   "id": "df762302-ef2c-4188-a3c3-a3f3771b5d00",
   "metadata": {},
   "outputs": [
    {
     "name": "stdout",
     "output_type": "stream",
     "text": [
      "[2, 3]\n",
      "(2, 3)\n",
      "range(2, 4)\n",
      "23\n"
     ]
    }
   ],
   "source": [
    "# slicing a ~ b까지의 범위를 지정하는거\n",
    "print(my_list[1:3])\n",
    "print(my_tuple[1:3])\n",
    "print(my_range[1:3])\n",
    "print(my_string[1:3])"
   ]
  },
  {
   "cell_type": "code",
   "execution_count": 57,
   "id": "c8a338f9-d0e6-445f-b571-e311ddd68c72",
   "metadata": {},
   "outputs": [
    {
     "data": {
      "text/plain": [
       "range(3, 51, 2)"
      ]
     },
     "execution_count": 57,
     "metadata": {},
     "output_type": "execute_result"
    }
   ],
   "source": [
    "# slicing (k간격으로)\n",
    "my_range[2:50:2]"
   ]
  },
  {
   "cell_type": "code",
   "execution_count": 58,
   "id": "355059ac-a25a-4d85-9d28-56306471efa1",
   "metadata": {},
   "outputs": [
    {
     "data": {
      "text/plain": [
       "[3, 5]"
      ]
     },
     "execution_count": 58,
     "metadata": {},
     "output_type": "execute_result"
    }
   ],
   "source": [
    "list(my_range[2:6:2])"
   ]
  },
  {
   "cell_type": "code",
   "execution_count": 60,
   "id": "20fbb2ae-162d-4a3e-8ff3-3551fa5fee67",
   "metadata": {},
   "outputs": [
    {
     "name": "stdout",
     "output_type": "stream",
     "text": [
      "True\n",
      "True\n",
      "True\n",
      "True\n"
     ]
    }
   ],
   "source": [
    "# in으로 있는지 확인\n",
    "print(1 in my_list)\n",
    "print(1 in my_tuple)\n",
    "print(1 in my_range)\n",
    "print('1' in my_string)  #애는 문자열이여서 ''  처리"
   ]
  },
  {
   "cell_type": "code",
   "execution_count": 62,
   "id": "e89c8602-646a-483c-905a-97499a499e9d",
   "metadata": {},
   "outputs": [
    {
     "name": "stdout",
     "output_type": "stream",
     "text": [
      "False\n",
      "False\n",
      "False\n",
      "False\n"
     ]
    }
   ],
   "source": [
    "# not in 은 없는지 확인\n",
    "print(1 not in my_list)\n",
    "print(1 not in my_tuple)\n",
    "print(1 not in my_range)\n",
    "print('1'not in my_string)  #애는 문자열이여서 ''  처리"
   ]
  },
  {
   "cell_type": "code",
   "execution_count": 64,
   "id": "bc08a900-ef7e-488f-9109-d209be27ebab",
   "metadata": {},
   "outputs": [
    {
     "name": "stdout",
     "output_type": "stream",
     "text": [
      "[1, 2, 3, 4, 5, 1, 2, 3]\n"
     ]
    }
   ],
   "source": [
    "# concatenation\n",
    "print(my_list + [1, 2, 3])"
   ]
  },
  {
   "cell_type": "code",
   "execution_count": 66,
   "id": "26c82388-dfb7-4748-9216-628d02139806",
   "metadata": {},
   "outputs": [
    {
     "name": "stdout",
     "output_type": "stream",
     "text": [
      "[0, 0, 0, 0, 0, 0, 0, 0, 0, 0]\n",
      "[[0, 0, 0, 0, 0, 0, 0, 0, 0, 0], [0, 0, 0, 0, 0, 0, 0, 0, 0, 0], [0, 0, 0, 0, 0, 0, 0, 0, 0, 0], [0, 0, 0, 0, 0, 0, 0, 0, 0, 0], [0, 0, 0, 0, 0, 0, 0, 0, 0, 0], [0, 0, 0, 0, 0, 0, 0, 0, 0, 0], [0, 0, 0, 0, 0, 0, 0, 0, 0, 0], [0, 0, 0, 0, 0, 0, 0, 0, 0, 0], [0, 0, 0, 0, 0, 0, 0, 0, 0, 0], [0, 0, 0, 0, 0, 0, 0, 0, 0, 0]]\n"
     ]
    }
   ],
   "source": [
    "# *\n",
    "print([0] * 10)\n",
    "print([[0] * 10] *10)  #표만들때 이용"
   ]
  },
  {
   "cell_type": "code",
   "execution_count": 71,
   "id": "09c1f78a-882d-4b2f-9762-357ed9e135c3",
   "metadata": {},
   "outputs": [
    {
     "name": "stdout",
     "output_type": "stream",
     "text": [
      "5\n"
     ]
    }
   ],
   "source": [
    "print(len(my_list))\n",
    "# len길이를 출력해주세요"
   ]
  },
  {
   "cell_type": "code",
   "execution_count": 72,
   "id": "01048082-3304-4c50-b9a6-cf04d9939cee",
   "metadata": {},
   "outputs": [
    {
     "name": "stdout",
     "output_type": "stream",
     "text": [
      "1\n"
     ]
    }
   ],
   "source": [
    "print(min(my_list))"
   ]
  },
  {
   "cell_type": "code",
   "execution_count": 73,
   "id": "37e65446-aea1-4dc1-99f1-c35473f2bfd3",
   "metadata": {},
   "outputs": [
    {
     "name": "stdout",
     "output_type": "stream",
     "text": [
      "5\n"
     ]
    }
   ],
   "source": [
    "print(max(my_list))"
   ]
  },
  {
   "cell_type": "markdown",
   "id": "2f7aee2f-0a09-4bad-bee4-ae1d907a0b15",
   "metadata": {},
   "source": [
    "## 5. 시퀀스 데이터가 아닌 자료구조"
   ]
  },
  {
   "cell_type": "markdown",
   "id": "592b9c16-25cd-4f50-bb9f-523578b94f74",
   "metadata": {},
   "source": [
    "### 5-1 set\n",
    "\n",
    "수학에서 사용하는 집합과 동일하게 처리 ( 중복된 값이 없음)\n",
    "\n",
    "- 선언 : 변수이름 = {value1, value2, value3 ... }\n",
    "\n",
    "시퀀스데이터는 순서가 있는 애들이며\n",
    "시퀀스데이터가 아닌 애들은 순서가 없어서 순서로 접근을 못함"
   ]
  },
  {
   "cell_type": "code",
   "execution_count": null,
   "id": "c877c778-7f71-4105-949b-b75f919dfe20",
   "metadata": {},
   "outputs": [],
   "source": []
  },
  {
   "cell_type": "code",
   "execution_count": 82,
   "id": "a90ef800-9529-4fca-830b-c30fd414c2c3",
   "metadata": {},
   "outputs": [],
   "source": [
    "my_set_a = {1, 2, 3, 4, 5}\n",
    "my_set_b = {3, 4, 5, 6, 7}"
   ]
  },
  {
   "cell_type": "code",
   "execution_count": 86,
   "id": "7e2ec196-44c4-465d-833f-9d4ec6bb275d",
   "metadata": {},
   "outputs": [
    {
     "name": "stdout",
     "output_type": "stream",
     "text": [
      "{1, 2}\n",
      "{1, 2, 3, 4, 5, 6, 7}\n",
      "{3, 4, 5}\n"
     ]
    }
   ],
   "source": [
    "print(my_set_a - my_set_b)\n",
    "print(my_set_a | my_set_b) # 합집합\n",
    "print(my_set_a & my_set_b) # 교집합"
   ]
  },
  {
   "cell_type": "code",
   "execution_count": 87,
   "id": "369dd381-9ef4-4dca-aa71-b586d416e5c1",
   "metadata": {},
   "outputs": [
    {
     "name": "stdout",
     "output_type": "stream",
     "text": [
      "[1, 2, 3, 4, 5, 6, 7]\n"
     ]
    }
   ],
   "source": [
    "my_list = [1, 1, 1, 1, 1, 1, 1, 1, 2, 3, 4, 5, 6, 7]  # 중복된 값을 정리하고 싶으면 set(집합의 형식으로 변환)으로 변경 했다 다시 리스트로 변경 \n",
    "print(list(set(my_list)))"
   ]
  },
  {
   "cell_type": "markdown",
   "id": "f790cd44-88d2-4fbd-bc6f-6a5541fab927",
   "metadata": {},
   "source": [
    "### 5-2 Dictonary\n",
    "\n",
    "- 선업 : 변수이름 = {key1: value1, key2: value2, ...}\n",
    "- 접근 : 변수이름[key]\n",
    "\n",
    "- dictionary는 key와 value가 쌍으로 이루어져있다 # 하나만 이용한다면 list추천\n",
    "- key에는 immutable한 모든것을 사용가능 (불변값 : string, integer...)\n",
    "- value에는 모든 데이터 가능 (list,dictionary도 가능)"
   ]
  },
  {
   "cell_type": "code",
   "execution_count": 91,
   "id": "048a6a2d-757b-4976-b554-2473c0a109f4",
   "metadata": {},
   "outputs": [
    {
     "data": {
      "text/plain": [
       "'02'"
      ]
     },
     "execution_count": 91,
     "metadata": {},
     "output_type": "execute_result"
    }
   ],
   "source": [
    "my_dict = {'서울': '02', '경기' : '031'}\n",
    "my_dict['서울']"
   ]
  },
  {
   "cell_type": "code",
   "execution_count": 92,
   "id": "c0a41f30-14da-4f4e-a810-837b066bf835",
   "metadata": {},
   "outputs": [],
   "source": [
    "dict_a = {\n",
    "    'name' : \"changhee\",\n",
    "    'location': 'seoul',\n",
    "    'location': 'seorl2',\n",
    "}"
   ]
  },
  {
   "cell_type": "code",
   "execution_count": 93,
   "id": "b1d292de-57f2-4634-a97e-f9796215635e",
   "metadata": {},
   "outputs": [
    {
     "name": "stdout",
     "output_type": "stream",
     "text": [
      "{'name': 'changhee', 'location': 'seorl2'}\n"
     ]
    }
   ],
   "source": [
    "print(dict_a)"
   ]
  },
  {
   "cell_type": "code",
   "execution_count": 94,
   "id": "4180e58b-8e12-43bf-b435-342d6abee497",
   "metadata": {},
   "outputs": [
    {
     "data": {
      "text/plain": [
       "dict_keys(['name', 'location'])"
      ]
     },
     "execution_count": 94,
     "metadata": {},
     "output_type": "execute_result"
    }
   ],
   "source": [
    "dict_a.keys()"
   ]
  },
  {
   "cell_type": "code",
   "execution_count": 95,
   "id": "4b72dbf3-93f5-4afa-99fa-510871b3603f",
   "metadata": {},
   "outputs": [
    {
     "data": {
      "text/plain": [
       "dict_values(['changhee', 'seorl2'])"
      ]
     },
     "execution_count": 95,
     "metadata": {},
     "output_type": "execute_result"
    }
   ],
   "source": [
    "dict_a.values()"
   ]
  },
  {
   "cell_type": "markdown",
   "id": "2ac55fe4-d769-47fe-a071-998a9ac1704a",
   "metadata": {},
   "source": [
    "# 데이터 타입\n",
    "\n",
    "1. Number\n",
    "2. Boolean\n",
    "3. String\n",
    "\n",
    "# 자료구조\n",
    "\n",
    "- 시퀀스 자료형\n",
    "\n",
    "1. [List] : mutable -> 수정이 가능  ※주로 많이 사용함\n",
    "2. (Tuple) : immutable\n",
    "3. range() : immutable\n",
    "4. 'string' : immutable            ※주로 많이 사용함\n",
    "\n",
    "- 시퀀스가 아닌 자료형\n",
    "\n",
    "1. {set} : mutable\n",
    "2. {dict: ionary} ; mutable         ※주로 많이 사용함"
   ]
  },
  {
   "cell_type": "code",
   "execution_count": 118,
   "id": "d95ff196-3573-4c4d-8fa9-b297eff1b269",
   "metadata": {},
   "outputs": [],
   "source": [
    "result = divmod(5, 2)"
   ]
  },
  {
   "cell_type": "code",
   "execution_count": 121,
   "id": "2361bdf7-764a-4242-bea7-db2b3b38658b",
   "metadata": {},
   "outputs": [
    {
     "name": "stdout",
     "output_type": "stream",
     "text": [
      "몫 :  2\n",
      "나머지:  1\n"
     ]
    }
   ],
   "source": [
    "print('몫 : ', result[0])  # [0] 0번째 위치에 있는 인덱스 출력\n",
    "print('나머지: ', result[1]) # [1] 1번째 위치에 있는 인덱스 출력"
   ]
  },
  {
   "cell_type": "code",
   "execution_count": null,
   "id": "eb6af0ab-620d-47e0-992a-77c352e81204",
   "metadata": {},
   "outputs": [],
   "source": []
  },
  {
   "cell_type": "code",
   "execution_count": null,
   "id": "9d1493b5-4ca2-482e-88cc-322b4839d4b1",
   "metadata": {},
   "outputs": [],
   "source": []
  }
 ],
 "metadata": {
  "kernelspec": {
   "display_name": "Python 3 (ipykernel)",
   "language": "python",
   "name": "python3"
  },
  "language_info": {
   "codemirror_mode": {
    "name": "ipython",
    "version": 3
   },
   "file_extension": ".py",
   "mimetype": "text/x-python",
   "name": "python",
   "nbconvert_exporter": "python",
   "pygments_lexer": "ipython3",
   "version": "3.11.4"
  }
 },
 "nbformat": 4,
 "nbformat_minor": 5
}
